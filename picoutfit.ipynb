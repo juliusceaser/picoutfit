{
 "cells": [
  {
   "cell_type": "code",
   "execution_count": 10,
   "metadata": {
    "collapsed": false
   },
   "outputs": [],
   "source": [
    "import graphlab as gl\n",
    "import os\n",
    "from IPython.display import Image\n",
    "from IPython.display import display\n",
    "\n",
    "import PIL \n",
    "\n",
    "\n",
    "## Set a variable for the path to the data and the model directory\n",
    "path_to_dir = \"../data_and_model/\""
   ]
  },
  {
   "cell_type": "code",
   "execution_count": 3,
   "metadata": {
    "collapsed": false
   },
   "outputs": [
    {
     "data": {
      "text/plain": [
       "'../data_and_model/'"
      ]
     },
     "execution_count": 3,
     "metadata": {},
     "output_type": "execute_result"
    }
   ],
   "source": [
    "path_to_dir"
   ]
  },
  {
   "cell_type": "code",
   "execution_count": 18,
   "metadata": {
    "collapsed": false
   },
   "outputs": [
    {
     "data": {
      "text/plain": [
       "['zara_10.png',\n",
       " 'zara_100.png',\n",
       " 'zara_101.png',\n",
       " 'zara_102.png',\n",
       " 'zara_103.png',\n",
       " 'zara_104.png',\n",
       " 'zara_105.png',\n",
       " 'zara_106.png',\n",
       " 'zara_107.png']"
      ]
     },
     "execution_count": 18,
     "metadata": {},
     "output_type": "execute_result"
    }
   ],
   "source": [
    "path1 = path_to_dir + \"zara_pics\"\n",
    "\n",
    "\n",
    "    \n",
    "#pic_list = [p.replace(' ', '_') for p in pic_list]\n",
    "\n",
    "root = path1\n",
    "for item in os.listdir(root):\n",
    "    fullpath = os.path.join(root, item)\n",
    "    os.rename(fullpath, fullpath.replace(' ', '_'))\n",
    "    os.rename(fullpath, fullpath.replace( '(', ''))\n",
    "    os.rename(fullpath, fullpath.replace( ')', ''))\n",
    "\n",
    "pic_list = os.listdir(path1)\n",
    "new_list = sorted(pic_list)\n",
    "new_list_2 = new_list[1:10]\n",
    "\n",
    "new_list_2\n",
    "\n"
   ]
  },
  {
   "cell_type": "code",
   "execution_count": 19,
   "metadata": {
    "collapsed": false
   },
   "outputs": [
    {
     "data": {
      "text/html": [
       "<pre>Invalid PNG file\t file: /Users/juliusnagel/Desktop/picoutfit/data_and_model/zara_pics/zara_373.png</pre>"
      ],
      "text/plain": [
       "Invalid PNG file\t file: /Users/juliusnagel/Desktop/picoutfit/data_and_model/zara_pics/zara_373.png"
      ]
     },
     "metadata": {},
     "output_type": "display_data"
    },
    {
     "data": {
      "text/html": [
       "<pre>Invalid PNG file\t file: /Users/juliusnagel/Desktop/picoutfit/data_and_model/zara_pics/zara_121.png</pre>"
      ],
      "text/plain": [
       "Invalid PNG file\t file: /Users/juliusnagel/Desktop/picoutfit/data_and_model/zara_pics/zara_121.png"
      ]
     },
     "metadata": {},
     "output_type": "display_data"
    },
    {
     "data": {
      "text/html": [
       "<pre>Invalid PNG file\t file: /Users/juliusnagel/Desktop/picoutfit/data_and_model/zara_pics/zara_629.png</pre>"
      ],
      "text/plain": [
       "Invalid PNG file\t file: /Users/juliusnagel/Desktop/picoutfit/data_and_model/zara_pics/zara_629.png"
      ]
     },
     "metadata": {},
     "output_type": "display_data"
    },
    {
     "data": {
      "text/html": [
       "<pre>Invalid PNG file\t file: /Users/juliusnagel/Desktop/picoutfit/data_and_model/zara_pics/zara_618.png</pre>"
      ],
      "text/plain": [
       "Invalid PNG file\t file: /Users/juliusnagel/Desktop/picoutfit/data_and_model/zara_pics/zara_618.png"
      ]
     },
     "metadata": {},
     "output_type": "display_data"
    },
    {
     "data": {
      "text/html": [
       "<pre>Invalid PNG file\t file: /Users/juliusnagel/Desktop/picoutfit/data_and_model/zara_pics/zara_163.png</pre>"
      ],
      "text/plain": [
       "Invalid PNG file\t file: /Users/juliusnagel/Desktop/picoutfit/data_and_model/zara_pics/zara_163.png"
      ]
     },
     "metadata": {},
     "output_type": "display_data"
    },
    {
     "data": {
      "text/html": [
       "<pre>Invalid PNG file\t file: /Users/juliusnagel/Desktop/picoutfit/data_and_model/zara_pics/zara_195.png</pre>"
      ],
      "text/plain": [
       "Invalid PNG file\t file: /Users/juliusnagel/Desktop/picoutfit/data_and_model/zara_pics/zara_195.png"
      ]
     },
     "metadata": {},
     "output_type": "display_data"
    },
    {
     "data": {
      "text/html": [
       "<pre>Invalid PNG file\t file: /Users/juliusnagel/Desktop/picoutfit/data_and_model/zara_pics/zara_288.png</pre>"
      ],
      "text/plain": [
       "Invalid PNG file\t file: /Users/juliusnagel/Desktop/picoutfit/data_and_model/zara_pics/zara_288.png"
      ]
     },
     "metadata": {},
     "output_type": "display_data"
    },
    {
     "data": {
      "text/html": [
       "<pre>Invalid PNG file\t file: /Users/juliusnagel/Desktop/picoutfit/data_and_model/zara_pics/zara_308.png</pre>"
      ],
      "text/plain": [
       "Invalid PNG file\t file: /Users/juliusnagel/Desktop/picoutfit/data_and_model/zara_pics/zara_308.png"
      ]
     },
     "metadata": {},
     "output_type": "display_data"
    },
    {
     "data": {
      "text/html": [
       "<pre>Invalid PNG file\t file: /Users/juliusnagel/Desktop/picoutfit/data_and_model/zara_pics/zara_112.png</pre>"
      ],
      "text/plain": [
       "Invalid PNG file\t file: /Users/juliusnagel/Desktop/picoutfit/data_and_model/zara_pics/zara_112.png"
      ]
     },
     "metadata": {},
     "output_type": "display_data"
    },
    {
     "data": {
      "text/html": [
       "<pre>Invalid PNG file\t file: /Users/juliusnagel/Desktop/picoutfit/data_and_model/zara_pics/zara_285.png</pre>"
      ],
      "text/plain": [
       "Invalid PNG file\t file: /Users/juliusnagel/Desktop/picoutfit/data_and_model/zara_pics/zara_285.png"
      ]
     },
     "metadata": {},
     "output_type": "display_data"
    },
    {
     "data": {
      "text/html": [
       "<pre>Invalid PNG file\t file: /Users/juliusnagel/Desktop/picoutfit/data_and_model/zara_pics/zara_557.png</pre>"
      ],
      "text/plain": [
       "Invalid PNG file\t file: /Users/juliusnagel/Desktop/picoutfit/data_and_model/zara_pics/zara_557.png"
      ]
     },
     "metadata": {},
     "output_type": "display_data"
    },
    {
     "data": {
      "text/html": [
       "<pre>Invalid PNG file\t file: /Users/juliusnagel/Desktop/picoutfit/data_and_model/zara_pics/zara_728.png</pre>"
      ],
      "text/plain": [
       "Invalid PNG file\t file: /Users/juliusnagel/Desktop/picoutfit/data_and_model/zara_pics/zara_728.png"
      ]
     },
     "metadata": {},
     "output_type": "display_data"
    },
    {
     "data": {
      "text/html": [
       "<pre>Invalid PNG file\t file: /Users/juliusnagel/Desktop/picoutfit/data_and_model/zara_pics/zara_86.png</pre>"
      ],
      "text/plain": [
       "Invalid PNG file\t file: /Users/juliusnagel/Desktop/picoutfit/data_and_model/zara_pics/zara_86.png"
      ]
     },
     "metadata": {},
     "output_type": "display_data"
    },
    {
     "data": {
      "text/html": [
       "<pre>Invalid PNG file\t file: /Users/juliusnagel/Desktop/picoutfit/data_and_model/zara_pics/zara_604.png</pre>"
      ],
      "text/plain": [
       "Invalid PNG file\t file: /Users/juliusnagel/Desktop/picoutfit/data_and_model/zara_pics/zara_604.png"
      ]
     },
     "metadata": {},
     "output_type": "display_data"
    },
    {
     "data": {
      "text/html": [
       "<pre>Invalid PNG file\t file: /Users/juliusnagel/Desktop/picoutfit/data_and_model/zara_pics/zara_199.png</pre>"
      ],
      "text/plain": [
       "Invalid PNG file\t file: /Users/juliusnagel/Desktop/picoutfit/data_and_model/zara_pics/zara_199.png"
      ]
     },
     "metadata": {},
     "output_type": "display_data"
    },
    {
     "data": {
      "text/html": [
       "<pre>Invalid PNG file\t file: /Users/juliusnagel/Desktop/picoutfit/data_and_model/zara_pics/zara_106.png</pre>"
      ],
      "text/plain": [
       "Invalid PNG file\t file: /Users/juliusnagel/Desktop/picoutfit/data_and_model/zara_pics/zara_106.png"
      ]
     },
     "metadata": {},
     "output_type": "display_data"
    },
    {
     "data": {
      "text/html": [
       "<pre>Invalid PNG file\t file: /Users/juliusnagel/Desktop/picoutfit/data_and_model/zara_pics/zara_580.png</pre>"
      ],
      "text/plain": [
       "Invalid PNG file\t file: /Users/juliusnagel/Desktop/picoutfit/data_and_model/zara_pics/zara_580.png"
      ]
     },
     "metadata": {},
     "output_type": "display_data"
    },
    {
     "data": {
      "text/html": [
       "<pre>Invalid PNG file\t file: /Users/juliusnagel/Desktop/picoutfit/data_and_model/zara_pics/zara_61.png</pre>"
      ],
      "text/plain": [
       "Invalid PNG file\t file: /Users/juliusnagel/Desktop/picoutfit/data_and_model/zara_pics/zara_61.png"
      ]
     },
     "metadata": {},
     "output_type": "display_data"
    },
    {
     "data": {
      "text/html": [
       "<pre>Invalid PNG file\t file: /Users/juliusnagel/Desktop/picoutfit/data_and_model/zara_pics/zara_2.png</pre>"
      ],
      "text/plain": [
       "Invalid PNG file\t file: /Users/juliusnagel/Desktop/picoutfit/data_and_model/zara_pics/zara_2.png"
      ]
     },
     "metadata": {},
     "output_type": "display_data"
    },
    {
     "data": {
      "text/html": [
       "<pre>Invalid PNG file\t file: /Users/juliusnagel/Desktop/picoutfit/data_and_model/zara_pics/zara_704.png</pre>"
      ],
      "text/plain": [
       "Invalid PNG file\t file: /Users/juliusnagel/Desktop/picoutfit/data_and_model/zara_pics/zara_704.png"
      ]
     },
     "metadata": {},
     "output_type": "display_data"
    },
    {
     "data": {
      "text/html": [
       "<pre>Invalid PNG file\t file: /Users/juliusnagel/Desktop/picoutfit/data_and_model/zara_pics/zara_21.png</pre>"
      ],
      "text/plain": [
       "Invalid PNG file\t file: /Users/juliusnagel/Desktop/picoutfit/data_and_model/zara_pics/zara_21.png"
      ]
     },
     "metadata": {},
     "output_type": "display_data"
    },
    {
     "data": {
      "text/html": [
       "<pre>Invalid PNG file\t file: /Users/juliusnagel/Desktop/picoutfit/data_and_model/zara_pics/zara_655.png</pre>"
      ],
      "text/plain": [
       "Invalid PNG file\t file: /Users/juliusnagel/Desktop/picoutfit/data_and_model/zara_pics/zara_655.png"
      ]
     },
     "metadata": {},
     "output_type": "display_data"
    },
    {
     "data": {
      "text/html": [
       "<pre>Invalid PNG file\t file: /Users/juliusnagel/Desktop/picoutfit/data_and_model/zara_pics/zara_72.png</pre>"
      ],
      "text/plain": [
       "Invalid PNG file\t file: /Users/juliusnagel/Desktop/picoutfit/data_and_model/zara_pics/zara_72.png"
      ]
     },
     "metadata": {},
     "output_type": "display_data"
    },
    {
     "data": {
      "text/html": [
       "<pre>Invalid PNG file\t file: /Users/juliusnagel/Desktop/picoutfit/data_and_model/zara_pics/zara_588.png</pre>"
      ],
      "text/plain": [
       "Invalid PNG file\t file: /Users/juliusnagel/Desktop/picoutfit/data_and_model/zara_pics/zara_588.png"
      ]
     },
     "metadata": {},
     "output_type": "display_data"
    },
    {
     "data": {
      "text/html": [
       "<pre>Invalid PNG file\t file: /Users/juliusnagel/Desktop/picoutfit/data_and_model/zara_pics/zara_524.png</pre>"
      ],
      "text/plain": [
       "Invalid PNG file\t file: /Users/juliusnagel/Desktop/picoutfit/data_and_model/zara_pics/zara_524.png"
      ]
     },
     "metadata": {},
     "output_type": "display_data"
    },
    {
     "data": {
      "text/html": [
       "<pre>Invalid PNG file\t file: /Users/juliusnagel/Desktop/picoutfit/data_and_model/zara_pics/zara_630.png</pre>"
      ],
      "text/plain": [
       "Invalid PNG file\t file: /Users/juliusnagel/Desktop/picoutfit/data_and_model/zara_pics/zara_630.png"
      ]
     },
     "metadata": {},
     "output_type": "display_data"
    },
    {
     "data": {
      "text/html": [
       "<pre>Invalid PNG file\t file: /Users/juliusnagel/Desktop/picoutfit/data_and_model/zara_pics/zara_391.png</pre>"
      ],
      "text/plain": [
       "Invalid PNG file\t file: /Users/juliusnagel/Desktop/picoutfit/data_and_model/zara_pics/zara_391.png"
      ]
     },
     "metadata": {},
     "output_type": "display_data"
    },
    {
     "data": {
      "text/html": [
       "<pre>Invalid PNG file\t file: /Users/juliusnagel/Desktop/picoutfit/data_and_model/zara_pics/zara_135.png</pre>"
      ],
      "text/plain": [
       "Invalid PNG file\t file: /Users/juliusnagel/Desktop/picoutfit/data_and_model/zara_pics/zara_135.png"
      ]
     },
     "metadata": {},
     "output_type": "display_data"
    },
    {
     "data": {
      "text/html": [
       "<pre>Invalid PNG file\t file: /Users/juliusnagel/Desktop/picoutfit/data_and_model/zara_pics/zara_317.png</pre>"
      ],
      "text/plain": [
       "Invalid PNG file\t file: /Users/juliusnagel/Desktop/picoutfit/data_and_model/zara_pics/zara_317.png"
      ]
     },
     "metadata": {},
     "output_type": "display_data"
    },
    {
     "data": {
      "text/html": [
       "<pre>Invalid PNG file\t file: /Users/juliusnagel/Desktop/picoutfit/data_and_model/zara_pics/zara_254.png</pre>"
      ],
      "text/plain": [
       "Invalid PNG file\t file: /Users/juliusnagel/Desktop/picoutfit/data_and_model/zara_pics/zara_254.png"
      ]
     },
     "metadata": {},
     "output_type": "display_data"
    },
    {
     "data": {
      "text/html": [
       "<pre>Invalid PNG file\t file: /Users/juliusnagel/Desktop/picoutfit/data_and_model/zara_pics/zara_644.png</pre>"
      ],
      "text/plain": [
       "Invalid PNG file\t file: /Users/juliusnagel/Desktop/picoutfit/data_and_model/zara_pics/zara_644.png"
      ]
     },
     "metadata": {},
     "output_type": "display_data"
    },
    {
     "data": {
      "text/html": [
       "<pre>Invalid PNG file\t file: /Users/juliusnagel/Desktop/picoutfit/data_and_model/zara_pics/zara_347.png</pre>"
      ],
      "text/plain": [
       "Invalid PNG file\t file: /Users/juliusnagel/Desktop/picoutfit/data_and_model/zara_pics/zara_347.png"
      ]
     },
     "metadata": {},
     "output_type": "display_data"
    },
    {
     "data": {
      "text/html": [
       "<pre>Invalid PNG file\t file: /Users/juliusnagel/Desktop/picoutfit/data_and_model/zara_pics/zara_827.png</pre>"
      ],
      "text/plain": [
       "Invalid PNG file\t file: /Users/juliusnagel/Desktop/picoutfit/data_and_model/zara_pics/zara_827.png"
      ]
     },
     "metadata": {},
     "output_type": "display_data"
    },
    {
     "data": {
      "text/html": [
       "<pre>Invalid PNG file\t file: /Users/juliusnagel/Desktop/picoutfit/data_and_model/zara_pics/zara_91.png</pre>"
      ],
      "text/plain": [
       "Invalid PNG file\t file: /Users/juliusnagel/Desktop/picoutfit/data_and_model/zara_pics/zara_91.png"
      ]
     },
     "metadata": {},
     "output_type": "display_data"
    },
    {
     "data": {
      "text/html": [
       "<pre>Invalid PNG file\t file: /Users/juliusnagel/Desktop/picoutfit/data_and_model/zara_pics/zara_360.png</pre>"
      ],
      "text/plain": [
       "Invalid PNG file\t file: /Users/juliusnagel/Desktop/picoutfit/data_and_model/zara_pics/zara_360.png"
      ]
     },
     "metadata": {},
     "output_type": "display_data"
    },
    {
     "data": {
      "text/html": [
       "<pre>Invalid PNG file\t file: /Users/juliusnagel/Desktop/picoutfit/data_and_model/zara_pics/zara_68.png</pre>"
      ],
      "text/plain": [
       "Invalid PNG file\t file: /Users/juliusnagel/Desktop/picoutfit/data_and_model/zara_pics/zara_68.png"
      ]
     },
     "metadata": {},
     "output_type": "display_data"
    },
    {
     "data": {
      "text/html": [
       "<pre>Invalid PNG file\t file: /Users/juliusnagel/Desktop/picoutfit/data_and_model/zara_pics/zara_225.png</pre>"
      ],
      "text/plain": [
       "Invalid PNG file\t file: /Users/juliusnagel/Desktop/picoutfit/data_and_model/zara_pics/zara_225.png"
      ]
     },
     "metadata": {},
     "output_type": "display_data"
    },
    {
     "data": {
      "text/html": [
       "<pre>Invalid PNG file\t file: /Users/juliusnagel/Desktop/picoutfit/data_and_model/zara_pics/zara_322.png</pre>"
      ],
      "text/plain": [
       "Invalid PNG file\t file: /Users/juliusnagel/Desktop/picoutfit/data_and_model/zara_pics/zara_322.png"
      ]
     },
     "metadata": {},
     "output_type": "display_data"
    },
    {
     "data": {
      "text/html": [
       "<pre>Invalid PNG file\t file: /Users/juliusnagel/Desktop/picoutfit/data_and_model/zara_pics/zara_543.png</pre>"
      ],
      "text/plain": [
       "Invalid PNG file\t file: /Users/juliusnagel/Desktop/picoutfit/data_and_model/zara_pics/zara_543.png"
      ]
     },
     "metadata": {},
     "output_type": "display_data"
    },
    {
     "data": {
      "text/html": [
       "<pre>Invalid PNG file\t file: /Users/juliusnagel/Desktop/picoutfit/data_and_model/zara_pics/zara_407.png</pre>"
      ],
      "text/plain": [
       "Invalid PNG file\t file: /Users/juliusnagel/Desktop/picoutfit/data_and_model/zara_pics/zara_407.png"
      ]
     },
     "metadata": {},
     "output_type": "display_data"
    },
    {
     "data": {
      "text/html": [
       "<pre>Invalid PNG file\t file: /Users/juliusnagel/Desktop/picoutfit/data_and_model/zara_pics/zara_651.png</pre>"
      ],
      "text/plain": [
       "Invalid PNG file\t file: /Users/juliusnagel/Desktop/picoutfit/data_and_model/zara_pics/zara_651.png"
      ]
     },
     "metadata": {},
     "output_type": "display_data"
    },
    {
     "data": {
      "text/html": [
       "<pre>Invalid PNG file\t file: /Users/juliusnagel/Desktop/picoutfit/data_and_model/zara_pics/zara_73.png</pre>"
      ],
      "text/plain": [
       "Invalid PNG file\t file: /Users/juliusnagel/Desktop/picoutfit/data_and_model/zara_pics/zara_73.png"
      ]
     },
     "metadata": {},
     "output_type": "display_data"
    },
    {
     "data": {
      "text/html": [
       "<pre>Invalid PNG file\t file: /Users/juliusnagel/Desktop/picoutfit/data_and_model/zara_pics/zara_42.png</pre>"
      ],
      "text/plain": [
       "Invalid PNG file\t file: /Users/juliusnagel/Desktop/picoutfit/data_and_model/zara_pics/zara_42.png"
      ]
     },
     "metadata": {},
     "output_type": "display_data"
    },
    {
     "data": {
      "text/html": [
       "<pre>Invalid PNG file\t file: /Users/juliusnagel/Desktop/picoutfit/data_and_model/zara_pics/zara_496.png</pre>"
      ],
      "text/plain": [
       "Invalid PNG file\t file: /Users/juliusnagel/Desktop/picoutfit/data_and_model/zara_pics/zara_496.png"
      ]
     },
     "metadata": {},
     "output_type": "display_data"
    },
    {
     "data": {
      "text/html": [
       "<pre>Invalid PNG file\t file: /Users/juliusnagel/Desktop/picoutfit/data_and_model/zara_pics/zara_187.png</pre>"
      ],
      "text/plain": [
       "Invalid PNG file\t file: /Users/juliusnagel/Desktop/picoutfit/data_and_model/zara_pics/zara_187.png"
      ]
     },
     "metadata": {},
     "output_type": "display_data"
    },
    {
     "data": {
      "text/html": [
       "<pre>Invalid PNG file\t file: /Users/juliusnagel/Desktop/picoutfit/data_and_model/zara_pics/zara_26.png</pre>"
      ],
      "text/plain": [
       "Invalid PNG file\t file: /Users/juliusnagel/Desktop/picoutfit/data_and_model/zara_pics/zara_26.png"
      ]
     },
     "metadata": {},
     "output_type": "display_data"
    },
    {
     "data": {
      "text/html": [
       "<pre>Invalid PNG file\t file: /Users/juliusnagel/Desktop/picoutfit/data_and_model/zara_pics/zara_767.png</pre>"
      ],
      "text/plain": [
       "Invalid PNG file\t file: /Users/juliusnagel/Desktop/picoutfit/data_and_model/zara_pics/zara_767.png"
      ]
     },
     "metadata": {},
     "output_type": "display_data"
    },
    {
     "data": {
      "text/html": [
       "<pre>Invalid PNG file\t file: /Users/juliusnagel/Desktop/picoutfit/data_and_model/zara_pics/zara_311.png</pre>"
      ],
      "text/plain": [
       "Invalid PNG file\t file: /Users/juliusnagel/Desktop/picoutfit/data_and_model/zara_pics/zara_311.png"
      ]
     },
     "metadata": {},
     "output_type": "display_data"
    },
    {
     "data": {
      "text/html": [
       "<pre>Invalid PNG file\t file: /Users/juliusnagel/Desktop/picoutfit/data_and_model/zara_pics/zara_421.png</pre>"
      ],
      "text/plain": [
       "Invalid PNG file\t file: /Users/juliusnagel/Desktop/picoutfit/data_and_model/zara_pics/zara_421.png"
      ]
     },
     "metadata": {},
     "output_type": "display_data"
    },
    {
     "data": {
      "text/html": [
       "<pre>Invalid PNG file\t file: /Users/juliusnagel/Desktop/picoutfit/data_and_model/zara_pics/zara_458.png</pre>"
      ],
      "text/plain": [
       "Invalid PNG file\t file: /Users/juliusnagel/Desktop/picoutfit/data_and_model/zara_pics/zara_458.png"
      ]
     },
     "metadata": {},
     "output_type": "display_data"
    },
    {
     "data": {
      "text/html": [
       "<pre>Invalid PNG file\t file: /Users/juliusnagel/Desktop/picoutfit/data_and_model/zara_pics/zara_838.png</pre>"
      ],
      "text/plain": [
       "Invalid PNG file\t file: /Users/juliusnagel/Desktop/picoutfit/data_and_model/zara_pics/zara_838.png"
      ]
     },
     "metadata": {},
     "output_type": "display_data"
    },
    {
     "data": {
      "text/html": [
       "<pre>Invalid PNG file\t file: /Users/juliusnagel/Desktop/picoutfit/data_and_model/zara_pics/zara_456.png</pre>"
      ],
      "text/plain": [
       "Invalid PNG file\t file: /Users/juliusnagel/Desktop/picoutfit/data_and_model/zara_pics/zara_456.png"
      ]
     },
     "metadata": {},
     "output_type": "display_data"
    },
    {
     "data": {
      "text/html": [
       "<pre>Invalid PNG file\t file: /Users/juliusnagel/Desktop/picoutfit/data_and_model/zara_pics/zara_727.png</pre>"
      ],
      "text/plain": [
       "Invalid PNG file\t file: /Users/juliusnagel/Desktop/picoutfit/data_and_model/zara_pics/zara_727.png"
      ]
     },
     "metadata": {},
     "output_type": "display_data"
    },
    {
     "data": {
      "text/html": [
       "<pre>Invalid PNG file\t file: /Users/juliusnagel/Desktop/picoutfit/data_and_model/zara_pics/zara_32.png</pre>"
      ],
      "text/plain": [
       "Invalid PNG file\t file: /Users/juliusnagel/Desktop/picoutfit/data_and_model/zara_pics/zara_32.png"
      ]
     },
     "metadata": {},
     "output_type": "display_data"
    },
    {
     "data": {
      "text/html": [
       "<pre>Invalid PNG file\t file: /Users/juliusnagel/Desktop/picoutfit/data_and_model/zara_pics/zara_779.png</pre>"
      ],
      "text/plain": [
       "Invalid PNG file\t file: /Users/juliusnagel/Desktop/picoutfit/data_and_model/zara_pics/zara_779.png"
      ]
     },
     "metadata": {},
     "output_type": "display_data"
    },
    {
     "data": {
      "text/html": [
       "<pre>Invalid PNG file\t file: /Users/juliusnagel/Desktop/picoutfit/data_and_model/zara_pics/zara_461.png</pre>"
      ],
      "text/plain": [
       "Invalid PNG file\t file: /Users/juliusnagel/Desktop/picoutfit/data_and_model/zara_pics/zara_461.png"
      ]
     },
     "metadata": {},
     "output_type": "display_data"
    },
    {
     "data": {
      "text/html": [
       "<pre>Invalid PNG file\t file: /Users/juliusnagel/Desktop/picoutfit/data_and_model/zara_pics/zara_693.png</pre>"
      ],
      "text/plain": [
       "Invalid PNG file\t file: /Users/juliusnagel/Desktop/picoutfit/data_and_model/zara_pics/zara_693.png"
      ]
     },
     "metadata": {},
     "output_type": "display_data"
    },
    {
     "data": {
      "text/html": [
       "<pre>Invalid PNG file\t file: /Users/juliusnagel/Desktop/picoutfit/data_and_model/zara_pics/zara_708.png</pre>"
      ],
      "text/plain": [
       "Invalid PNG file\t file: /Users/juliusnagel/Desktop/picoutfit/data_and_model/zara_pics/zara_708.png"
      ]
     },
     "metadata": {},
     "output_type": "display_data"
    },
    {
     "data": {
      "text/html": [
       "<pre>Invalid PNG file\t file: /Users/juliusnagel/Desktop/picoutfit/data_and_model/zara_pics/zara_423.png</pre>"
      ],
      "text/plain": [
       "Invalid PNG file\t file: /Users/juliusnagel/Desktop/picoutfit/data_and_model/zara_pics/zara_423.png"
      ]
     },
     "metadata": {},
     "output_type": "display_data"
    },
    {
     "data": {
      "text/html": [
       "<pre>Invalid PNG file\t file: /Users/juliusnagel/Desktop/picoutfit/data_and_model/zara_pics/zara_117.png</pre>"
      ],
      "text/plain": [
       "Invalid PNG file\t file: /Users/juliusnagel/Desktop/picoutfit/data_and_model/zara_pics/zara_117.png"
      ]
     },
     "metadata": {},
     "output_type": "display_data"
    },
    {
     "data": {
      "text/html": [
       "<pre>Invalid PNG file\t file: /Users/juliusnagel/Desktop/picoutfit/data_and_model/zara_pics/zara_18.png</pre>"
      ],
      "text/plain": [
       "Invalid PNG file\t file: /Users/juliusnagel/Desktop/picoutfit/data_and_model/zara_pics/zara_18.png"
      ]
     },
     "metadata": {},
     "output_type": "display_data"
    },
    {
     "data": {
      "text/html": [
       "<pre>Invalid PNG file\t file: /Users/juliusnagel/Desktop/picoutfit/data_and_model/zara_pics/zara_745.png</pre>"
      ],
      "text/plain": [
       "Invalid PNG file\t file: /Users/juliusnagel/Desktop/picoutfit/data_and_model/zara_pics/zara_745.png"
      ]
     },
     "metadata": {},
     "output_type": "display_data"
    },
    {
     "data": {
      "text/html": [
       "<pre>Invalid PNG file\t file: /Users/juliusnagel/Desktop/picoutfit/data_and_model/zara_pics/zara_208.png</pre>"
      ],
      "text/plain": [
       "Invalid PNG file\t file: /Users/juliusnagel/Desktop/picoutfit/data_and_model/zara_pics/zara_208.png"
      ]
     },
     "metadata": {},
     "output_type": "display_data"
    },
    {
     "data": {
      "text/html": [
       "<pre>Invalid PNG file\t file: /Users/juliusnagel/Desktop/picoutfit/data_and_model/zara_pics/zara_67.png</pre>"
      ],
      "text/plain": [
       "Invalid PNG file\t file: /Users/juliusnagel/Desktop/picoutfit/data_and_model/zara_pics/zara_67.png"
      ]
     },
     "metadata": {},
     "output_type": "display_data"
    },
    {
     "data": {
      "text/html": [
       "<pre>Invalid PNG file\t file: /Users/juliusnagel/Desktop/picoutfit/data_and_model/zara_pics/zara_634.png</pre>"
      ],
      "text/plain": [
       "Invalid PNG file\t file: /Users/juliusnagel/Desktop/picoutfit/data_and_model/zara_pics/zara_634.png"
      ]
     },
     "metadata": {},
     "output_type": "display_data"
    },
    {
     "data": {
      "text/html": [
       "<pre>Invalid PNG file\t file: /Users/juliusnagel/Desktop/picoutfit/data_and_model/zara_pics/zara_700.png</pre>"
      ],
      "text/plain": [
       "Invalid PNG file\t file: /Users/juliusnagel/Desktop/picoutfit/data_and_model/zara_pics/zara_700.png"
      ]
     },
     "metadata": {},
     "output_type": "display_data"
    },
    {
     "data": {
      "text/html": [
       "<pre>Invalid PNG file\t file: /Users/juliusnagel/Desktop/picoutfit/data_and_model/zara_pics/zara_323.png</pre>"
      ],
      "text/plain": [
       "Invalid PNG file\t file: /Users/juliusnagel/Desktop/picoutfit/data_and_model/zara_pics/zara_323.png"
      ]
     },
     "metadata": {},
     "output_type": "display_data"
    },
    {
     "data": {
      "text/html": [
       "<pre>Invalid PNG file\t file: /Users/juliusnagel/Desktop/picoutfit/data_and_model/zara_pics/zara_484.png</pre>"
      ],
      "text/plain": [
       "Invalid PNG file\t file: /Users/juliusnagel/Desktop/picoutfit/data_and_model/zara_pics/zara_484.png"
      ]
     },
     "metadata": {},
     "output_type": "display_data"
    },
    {
     "data": {
      "text/html": [
       "<pre>Invalid PNG file\t file: /Users/juliusnagel/Desktop/picoutfit/data_and_model/zara_pics/zara_51.png</pre>"
      ],
      "text/plain": [
       "Invalid PNG file\t file: /Users/juliusnagel/Desktop/picoutfit/data_and_model/zara_pics/zara_51.png"
      ]
     },
     "metadata": {},
     "output_type": "display_data"
    },
    {
     "data": {
      "text/html": [
       "<pre>Invalid PNG file\t file: /Users/juliusnagel/Desktop/picoutfit/data_and_model/zara_pics/zara_429.png</pre>"
      ],
      "text/plain": [
       "Invalid PNG file\t file: /Users/juliusnagel/Desktop/picoutfit/data_and_model/zara_pics/zara_429.png"
      ]
     },
     "metadata": {},
     "output_type": "display_data"
    },
    {
     "data": {
      "text/html": [
       "<pre>Invalid PNG file\t file: /Users/juliusnagel/Desktop/picoutfit/data_and_model/zara_pics/zara_218.png</pre>"
      ],
      "text/plain": [
       "Invalid PNG file\t file: /Users/juliusnagel/Desktop/picoutfit/data_and_model/zara_pics/zara_218.png"
      ]
     },
     "metadata": {},
     "output_type": "display_data"
    },
    {
     "data": {
      "text/html": [
       "<pre>Invalid PNG file\t file: /Users/juliusnagel/Desktop/picoutfit/data_and_model/zara_pics/zara_626.png</pre>"
      ],
      "text/plain": [
       "Invalid PNG file\t file: /Users/juliusnagel/Desktop/picoutfit/data_and_model/zara_pics/zara_626.png"
      ]
     },
     "metadata": {},
     "output_type": "display_data"
    },
    {
     "data": {
      "text/html": [
       "<pre>Invalid PNG file\t file: /Users/juliusnagel/Desktop/picoutfit/data_and_model/zara_pics/zara_98.png</pre>"
      ],
      "text/plain": [
       "Invalid PNG file\t file: /Users/juliusnagel/Desktop/picoutfit/data_and_model/zara_pics/zara_98.png"
      ]
     },
     "metadata": {},
     "output_type": "display_data"
    },
    {
     "data": {
      "text/html": [
       "<pre>Invalid PNG file\t file: /Users/juliusnagel/Desktop/picoutfit/data_and_model/zara_pics/zara_109.png</pre>"
      ],
      "text/plain": [
       "Invalid PNG file\t file: /Users/juliusnagel/Desktop/picoutfit/data_and_model/zara_pics/zara_109.png"
      ]
     },
     "metadata": {},
     "output_type": "display_data"
    },
    {
     "data": {
      "text/html": [
       "<pre>Invalid PNG file\t file: /Users/juliusnagel/Desktop/picoutfit/data_and_model/zara_pics/zara_828.png</pre>"
      ],
      "text/plain": [
       "Invalid PNG file\t file: /Users/juliusnagel/Desktop/picoutfit/data_and_model/zara_pics/zara_828.png"
      ]
     },
     "metadata": {},
     "output_type": "display_data"
    },
    {
     "data": {
      "text/html": [
       "<pre>Invalid PNG file\t file: /Users/juliusnagel/Desktop/picoutfit/data_and_model/zara_pics/zara_488.png</pre>"
      ],
      "text/plain": [
       "Invalid PNG file\t file: /Users/juliusnagel/Desktop/picoutfit/data_and_model/zara_pics/zara_488.png"
      ]
     },
     "metadata": {},
     "output_type": "display_data"
    },
    {
     "data": {
      "text/html": [
       "<pre>Invalid PNG file\t file: /Users/juliusnagel/Desktop/picoutfit/data_and_model/zara_pics/zara_674.png</pre>"
      ],
      "text/plain": [
       "Invalid PNG file\t file: /Users/juliusnagel/Desktop/picoutfit/data_and_model/zara_pics/zara_674.png"
      ]
     },
     "metadata": {},
     "output_type": "display_data"
    },
    {
     "data": {
      "text/html": [
       "<pre>Invalid PNG file\t file: /Users/juliusnagel/Desktop/picoutfit/data_and_model/zara_pics/zara_256.png</pre>"
      ],
      "text/plain": [
       "Invalid PNG file\t file: /Users/juliusnagel/Desktop/picoutfit/data_and_model/zara_pics/zara_256.png"
      ]
     },
     "metadata": {},
     "output_type": "display_data"
    },
    {
     "data": {
      "text/html": [
       "<pre>Invalid PNG file\t file: /Users/juliusnagel/Desktop/picoutfit/data_and_model/zara_pics/zara_471.png</pre>"
      ],
      "text/plain": [
       "Invalid PNG file\t file: /Users/juliusnagel/Desktop/picoutfit/data_and_model/zara_pics/zara_471.png"
      ]
     },
     "metadata": {},
     "output_type": "display_data"
    },
    {
     "data": {
      "text/html": [
       "<pre>Invalid PNG file\t file: /Users/juliusnagel/Desktop/picoutfit/data_and_model/zara_pics/zara_758.png</pre>"
      ],
      "text/plain": [
       "Invalid PNG file\t file: /Users/juliusnagel/Desktop/picoutfit/data_and_model/zara_pics/zara_758.png"
      ]
     },
     "metadata": {},
     "output_type": "display_data"
    },
    {
     "data": {
      "text/html": [
       "<pre>Invalid PNG file\t file: /Users/juliusnagel/Desktop/picoutfit/data_and_model/zara_pics/zara_53.png</pre>"
      ],
      "text/plain": [
       "Invalid PNG file\t file: /Users/juliusnagel/Desktop/picoutfit/data_and_model/zara_pics/zara_53.png"
      ]
     },
     "metadata": {},
     "output_type": "display_data"
    },
    {
     "data": {
      "text/html": [
       "<pre>Invalid PNG file\t file: /Users/juliusnagel/Desktop/picoutfit/data_and_model/zara_pics/zara_186.png</pre>"
      ],
      "text/plain": [
       "Invalid PNG file\t file: /Users/juliusnagel/Desktop/picoutfit/data_and_model/zara_pics/zara_186.png"
      ]
     },
     "metadata": {},
     "output_type": "display_data"
    },
    {
     "data": {
      "text/html": [
       "<pre>Invalid PNG file\t file: /Users/juliusnagel/Desktop/picoutfit/data_and_model/zara_pics/zara_648.png</pre>"
      ],
      "text/plain": [
       "Invalid PNG file\t file: /Users/juliusnagel/Desktop/picoutfit/data_and_model/zara_pics/zara_648.png"
      ]
     },
     "metadata": {},
     "output_type": "display_data"
    },
    {
     "data": {
      "text/html": [
       "<pre>Invalid PNG file\t file: /Users/juliusnagel/Desktop/picoutfit/data_and_model/zara_pics/zara_236.png</pre>"
      ],
      "text/plain": [
       "Invalid PNG file\t file: /Users/juliusnagel/Desktop/picoutfit/data_and_model/zara_pics/zara_236.png"
      ]
     },
     "metadata": {},
     "output_type": "display_data"
    },
    {
     "data": {
      "text/html": [
       "<pre>Invalid PNG file\t file: /Users/juliusnagel/Desktop/picoutfit/data_and_model/zara_pics/zara_338.png</pre>"
      ],
      "text/plain": [
       "Invalid PNG file\t file: /Users/juliusnagel/Desktop/picoutfit/data_and_model/zara_pics/zara_338.png"
      ]
     },
     "metadata": {},
     "output_type": "display_data"
    },
    {
     "data": {
      "text/html": [
       "<pre>Invalid PNG file\t file: /Users/juliusnagel/Desktop/picoutfit/data_and_model/zara_pics/zara_328.png</pre>"
      ],
      "text/plain": [
       "Invalid PNG file\t file: /Users/juliusnagel/Desktop/picoutfit/data_and_model/zara_pics/zara_328.png"
      ]
     },
     "metadata": {},
     "output_type": "display_data"
    },
    {
     "data": {
      "text/html": [
       "<pre>Invalid PNG file\t file: /Users/juliusnagel/Desktop/picoutfit/data_and_model/zara_pics/zara_325.png</pre>"
      ],
      "text/plain": [
       "Invalid PNG file\t file: /Users/juliusnagel/Desktop/picoutfit/data_and_model/zara_pics/zara_325.png"
      ]
     },
     "metadata": {},
     "output_type": "display_data"
    },
    {
     "data": {
      "text/html": [
       "<pre>Invalid PNG file\t file: /Users/juliusnagel/Desktop/picoutfit/data_and_model/zara_pics/zara_35.png</pre>"
      ],
      "text/plain": [
       "Invalid PNG file\t file: /Users/juliusnagel/Desktop/picoutfit/data_and_model/zara_pics/zara_35.png"
      ]
     },
     "metadata": {},
     "output_type": "display_data"
    },
    {
     "data": {
      "text/html": [
       "<pre>Invalid PNG file\t file: /Users/juliusnagel/Desktop/picoutfit/data_and_model/zara_pics/zara_115.png</pre>"
      ],
      "text/plain": [
       "Invalid PNG file\t file: /Users/juliusnagel/Desktop/picoutfit/data_and_model/zara_pics/zara_115.png"
      ]
     },
     "metadata": {},
     "output_type": "display_data"
    },
    {
     "data": {
      "text/html": [
       "<pre>Invalid PNG file\t file: /Users/juliusnagel/Desktop/picoutfit/data_and_model/zara_pics/zara_433.png</pre>"
      ],
      "text/plain": [
       "Invalid PNG file\t file: /Users/juliusnagel/Desktop/picoutfit/data_and_model/zara_pics/zara_433.png"
      ]
     },
     "metadata": {},
     "output_type": "display_data"
    },
    {
     "data": {
      "text/html": [
       "<pre>Invalid PNG file\t file: /Users/juliusnagel/Desktop/picoutfit/data_and_model/zara_pics/zara_94.png</pre>"
      ],
      "text/plain": [
       "Invalid PNG file\t file: /Users/juliusnagel/Desktop/picoutfit/data_and_model/zara_pics/zara_94.png"
      ]
     },
     "metadata": {},
     "output_type": "display_data"
    },
    {
     "data": {
      "text/html": [
       "<pre>Invalid PNG file\t file: /Users/juliusnagel/Desktop/picoutfit/data_and_model/zara_pics/zara_362.png</pre>"
      ],
      "text/plain": [
       "Invalid PNG file\t file: /Users/juliusnagel/Desktop/picoutfit/data_and_model/zara_pics/zara_362.png"
      ]
     },
     "metadata": {},
     "output_type": "display_data"
    },
    {
     "data": {
      "text/html": [
       "<pre>Invalid PNG file\t file: /Users/juliusnagel/Desktop/picoutfit/data_and_model/zara_pics/zara_295.png</pre>"
      ],
      "text/plain": [
       "Invalid PNG file\t file: /Users/juliusnagel/Desktop/picoutfit/data_and_model/zara_pics/zara_295.png"
      ]
     },
     "metadata": {},
     "output_type": "display_data"
    },
    {
     "data": {
      "text/html": [
       "<pre>Invalid PNG file\t file: /Users/juliusnagel/Desktop/picoutfit/data_and_model/zara_pics/zara_568.png</pre>"
      ],
      "text/plain": [
       "Invalid PNG file\t file: /Users/juliusnagel/Desktop/picoutfit/data_and_model/zara_pics/zara_568.png"
      ]
     },
     "metadata": {},
     "output_type": "display_data"
    },
    {
     "data": {
      "text/html": [
       "<pre>Invalid PNG file\t file: /Users/juliusnagel/Desktop/picoutfit/data_and_model/zara_pics/zara_143.png</pre>"
      ],
      "text/plain": [
       "Invalid PNG file\t file: /Users/juliusnagel/Desktop/picoutfit/data_and_model/zara_pics/zara_143.png"
      ]
     },
     "metadata": {},
     "output_type": "display_data"
    },
    {
     "data": {
      "text/html": [
       "<pre>Invalid PNG file\t file: /Users/juliusnagel/Desktop/picoutfit/data_and_model/zara_pics/zara_164.png</pre>"
      ],
      "text/plain": [
       "Invalid PNG file\t file: /Users/juliusnagel/Desktop/picoutfit/data_and_model/zara_pics/zara_164.png"
      ]
     },
     "metadata": {},
     "output_type": "display_data"
    },
    {
     "data": {
      "text/html": [
       "<pre>Invalid PNG file\t file: /Users/juliusnagel/Desktop/picoutfit/data_and_model/zara_pics/zara_663.png</pre>"
      ],
      "text/plain": [
       "Invalid PNG file\t file: /Users/juliusnagel/Desktop/picoutfit/data_and_model/zara_pics/zara_663.png"
      ]
     },
     "metadata": {},
     "output_type": "display_data"
    },
    {
     "data": {
      "text/html": [
       "<pre>Invalid PNG file\t file: /Users/juliusnagel/Desktop/picoutfit/data_and_model/zara_pics/zara_241.png</pre>"
      ],
      "text/plain": [
       "Invalid PNG file\t file: /Users/juliusnagel/Desktop/picoutfit/data_and_model/zara_pics/zara_241.png"
      ]
     },
     "metadata": {},
     "output_type": "display_data"
    },
    {
     "data": {
      "text/html": [
       "<pre>Invalid PNG file\t file: /Users/juliusnagel/Desktop/picoutfit/data_and_model/zara_pics/zara_666.png</pre>"
      ],
      "text/plain": [
       "Invalid PNG file\t file: /Users/juliusnagel/Desktop/picoutfit/data_and_model/zara_pics/zara_666.png"
      ]
     },
     "metadata": {},
     "output_type": "display_data"
    },
    {
     "data": {
      "text/html": [
       "<pre>Invalid PNG file\t file: /Users/juliusnagel/Desktop/picoutfit/data_and_model/zara_pics/zara_449.png</pre>"
      ],
      "text/plain": [
       "Invalid PNG file\t file: /Users/juliusnagel/Desktop/picoutfit/data_and_model/zara_pics/zara_449.png"
      ]
     },
     "metadata": {},
     "output_type": "display_data"
    },
    {
     "data": {
      "text/html": [
       "<pre>Invalid PNG file\t file: /Users/juliusnagel/Desktop/picoutfit/data_and_model/zara_pics/zara_148.png</pre>"
      ],
      "text/plain": [
       "Invalid PNG file\t file: /Users/juliusnagel/Desktop/picoutfit/data_and_model/zara_pics/zara_148.png"
      ]
     },
     "metadata": {},
     "output_type": "display_data"
    },
    {
     "data": {
      "text/html": [
       "<pre>Invalid PNG file\t file: /Users/juliusnagel/Desktop/picoutfit/data_and_model/zara_pics/zara_681.png</pre>"
      ],
      "text/plain": [
       "Invalid PNG file\t file: /Users/juliusnagel/Desktop/picoutfit/data_and_model/zara_pics/zara_681.png"
      ]
     },
     "metadata": {},
     "output_type": "display_data"
    },
    {
     "data": {
      "text/html": [
       "<pre>Invalid PNG file\t file: /Users/juliusnagel/Desktop/picoutfit/data_and_model/zara_pics/zara_123.png</pre>"
      ],
      "text/plain": [
       "Invalid PNG file\t file: /Users/juliusnagel/Desktop/picoutfit/data_and_model/zara_pics/zara_123.png"
      ]
     },
     "metadata": {},
     "output_type": "display_data"
    },
    {
     "data": {
      "text/html": [
       "<pre>Invalid PNG file\t file: /Users/juliusnagel/Desktop/picoutfit/data_and_model/zara_pics/zara_710.png</pre>"
      ],
      "text/plain": [
       "Invalid PNG file\t file: /Users/juliusnagel/Desktop/picoutfit/data_and_model/zara_pics/zara_710.png"
      ]
     },
     "metadata": {},
     "output_type": "display_data"
    },
    {
     "data": {
      "text/html": [
       "<pre>Invalid PNG file\t file: /Users/juliusnagel/Desktop/picoutfit/data_and_model/zara_pics/zara_721.png</pre>"
      ],
      "text/plain": [
       "Invalid PNG file\t file: /Users/juliusnagel/Desktop/picoutfit/data_and_model/zara_pics/zara_721.png"
      ]
     },
     "metadata": {},
     "output_type": "display_data"
    },
    {
     "data": {
      "text/html": [
       "<pre>Invalid PNG file\t file: /Users/juliusnagel/Desktop/picoutfit/data_and_model/zara_pics/zara_122.png</pre>"
      ],
      "text/plain": [
       "Invalid PNG file\t file: /Users/juliusnagel/Desktop/picoutfit/data_and_model/zara_pics/zara_122.png"
      ]
     },
     "metadata": {},
     "output_type": "display_data"
    },
    {
     "data": {
      "text/html": [
       "<pre>Invalid PNG file\t file: /Users/juliusnagel/Desktop/picoutfit/data_and_model/zara_pics/zara_77.png</pre>"
      ],
      "text/plain": [
       "Invalid PNG file\t file: /Users/juliusnagel/Desktop/picoutfit/data_and_model/zara_pics/zara_77.png"
      ]
     },
     "metadata": {},
     "output_type": "display_data"
    },
    {
     "data": {
      "text/html": [
       "<pre>Invalid PNG file\t file: /Users/juliusnagel/Desktop/picoutfit/data_and_model/zara_pics/zara_483.png</pre>"
      ],
      "text/plain": [
       "Invalid PNG file\t file: /Users/juliusnagel/Desktop/picoutfit/data_and_model/zara_pics/zara_483.png"
      ]
     },
     "metadata": {},
     "output_type": "display_data"
    },
    {
     "data": {
      "text/html": [
       "<pre>Invalid PNG file\t file: /Users/juliusnagel/Desktop/picoutfit/data_and_model/zara_pics/zara_679.png</pre>"
      ],
      "text/plain": [
       "Invalid PNG file\t file: /Users/juliusnagel/Desktop/picoutfit/data_and_model/zara_pics/zara_679.png"
      ]
     },
     "metadata": {},
     "output_type": "display_data"
    },
    {
     "data": {
      "text/html": [
       "<pre>Invalid PNG file\t file: /Users/juliusnagel/Desktop/picoutfit/data_and_model/zara_pics/zara_261.png</pre>"
      ],
      "text/plain": [
       "Invalid PNG file\t file: /Users/juliusnagel/Desktop/picoutfit/data_and_model/zara_pics/zara_261.png"
      ]
     },
     "metadata": {},
     "output_type": "display_data"
    },
    {
     "data": {
      "text/html": [
       "<pre>Invalid PNG file\t file: /Users/juliusnagel/Desktop/picoutfit/data_and_model/zara_pics/zara_388.png</pre>"
      ],
      "text/plain": [
       "Invalid PNG file\t file: /Users/juliusnagel/Desktop/picoutfit/data_and_model/zara_pics/zara_388.png"
      ]
     },
     "metadata": {},
     "output_type": "display_data"
    },
    {
     "data": {
      "text/html": [
       "<pre>Invalid PNG file\t file: /Users/juliusnagel/Desktop/picoutfit/data_and_model/zara_pics/zara_621.png</pre>"
      ],
      "text/plain": [
       "Invalid PNG file\t file: /Users/juliusnagel/Desktop/picoutfit/data_and_model/zara_pics/zara_621.png"
      ]
     },
     "metadata": {},
     "output_type": "display_data"
    },
    {
     "data": {
      "text/html": [
       "<pre>Invalid PNG file\t file: /Users/juliusnagel/Desktop/picoutfit/data_and_model/zara_pics/zara_400.png</pre>"
      ],
      "text/plain": [
       "Invalid PNG file\t file: /Users/juliusnagel/Desktop/picoutfit/data_and_model/zara_pics/zara_400.png"
      ]
     },
     "metadata": {},
     "output_type": "display_data"
    },
    {
     "data": {
      "text/html": [
       "<pre>Invalid PNG file\t file: /Users/juliusnagel/Desktop/picoutfit/data_and_model/zara_pics/zara_434.png</pre>"
      ],
      "text/plain": [
       "Invalid PNG file\t file: /Users/juliusnagel/Desktop/picoutfit/data_and_model/zara_pics/zara_434.png"
      ]
     },
     "metadata": {},
     "output_type": "display_data"
    },
    {
     "data": {
      "text/html": [
       "<pre>Invalid PNG file\t file: /Users/juliusnagel/Desktop/picoutfit/data_and_model/zara_pics/zara_367.png</pre>"
      ],
      "text/plain": [
       "Invalid PNG file\t file: /Users/juliusnagel/Desktop/picoutfit/data_and_model/zara_pics/zara_367.png"
      ]
     },
     "metadata": {},
     "output_type": "display_data"
    },
    {
     "data": {
      "text/html": [
       "<pre>Invalid PNG file\t file: /Users/juliusnagel/Desktop/picoutfit/data_and_model/zara_pics/zara_831.png</pre>"
      ],
      "text/plain": [
       "Invalid PNG file\t file: /Users/juliusnagel/Desktop/picoutfit/data_and_model/zara_pics/zara_831.png"
      ]
     },
     "metadata": {},
     "output_type": "display_data"
    },
    {
     "data": {
      "text/html": [
       "<pre>Invalid PNG file\t file: /Users/juliusnagel/Desktop/picoutfit/data_and_model/zara_pics/zara_422.png</pre>"
      ],
      "text/plain": [
       "Invalid PNG file\t file: /Users/juliusnagel/Desktop/picoutfit/data_and_model/zara_pics/zara_422.png"
      ]
     },
     "metadata": {},
     "output_type": "display_data"
    },
    {
     "data": {
      "text/html": [
       "<pre>Invalid PNG file\t file: /Users/juliusnagel/Desktop/picoutfit/data_and_model/zara_pics/zara_735.png</pre>"
      ],
      "text/plain": [
       "Invalid PNG file\t file: /Users/juliusnagel/Desktop/picoutfit/data_and_model/zara_pics/zara_735.png"
      ]
     },
     "metadata": {},
     "output_type": "display_data"
    },
    {
     "data": {
      "text/html": [
       "<pre>Invalid PNG file\t file: /Users/juliusnagel/Desktop/picoutfit/data_and_model/zara_pics/zara_80.png</pre>"
      ],
      "text/plain": [
       "Invalid PNG file\t file: /Users/juliusnagel/Desktop/picoutfit/data_and_model/zara_pics/zara_80.png"
      ]
     },
     "metadata": {},
     "output_type": "display_data"
    },
    {
     "data": {
      "text/html": [
       "<pre>Invalid PNG file\t file: /Users/juliusnagel/Desktop/picoutfit/data_and_model/zara_pics/zara_646.png</pre>"
      ],
      "text/plain": [
       "Invalid PNG file\t file: /Users/juliusnagel/Desktop/picoutfit/data_and_model/zara_pics/zara_646.png"
      ]
     },
     "metadata": {},
     "output_type": "display_data"
    },
    {
     "data": {
      "text/html": [
       "<pre>Invalid PNG file\t file: /Users/juliusnagel/Desktop/picoutfit/data_and_model/zara_pics/zara_89.png</pre>"
      ],
      "text/plain": [
       "Invalid PNG file\t file: /Users/juliusnagel/Desktop/picoutfit/data_and_model/zara_pics/zara_89.png"
      ]
     },
     "metadata": {},
     "output_type": "display_data"
    },
    {
     "data": {
      "text/html": [
       "<pre>Invalid PNG file\t file: /Users/juliusnagel/Desktop/picoutfit/data_and_model/zara_pics/zara_81.png</pre>"
      ],
      "text/plain": [
       "Invalid PNG file\t file: /Users/juliusnagel/Desktop/picoutfit/data_and_model/zara_pics/zara_81.png"
      ]
     },
     "metadata": {},
     "output_type": "display_data"
    },
    {
     "data": {
      "text/html": [
       "<pre>Invalid PNG file\t file: /Users/juliusnagel/Desktop/picoutfit/data_and_model/zara_pics/zara_93.png</pre>"
      ],
      "text/plain": [
       "Invalid PNG file\t file: /Users/juliusnagel/Desktop/picoutfit/data_and_model/zara_pics/zara_93.png"
      ]
     },
     "metadata": {},
     "output_type": "display_data"
    },
    {
     "data": {
      "text/html": [
       "<pre>Invalid PNG file\t file: /Users/juliusnagel/Desktop/picoutfit/data_and_model/zara_pics/zara_376.png</pre>"
      ],
      "text/plain": [
       "Invalid PNG file\t file: /Users/juliusnagel/Desktop/picoutfit/data_and_model/zara_pics/zara_376.png"
      ]
     },
     "metadata": {},
     "output_type": "display_data"
    },
    {
     "data": {
      "text/html": [
       "<pre>Invalid PNG file\t file: /Users/juliusnagel/Desktop/picoutfit/data_and_model/zara_pics/zara_512.png</pre>"
      ],
      "text/plain": [
       "Invalid PNG file\t file: /Users/juliusnagel/Desktop/picoutfit/data_and_model/zara_pics/zara_512.png"
      ]
     },
     "metadata": {},
     "output_type": "display_data"
    },
    {
     "data": {
      "text/html": [
       "<pre>Invalid PNG file\t file: /Users/juliusnagel/Desktop/picoutfit/data_and_model/zara_pics/zara_201.png</pre>"
      ],
      "text/plain": [
       "Invalid PNG file\t file: /Users/juliusnagel/Desktop/picoutfit/data_and_model/zara_pics/zara_201.png"
      ]
     },
     "metadata": {},
     "output_type": "display_data"
    },
    {
     "data": {
      "text/html": [
       "<pre>Invalid PNG file\t file: /Users/juliusnagel/Desktop/picoutfit/data_and_model/zara_pics/zara_584.png</pre>"
      ],
      "text/plain": [
       "Invalid PNG file\t file: /Users/juliusnagel/Desktop/picoutfit/data_and_model/zara_pics/zara_584.png"
      ]
     },
     "metadata": {},
     "output_type": "display_data"
    },
    {
     "data": {
      "text/html": [
       "<pre>Invalid PNG file\t file: /Users/juliusnagel/Desktop/picoutfit/data_and_model/zara_pics/zara_699.png</pre>"
      ],
      "text/plain": [
       "Invalid PNG file\t file: /Users/juliusnagel/Desktop/picoutfit/data_and_model/zara_pics/zara_699.png"
      ]
     },
     "metadata": {},
     "output_type": "display_data"
    },
    {
     "data": {
      "text/html": [
       "<pre>Invalid PNG file\t file: /Users/juliusnagel/Desktop/picoutfit/data_and_model/zara_pics/zara_678.png</pre>"
      ],
      "text/plain": [
       "Invalid PNG file\t file: /Users/juliusnagel/Desktop/picoutfit/data_and_model/zara_pics/zara_678.png"
      ]
     },
     "metadata": {},
     "output_type": "display_data"
    },
    {
     "data": {
      "text/html": [
       "<pre>Invalid PNG file\t file: /Users/juliusnagel/Desktop/picoutfit/data_and_model/zara_pics/zara_185.png</pre>"
      ],
      "text/plain": [
       "Invalid PNG file\t file: /Users/juliusnagel/Desktop/picoutfit/data_and_model/zara_pics/zara_185.png"
      ]
     },
     "metadata": {},
     "output_type": "display_data"
    },
    {
     "data": {
      "text/html": [
       "<pre>Invalid PNG file\t file: /Users/juliusnagel/Desktop/picoutfit/data_and_model/zara_pics/zara_586.png</pre>"
      ],
      "text/plain": [
       "Invalid PNG file\t file: /Users/juliusnagel/Desktop/picoutfit/data_and_model/zara_pics/zara_586.png"
      ]
     },
     "metadata": {},
     "output_type": "display_data"
    },
    {
     "data": {
      "text/html": [
       "<pre>Invalid PNG file\t file: /Users/juliusnagel/Desktop/picoutfit/data_and_model/zara_pics/zara_140.png</pre>"
      ],
      "text/plain": [
       "Invalid PNG file\t file: /Users/juliusnagel/Desktop/picoutfit/data_and_model/zara_pics/zara_140.png"
      ]
     },
     "metadata": {},
     "output_type": "display_data"
    },
    {
     "data": {
      "text/html": [
       "<pre>Invalid PNG file\t file: /Users/juliusnagel/Desktop/picoutfit/data_and_model/zara_pics/zara_802.png</pre>"
      ],
      "text/plain": [
       "Invalid PNG file\t file: /Users/juliusnagel/Desktop/picoutfit/data_and_model/zara_pics/zara_802.png"
      ]
     },
     "metadata": {},
     "output_type": "display_data"
    },
    {
     "data": {
      "text/html": [
       "<pre>Invalid PNG file\t file: /Users/juliusnagel/Desktop/picoutfit/data_and_model/zara_pics/zara_4.png</pre>"
      ],
      "text/plain": [
       "Invalid PNG file\t file: /Users/juliusnagel/Desktop/picoutfit/data_and_model/zara_pics/zara_4.png"
      ]
     },
     "metadata": {},
     "output_type": "display_data"
    },
    {
     "data": {
      "text/html": [
       "<pre>Invalid PNG file\t file: /Users/juliusnagel/Desktop/picoutfit/data_and_model/zara_pics/zara_418.png</pre>"
      ],
      "text/plain": [
       "Invalid PNG file\t file: /Users/juliusnagel/Desktop/picoutfit/data_and_model/zara_pics/zara_418.png"
      ]
     },
     "metadata": {},
     "output_type": "display_data"
    },
    {
     "data": {
      "text/html": [
       "<pre>Invalid PNG file\t file: /Users/juliusnagel/Desktop/picoutfit/data_and_model/zara_pics/zara_19.png</pre>"
      ],
      "text/plain": [
       "Invalid PNG file\t file: /Users/juliusnagel/Desktop/picoutfit/data_and_model/zara_pics/zara_19.png"
      ]
     },
     "metadata": {},
     "output_type": "display_data"
    },
    {
     "data": {
      "text/html": [
       "<pre>Invalid PNG file\t file: /Users/juliusnagel/Desktop/picoutfit/data_and_model/zara_pics/zara_486.png</pre>"
      ],
      "text/plain": [
       "Invalid PNG file\t file: /Users/juliusnagel/Desktop/picoutfit/data_and_model/zara_pics/zara_486.png"
      ]
     },
     "metadata": {},
     "output_type": "display_data"
    },
    {
     "data": {
      "text/html": [
       "<pre>Invalid PNG file\t file: /Users/juliusnagel/Desktop/picoutfit/data_and_model/zara_pics/zara_351.png</pre>"
      ],
      "text/plain": [
       "Invalid PNG file\t file: /Users/juliusnagel/Desktop/picoutfit/data_and_model/zara_pics/zara_351.png"
      ]
     },
     "metadata": {},
     "output_type": "display_data"
    },
    {
     "data": {
      "text/html": [
       "<pre>Invalid PNG file\t file: /Users/juliusnagel/Desktop/picoutfit/data_and_model/zara_pics/zara_355.png</pre>"
      ],
      "text/plain": [
       "Invalid PNG file\t file: /Users/juliusnagel/Desktop/picoutfit/data_and_model/zara_pics/zara_355.png"
      ]
     },
     "metadata": {},
     "output_type": "display_data"
    },
    {
     "data": {
      "text/html": [
       "<pre>Invalid PNG file\t file: /Users/juliusnagel/Desktop/picoutfit/data_and_model/zara_pics/zara_217.png</pre>"
      ],
      "text/plain": [
       "Invalid PNG file\t file: /Users/juliusnagel/Desktop/picoutfit/data_and_model/zara_pics/zara_217.png"
      ]
     },
     "metadata": {},
     "output_type": "display_data"
    },
    {
     "data": {
      "text/html": [
       "<pre>Invalid PNG file\t file: /Users/juliusnagel/Desktop/picoutfit/data_and_model/zara_pics/zara_381.png</pre>"
      ],
      "text/plain": [
       "Invalid PNG file\t file: /Users/juliusnagel/Desktop/picoutfit/data_and_model/zara_pics/zara_381.png"
      ]
     },
     "metadata": {},
     "output_type": "display_data"
    },
    {
     "data": {
      "text/html": [
       "<pre>Invalid PNG file\t file: /Users/juliusnagel/Desktop/picoutfit/data_and_model/zara_pics/zara_691.png</pre>"
      ],
      "text/plain": [
       "Invalid PNG file\t file: /Users/juliusnagel/Desktop/picoutfit/data_and_model/zara_pics/zara_691.png"
      ]
     },
     "metadata": {},
     "output_type": "display_data"
    },
    {
     "data": {
      "text/html": [
       "<pre>Invalid PNG file\t file: /Users/juliusnagel/Desktop/picoutfit/data_and_model/zara_pics/zara_532.png</pre>"
      ],
      "text/plain": [
       "Invalid PNG file\t file: /Users/juliusnagel/Desktop/picoutfit/data_and_model/zara_pics/zara_532.png"
      ]
     },
     "metadata": {},
     "output_type": "display_data"
    },
    {
     "data": {
      "text/html": [
       "<pre>Invalid PNG file\t file: /Users/juliusnagel/Desktop/picoutfit/data_and_model/zara_pics/zara_137.png</pre>"
      ],
      "text/plain": [
       "Invalid PNG file\t file: /Users/juliusnagel/Desktop/picoutfit/data_and_model/zara_pics/zara_137.png"
      ]
     },
     "metadata": {},
     "output_type": "display_data"
    },
    {
     "data": {
      "text/html": [
       "<pre>Invalid PNG file\t file: /Users/juliusnagel/Desktop/picoutfit/data_and_model/zara_pics/zara_387.png</pre>"
      ],
      "text/plain": [
       "Invalid PNG file\t file: /Users/juliusnagel/Desktop/picoutfit/data_and_model/zara_pics/zara_387.png"
      ]
     },
     "metadata": {},
     "output_type": "display_data"
    },
    {
     "data": {
      "text/html": [
       "<pre>Invalid PNG file\t file: /Users/juliusnagel/Desktop/picoutfit/data_and_model/zara_pics/zara_192.png</pre>"
      ],
      "text/plain": [
       "Invalid PNG file\t file: /Users/juliusnagel/Desktop/picoutfit/data_and_model/zara_pics/zara_192.png"
      ]
     },
     "metadata": {},
     "output_type": "display_data"
    },
    {
     "data": {
      "text/html": [
       "<pre>Invalid PNG file\t file: /Users/juliusnagel/Desktop/picoutfit/data_and_model/zara_pics/zara_334.png</pre>"
      ],
      "text/plain": [
       "Invalid PNG file\t file: /Users/juliusnagel/Desktop/picoutfit/data_and_model/zara_pics/zara_334.png"
      ]
     },
     "metadata": {},
     "output_type": "display_data"
    },
    {
     "data": {
      "text/html": [
       "<pre>Invalid PNG file\t file: /Users/juliusnagel/Desktop/picoutfit/data_and_model/zara_pics/zara_589.png</pre>"
      ],
      "text/plain": [
       "Invalid PNG file\t file: /Users/juliusnagel/Desktop/picoutfit/data_and_model/zara_pics/zara_589.png"
      ]
     },
     "metadata": {},
     "output_type": "display_data"
    },
    {
     "data": {
      "text/html": [
       "<pre>Invalid PNG file\t file: /Users/juliusnagel/Desktop/picoutfit/data_and_model/zara_pics/zara_15.png</pre>"
      ],
      "text/plain": [
       "Invalid PNG file\t file: /Users/juliusnagel/Desktop/picoutfit/data_and_model/zara_pics/zara_15.png"
      ]
     },
     "metadata": {},
     "output_type": "display_data"
    },
    {
     "data": {
      "text/html": [
       "<pre>Invalid PNG file\t file: /Users/juliusnagel/Desktop/picoutfit/data_and_model/zara_pics/zara_38.png</pre>"
      ],
      "text/plain": [
       "Invalid PNG file\t file: /Users/juliusnagel/Desktop/picoutfit/data_and_model/zara_pics/zara_38.png"
      ]
     },
     "metadata": {},
     "output_type": "display_data"
    },
    {
     "data": {
      "text/html": [
       "<pre>Invalid PNG file\t file: /Users/juliusnagel/Desktop/picoutfit/data_and_model/zara_pics/zara_718.png</pre>"
      ],
      "text/plain": [
       "Invalid PNG file\t file: /Users/juliusnagel/Desktop/picoutfit/data_and_model/zara_pics/zara_718.png"
      ]
     },
     "metadata": {},
     "output_type": "display_data"
    },
    {
     "data": {
      "text/html": [
       "<pre>Invalid PNG file\t file: /Users/juliusnagel/Desktop/picoutfit/data_and_model/zara_pics/zara_189.png</pre>"
      ],
      "text/plain": [
       "Invalid PNG file\t file: /Users/juliusnagel/Desktop/picoutfit/data_and_model/zara_pics/zara_189.png"
      ]
     },
     "metadata": {},
     "output_type": "display_data"
    },
    {
     "data": {
      "text/html": [
       "<pre>Invalid PNG file\t file: /Users/juliusnagel/Desktop/picoutfit/data_and_model/zara_pics/zara_538.png</pre>"
      ],
      "text/plain": [
       "Invalid PNG file\t file: /Users/juliusnagel/Desktop/picoutfit/data_and_model/zara_pics/zara_538.png"
      ]
     },
     "metadata": {},
     "output_type": "display_data"
    },
    {
     "data": {
      "text/html": [
       "<pre>Invalid PNG file\t file: /Users/juliusnagel/Desktop/picoutfit/data_and_model/zara_pics/zara_834.png</pre>"
      ],
      "text/plain": [
       "Invalid PNG file\t file: /Users/juliusnagel/Desktop/picoutfit/data_and_model/zara_pics/zara_834.png"
      ]
     },
     "metadata": {},
     "output_type": "display_data"
    },
    {
     "data": {
      "text/html": [
       "<pre>Invalid PNG file\t file: /Users/juliusnagel/Desktop/picoutfit/data_and_model/zara_pics/zara_371.png</pre>"
      ],
      "text/plain": [
       "Invalid PNG file\t file: /Users/juliusnagel/Desktop/picoutfit/data_and_model/zara_pics/zara_371.png"
      ]
     },
     "metadata": {},
     "output_type": "display_data"
    },
    {
     "data": {
      "text/html": [
       "<pre>Invalid PNG file\t file: /Users/juliusnagel/Desktop/picoutfit/data_and_model/zara_pics/zara_389.png</pre>"
      ],
      "text/plain": [
       "Invalid PNG file\t file: /Users/juliusnagel/Desktop/picoutfit/data_and_model/zara_pics/zara_389.png"
      ]
     },
     "metadata": {},
     "output_type": "display_data"
    },
    {
     "data": {
      "text/html": [
       "<pre>Invalid PNG file\t file: /Users/juliusnagel/Desktop/picoutfit/data_and_model/zara_pics/zara_90.png</pre>"
      ],
      "text/plain": [
       "Invalid PNG file\t file: /Users/juliusnagel/Desktop/picoutfit/data_and_model/zara_pics/zara_90.png"
      ]
     },
     "metadata": {},
     "output_type": "display_data"
    },
    {
     "data": {
      "text/html": [
       "<pre>Invalid PNG file\t file: /Users/juliusnagel/Desktop/picoutfit/data_and_model/zara_pics/zara_451.png</pre>"
      ],
      "text/plain": [
       "Invalid PNG file\t file: /Users/juliusnagel/Desktop/picoutfit/data_and_model/zara_pics/zara_451.png"
      ]
     },
     "metadata": {},
     "output_type": "display_data"
    },
    {
     "data": {
      "text/html": [
       "<pre>Invalid PNG file\t file: /Users/juliusnagel/Desktop/picoutfit/data_and_model/zara_pics/zara_764.png</pre>"
      ],
      "text/plain": [
       "Invalid PNG file\t file: /Users/juliusnagel/Desktop/picoutfit/data_and_model/zara_pics/zara_764.png"
      ]
     },
     "metadata": {},
     "output_type": "display_data"
    },
    {
     "data": {
      "text/html": [
       "<pre>Invalid PNG file\t file: /Users/juliusnagel/Desktop/picoutfit/data_and_model/zara_pics/zara_549.png</pre>"
      ],
      "text/plain": [
       "Invalid PNG file\t file: /Users/juliusnagel/Desktop/picoutfit/data_and_model/zara_pics/zara_549.png"
      ]
     },
     "metadata": {},
     "output_type": "display_data"
    },
    {
     "data": {
      "text/html": [
       "<pre>Invalid PNG file\t file: /Users/juliusnagel/Desktop/picoutfit/data_and_model/zara_pics/zara_664.png</pre>"
      ],
      "text/plain": [
       "Invalid PNG file\t file: /Users/juliusnagel/Desktop/picoutfit/data_and_model/zara_pics/zara_664.png"
      ]
     },
     "metadata": {},
     "output_type": "display_data"
    },
    {
     "data": {
      "text/html": [
       "<pre>Invalid PNG file\t file: /Users/juliusnagel/Desktop/picoutfit/data_and_model/zara_pics/zara_625.png</pre>"
      ],
      "text/plain": [
       "Invalid PNG file\t file: /Users/juliusnagel/Desktop/picoutfit/data_and_model/zara_pics/zara_625.png"
      ]
     },
     "metadata": {},
     "output_type": "display_data"
    },
    {
     "data": {
      "text/html": [
       "<pre>Invalid PNG file\t file: /Users/juliusnagel/Desktop/picoutfit/data_and_model/zara_pics/zara_230.png</pre>"
      ],
      "text/plain": [
       "Invalid PNG file\t file: /Users/juliusnagel/Desktop/picoutfit/data_and_model/zara_pics/zara_230.png"
      ]
     },
     "metadata": {},
     "output_type": "display_data"
    },
    {
     "data": {
      "text/html": [
       "<pre>Invalid PNG file\t file: /Users/juliusnagel/Desktop/picoutfit/data_and_model/zara_pics/zara_145.png</pre>"
      ],
      "text/plain": [
       "Invalid PNG file\t file: /Users/juliusnagel/Desktop/picoutfit/data_and_model/zara_pics/zara_145.png"
      ]
     },
     "metadata": {},
     "output_type": "display_data"
    },
    {
     "data": {
      "text/html": [
       "<pre>Invalid PNG file\t file: /Users/juliusnagel/Desktop/picoutfit/data_and_model/zara_pics/zara_59.png</pre>"
      ],
      "text/plain": [
       "Invalid PNG file\t file: /Users/juliusnagel/Desktop/picoutfit/data_and_model/zara_pics/zara_59.png"
      ]
     },
     "metadata": {},
     "output_type": "display_data"
    },
    {
     "data": {
      "text/html": [
       "<pre>Invalid PNG file\t file: /Users/juliusnagel/Desktop/picoutfit/data_and_model/zara_pics/zara_223.png</pre>"
      ],
      "text/plain": [
       "Invalid PNG file\t file: /Users/juliusnagel/Desktop/picoutfit/data_and_model/zara_pics/zara_223.png"
      ]
     },
     "metadata": {},
     "output_type": "display_data"
    },
    {
     "data": {
      "text/html": [
       "<pre>Invalid PNG file\t file: /Users/juliusnagel/Desktop/picoutfit/data_and_model/zara_pics/zara_150.png</pre>"
      ],
      "text/plain": [
       "Invalid PNG file\t file: /Users/juliusnagel/Desktop/picoutfit/data_and_model/zara_pics/zara_150.png"
      ]
     },
     "metadata": {},
     "output_type": "display_data"
    },
    {
     "data": {
      "text/html": [
       "<pre>Invalid PNG file\t file: /Users/juliusnagel/Desktop/picoutfit/data_and_model/zara_pics/zara_713.png</pre>"
      ],
      "text/plain": [
       "Invalid PNG file\t file: /Users/juliusnagel/Desktop/picoutfit/data_and_model/zara_pics/zara_713.png"
      ]
     },
     "metadata": {},
     "output_type": "display_data"
    },
    {
     "data": {
      "text/html": [
       "<pre>Invalid PNG file\t file: /Users/juliusnagel/Desktop/picoutfit/data_and_model/zara_pics/zara_99.png</pre>"
      ],
      "text/plain": [
       "Invalid PNG file\t file: /Users/juliusnagel/Desktop/picoutfit/data_and_model/zara_pics/zara_99.png"
      ]
     },
     "metadata": {},
     "output_type": "display_data"
    },
    {
     "data": {
      "text/html": [
       "<pre>Invalid PNG file\t file: /Users/juliusnagel/Desktop/picoutfit/data_and_model/zara_pics/zara_611.png</pre>"
      ],
      "text/plain": [
       "Invalid PNG file\t file: /Users/juliusnagel/Desktop/picoutfit/data_and_model/zara_pics/zara_611.png"
      ]
     },
     "metadata": {},
     "output_type": "display_data"
    },
    {
     "data": {
      "text/html": [
       "<pre>Invalid PNG file\t file: /Users/juliusnagel/Desktop/picoutfit/data_and_model/zara_pics/zara_280.png</pre>"
      ],
      "text/plain": [
       "Invalid PNG file\t file: /Users/juliusnagel/Desktop/picoutfit/data_and_model/zara_pics/zara_280.png"
      ]
     },
     "metadata": {},
     "output_type": "display_data"
    },
    {
     "data": {
      "text/html": [
       "<pre>Invalid PNG file\t file: /Users/juliusnagel/Desktop/picoutfit/data_and_model/zara_pics/zara_682.png</pre>"
      ],
      "text/plain": [
       "Invalid PNG file\t file: /Users/juliusnagel/Desktop/picoutfit/data_and_model/zara_pics/zara_682.png"
      ]
     },
     "metadata": {},
     "output_type": "display_data"
    },
    {
     "data": {
      "text/html": [
       "<pre>Invalid PNG file\t file: /Users/juliusnagel/Desktop/picoutfit/data_and_model/zara_pics/zara_129.png</pre>"
      ],
      "text/plain": [
       "Invalid PNG file\t file: /Users/juliusnagel/Desktop/picoutfit/data_and_model/zara_pics/zara_129.png"
      ]
     },
     "metadata": {},
     "output_type": "display_data"
    },
    {
     "data": {
      "text/html": [
       "<pre>Invalid PNG file\t file: /Users/juliusnagel/Desktop/picoutfit/data_and_model/zara_pics/zara_5.png</pre>"
      ],
      "text/plain": [
       "Invalid PNG file\t file: /Users/juliusnagel/Desktop/picoutfit/data_and_model/zara_pics/zara_5.png"
      ]
     },
     "metadata": {},
     "output_type": "display_data"
    },
    {
     "data": {
      "text/html": [
       "<pre>Invalid PNG file\t file: /Users/juliusnagel/Desktop/picoutfit/data_and_model/zara_pics/zara_739.png</pre>"
      ],
      "text/plain": [
       "Invalid PNG file\t file: /Users/juliusnagel/Desktop/picoutfit/data_and_model/zara_pics/zara_739.png"
      ]
     },
     "metadata": {},
     "output_type": "display_data"
    },
    {
     "data": {
      "text/html": [
       "<pre>Invalid PNG file\t file: /Users/juliusnagel/Desktop/picoutfit/data_and_model/zara_pics/zara_336.png</pre>"
      ],
      "text/plain": [
       "Invalid PNG file\t file: /Users/juliusnagel/Desktop/picoutfit/data_and_model/zara_pics/zara_336.png"
      ]
     },
     "metadata": {},
     "output_type": "display_data"
    },
    {
     "data": {
      "text/html": [
       "<pre>Invalid PNG file\t file: /Users/juliusnagel/Desktop/picoutfit/data_and_model/zara_pics/zara_755.png</pre>"
      ],
      "text/plain": [
       "Invalid PNG file\t file: /Users/juliusnagel/Desktop/picoutfit/data_and_model/zara_pics/zara_755.png"
      ]
     },
     "metadata": {},
     "output_type": "display_data"
    },
    {
     "data": {
      "text/html": [
       "<pre>Invalid PNG file\t file: /Users/juliusnagel/Desktop/picoutfit/data_and_model/zara_pics/zara_103.png</pre>"
      ],
      "text/plain": [
       "Invalid PNG file\t file: /Users/juliusnagel/Desktop/picoutfit/data_and_model/zara_pics/zara_103.png"
      ]
     },
     "metadata": {},
     "output_type": "display_data"
    },
    {
     "data": {
      "text/html": [
       "<pre>Invalid PNG file\t file: /Users/juliusnagel/Desktop/picoutfit/data_and_model/zara_pics/zara_173.png</pre>"
      ],
      "text/plain": [
       "Invalid PNG file\t file: /Users/juliusnagel/Desktop/picoutfit/data_and_model/zara_pics/zara_173.png"
      ]
     },
     "metadata": {},
     "output_type": "display_data"
    },
    {
     "data": {
      "text/html": [
       "<pre>Invalid PNG file\t file: /Users/juliusnagel/Desktop/picoutfit/data_and_model/zara_pics/zara_738.png</pre>"
      ],
      "text/plain": [
       "Invalid PNG file\t file: /Users/juliusnagel/Desktop/picoutfit/data_and_model/zara_pics/zara_738.png"
      ]
     },
     "metadata": {},
     "output_type": "display_data"
    },
    {
     "data": {
      "text/html": [
       "<pre>Invalid PNG file\t file: /Users/juliusnagel/Desktop/picoutfit/data_and_model/zara_pics/zara_751.png</pre>"
      ],
      "text/plain": [
       "Invalid PNG file\t file: /Users/juliusnagel/Desktop/picoutfit/data_and_model/zara_pics/zara_751.png"
      ]
     },
     "metadata": {},
     "output_type": "display_data"
    },
    {
     "data": {
      "text/html": [
       "<pre>Invalid PNG file\t file: /Users/juliusnagel/Desktop/picoutfit/data_and_model/zara_pics/zara_62.png</pre>"
      ],
      "text/plain": [
       "Invalid PNG file\t file: /Users/juliusnagel/Desktop/picoutfit/data_and_model/zara_pics/zara_62.png"
      ]
     },
     "metadata": {},
     "output_type": "display_data"
    },
    {
     "data": {
      "text/html": [
       "<pre>Invalid PNG file\t file: /Users/juliusnagel/Desktop/picoutfit/data_and_model/zara_pics/zara_252.png</pre>"
      ],
      "text/plain": [
       "Invalid PNG file\t file: /Users/juliusnagel/Desktop/picoutfit/data_and_model/zara_pics/zara_252.png"
      ]
     },
     "metadata": {},
     "output_type": "display_data"
    },
    {
     "data": {
      "text/html": [
       "<pre>Invalid PNG file\t file: /Users/juliusnagel/Desktop/picoutfit/data_and_model/zara_pics/zara_249.png</pre>"
      ],
      "text/plain": [
       "Invalid PNG file\t file: /Users/juliusnagel/Desktop/picoutfit/data_and_model/zara_pics/zara_249.png"
      ]
     },
     "metadata": {},
     "output_type": "display_data"
    },
    {
     "data": {
      "text/html": [
       "<pre>Invalid PNG file\t file: /Users/juliusnagel/Desktop/picoutfit/data_and_model/zara_pics/zara_477.png</pre>"
      ],
      "text/plain": [
       "Invalid PNG file\t file: /Users/juliusnagel/Desktop/picoutfit/data_and_model/zara_pics/zara_477.png"
      ]
     },
     "metadata": {},
     "output_type": "display_data"
    },
    {
     "data": {
      "text/html": [
       "<pre>Invalid PNG file\t file: /Users/juliusnagel/Desktop/picoutfit/data_and_model/zara_pics/zara_833.png</pre>"
      ],
      "text/plain": [
       "Invalid PNG file\t file: /Users/juliusnagel/Desktop/picoutfit/data_and_model/zara_pics/zara_833.png"
      ]
     },
     "metadata": {},
     "output_type": "display_data"
    },
    {
     "data": {
      "text/html": [
       "<pre>Invalid PNG file\t file: /Users/juliusnagel/Desktop/picoutfit/data_and_model/zara_pics/zara_146.png</pre>"
      ],
      "text/plain": [
       "Invalid PNG file\t file: /Users/juliusnagel/Desktop/picoutfit/data_and_model/zara_pics/zara_146.png"
      ]
     },
     "metadata": {},
     "output_type": "display_data"
    },
    {
     "data": {
      "text/html": [
       "<pre>Invalid PNG file\t file: /Users/juliusnagel/Desktop/picoutfit/data_and_model/zara_pics/zara_87.png</pre>"
      ],
      "text/plain": [
       "Invalid PNG file\t file: /Users/juliusnagel/Desktop/picoutfit/data_and_model/zara_pics/zara_87.png"
      ]
     },
     "metadata": {},
     "output_type": "display_data"
    },
    {
     "data": {
      "text/html": [
       "<pre>Invalid PNG file\t file: /Users/juliusnagel/Desktop/picoutfit/data_and_model/zara_pics/zara_39.png</pre>"
      ],
      "text/plain": [
       "Invalid PNG file\t file: /Users/juliusnagel/Desktop/picoutfit/data_and_model/zara_pics/zara_39.png"
      ]
     },
     "metadata": {},
     "output_type": "display_data"
    },
    {
     "data": {
      "text/html": [
       "<pre>Invalid PNG file\t file: /Users/juliusnagel/Desktop/picoutfit/data_and_model/zara_pics/zara_180.png</pre>"
      ],
      "text/plain": [
       "Invalid PNG file\t file: /Users/juliusnagel/Desktop/picoutfit/data_and_model/zara_pics/zara_180.png"
      ]
     },
     "metadata": {},
     "output_type": "display_data"
    },
    {
     "data": {
      "text/html": [
       "<pre>Invalid PNG file\t file: /Users/juliusnagel/Desktop/picoutfit/data_and_model/zara_pics/zara_392.png</pre>"
      ],
      "text/plain": [
       "Invalid PNG file\t file: /Users/juliusnagel/Desktop/picoutfit/data_and_model/zara_pics/zara_392.png"
      ]
     },
     "metadata": {},
     "output_type": "display_data"
    },
    {
     "data": {
      "text/html": [
       "<pre>Invalid PNG file\t file: /Users/juliusnagel/Desktop/picoutfit/data_and_model/zara_pics/zara_413.png</pre>"
      ],
      "text/plain": [
       "Invalid PNG file\t file: /Users/juliusnagel/Desktop/picoutfit/data_and_model/zara_pics/zara_413.png"
      ]
     },
     "metadata": {},
     "output_type": "display_data"
    },
    {
     "data": {
      "text/html": [
       "<pre>Invalid PNG file\t file: /Users/juliusnagel/Desktop/picoutfit/data_and_model/zara_pics/zara_770.png</pre>"
      ],
      "text/plain": [
       "Invalid PNG file\t file: /Users/juliusnagel/Desktop/picoutfit/data_and_model/zara_pics/zara_770.png"
      ]
     },
     "metadata": {},
     "output_type": "display_data"
    },
    {
     "data": {
      "text/html": [
       "<pre>Invalid PNG file\t file: /Users/juliusnagel/Desktop/picoutfit/data_and_model/zara_pics/zara_436.png</pre>"
      ],
      "text/plain": [
       "Invalid PNG file\t file: /Users/juliusnagel/Desktop/picoutfit/data_and_model/zara_pics/zara_436.png"
      ]
     },
     "metadata": {},
     "output_type": "display_data"
    },
    {
     "data": {
      "text/html": [
       "<pre>Invalid PNG file\t file: /Users/juliusnagel/Desktop/picoutfit/data_and_model/zara_pics/zara_138.png</pre>"
      ],
      "text/plain": [
       "Invalid PNG file\t file: /Users/juliusnagel/Desktop/picoutfit/data_and_model/zara_pics/zara_138.png"
      ]
     },
     "metadata": {},
     "output_type": "display_data"
    },
    {
     "data": {
      "text/html": [
       "<pre>Invalid PNG file\t file: /Users/juliusnagel/Desktop/picoutfit/data_and_model/zara_pics/zara_333.png</pre>"
      ],
      "text/plain": [
       "Invalid PNG file\t file: /Users/juliusnagel/Desktop/picoutfit/data_and_model/zara_pics/zara_333.png"
      ]
     },
     "metadata": {},
     "output_type": "display_data"
    },
    {
     "data": {
      "text/html": [
       "<pre>Invalid PNG file\t file: /Users/juliusnagel/Desktop/picoutfit/data_and_model/zara_pics/zara_571.png</pre>"
      ],
      "text/plain": [
       "Invalid PNG file\t file: /Users/juliusnagel/Desktop/picoutfit/data_and_model/zara_pics/zara_571.png"
      ]
     },
     "metadata": {},
     "output_type": "display_data"
    },
    {
     "data": {
      "text/html": [
       "<pre>Invalid PNG file\t file: /Users/juliusnagel/Desktop/picoutfit/data_and_model/zara_pics/zara_619.png</pre>"
      ],
      "text/plain": [
       "Invalid PNG file\t file: /Users/juliusnagel/Desktop/picoutfit/data_and_model/zara_pics/zara_619.png"
      ]
     },
     "metadata": {},
     "output_type": "display_data"
    },
    {
     "data": {
      "text/html": [
       "<pre>Invalid PNG file\t file: /Users/juliusnagel/Desktop/picoutfit/data_and_model/zara_pics/zara_466.png</pre>"
      ],
      "text/plain": [
       "Invalid PNG file\t file: /Users/juliusnagel/Desktop/picoutfit/data_and_model/zara_pics/zara_466.png"
      ]
     },
     "metadata": {},
     "output_type": "display_data"
    },
    {
     "data": {
      "text/html": [
       "<pre>Invalid PNG file\t file: /Users/juliusnagel/Desktop/picoutfit/data_and_model/zara_pics/zara_108.png</pre>"
      ],
      "text/plain": [
       "Invalid PNG file\t file: /Users/juliusnagel/Desktop/picoutfit/data_and_model/zara_pics/zara_108.png"
      ]
     },
     "metadata": {},
     "output_type": "display_data"
    },
    {
     "data": {
      "text/html": [
       "<pre>Invalid PNG file\t file: /Users/juliusnagel/Desktop/picoutfit/data_and_model/zara_pics/zara_318.png</pre>"
      ],
      "text/plain": [
       "Invalid PNG file\t file: /Users/juliusnagel/Desktop/picoutfit/data_and_model/zara_pics/zara_318.png"
      ]
     },
     "metadata": {},
     "output_type": "display_data"
    },
    {
     "data": {
      "text/html": [
       "<pre>Invalid PNG file\t file: /Users/juliusnagel/Desktop/picoutfit/data_and_model/zara_pics/zara_500.png</pre>"
      ],
      "text/plain": [
       "Invalid PNG file\t file: /Users/juliusnagel/Desktop/picoutfit/data_and_model/zara_pics/zara_500.png"
      ]
     },
     "metadata": {},
     "output_type": "display_data"
    },
    {
     "data": {
      "text/html": [
       "<pre>Invalid PNG file\t file: /Users/juliusnagel/Desktop/picoutfit/data_and_model/zara_pics/zara_161.png</pre>"
      ],
      "text/plain": [
       "Invalid PNG file\t file: /Users/juliusnagel/Desktop/picoutfit/data_and_model/zara_pics/zara_161.png"
      ]
     },
     "metadata": {},
     "output_type": "display_data"
    },
    {
     "data": {
      "text/html": [
       "<pre>Invalid PNG file\t file: /Users/juliusnagel/Desktop/picoutfit/data_and_model/zara_pics/zara_264.png</pre>"
      ],
      "text/plain": [
       "Invalid PNG file\t file: /Users/juliusnagel/Desktop/picoutfit/data_and_model/zara_pics/zara_264.png"
      ]
     },
     "metadata": {},
     "output_type": "display_data"
    },
    {
     "data": {
      "text/html": [
       "<pre>Invalid PNG file\t file: /Users/juliusnagel/Desktop/picoutfit/data_and_model/zara_pics/zara_778.png</pre>"
      ],
      "text/plain": [
       "Invalid PNG file\t file: /Users/juliusnagel/Desktop/picoutfit/data_and_model/zara_pics/zara_778.png"
      ]
     },
     "metadata": {},
     "output_type": "display_data"
    },
    {
     "data": {
      "text/html": [
       "<pre>Invalid PNG file\t file: /Users/juliusnagel/Desktop/picoutfit/data_and_model/zara_pics/zara_237.png</pre>"
      ],
      "text/plain": [
       "Invalid PNG file\t file: /Users/juliusnagel/Desktop/picoutfit/data_and_model/zara_pics/zara_237.png"
      ]
     },
     "metadata": {},
     "output_type": "display_data"
    },
    {
     "data": {
      "text/html": [
       "<pre>Invalid PNG file\t file: /Users/juliusnagel/Desktop/picoutfit/data_and_model/zara_pics/zara_207.png</pre>"
      ],
      "text/plain": [
       "Invalid PNG file\t file: /Users/juliusnagel/Desktop/picoutfit/data_and_model/zara_pics/zara_207.png"
      ]
     },
     "metadata": {},
     "output_type": "display_data"
    },
    {
     "data": {
      "text/html": [
       "<pre>Invalid PNG file\t file: /Users/juliusnagel/Desktop/picoutfit/data_and_model/zara_pics/zara_329.png</pre>"
      ],
      "text/plain": [
       "Invalid PNG file\t file: /Users/juliusnagel/Desktop/picoutfit/data_and_model/zara_pics/zara_329.png"
      ]
     },
     "metadata": {},
     "output_type": "display_data"
    },
    {
     "data": {
      "text/html": [
       "<pre>Invalid PNG file\t file: /Users/juliusnagel/Desktop/picoutfit/data_and_model/zara_pics/zara_542.png</pre>"
      ],
      "text/plain": [
       "Invalid PNG file\t file: /Users/juliusnagel/Desktop/picoutfit/data_and_model/zara_pics/zara_542.png"
      ]
     },
     "metadata": {},
     "output_type": "display_data"
    },
    {
     "data": {
      "text/html": [
       "<pre>Invalid PNG file\t file: /Users/juliusnagel/Desktop/picoutfit/data_and_model/zara_pics/zara_544.png</pre>"
      ],
      "text/plain": [
       "Invalid PNG file\t file: /Users/juliusnagel/Desktop/picoutfit/data_and_model/zara_pics/zara_544.png"
      ]
     },
     "metadata": {},
     "output_type": "display_data"
    },
    {
     "data": {
      "text/html": [
       "<pre>Invalid PNG file\t file: /Users/juliusnagel/Desktop/picoutfit/data_and_model/zara_pics/zara_149.png</pre>"
      ],
      "text/plain": [
       "Invalid PNG file\t file: /Users/juliusnagel/Desktop/picoutfit/data_and_model/zara_pics/zara_149.png"
      ]
     },
     "metadata": {},
     "output_type": "display_data"
    },
    {
     "data": {
      "text/html": [
       "<pre>Invalid PNG file\t file: /Users/juliusnagel/Desktop/picoutfit/data_and_model/zara_pics/zara_620.png</pre>"
      ],
      "text/plain": [
       "Invalid PNG file\t file: /Users/juliusnagel/Desktop/picoutfit/data_and_model/zara_pics/zara_620.png"
      ]
     },
     "metadata": {},
     "output_type": "display_data"
    },
    {
     "data": {
      "text/html": [
       "<pre>Invalid PNG file\t file: /Users/juliusnagel/Desktop/picoutfit/data_and_model/zara_pics/zara_272.png</pre>"
      ],
      "text/plain": [
       "Invalid PNG file\t file: /Users/juliusnagel/Desktop/picoutfit/data_and_model/zara_pics/zara_272.png"
      ]
     },
     "metadata": {},
     "output_type": "display_data"
    },
    {
     "data": {
      "text/html": [
       "<pre>Invalid PNG file\t file: /Users/juliusnagel/Desktop/picoutfit/data_and_model/zara_pics/zara_119.png</pre>"
      ],
      "text/plain": [
       "Invalid PNG file\t file: /Users/juliusnagel/Desktop/picoutfit/data_and_model/zara_pics/zara_119.png"
      ]
     },
     "metadata": {},
     "output_type": "display_data"
    },
    {
     "data": {
      "text/html": [
       "<pre>Invalid PNG file\t file: /Users/juliusnagel/Desktop/picoutfit/data_and_model/zara_pics/zara_447.png</pre>"
      ],
      "text/plain": [
       "Invalid PNG file\t file: /Users/juliusnagel/Desktop/picoutfit/data_and_model/zara_pics/zara_447.png"
      ]
     },
     "metadata": {},
     "output_type": "display_data"
    },
    {
     "data": {
      "text/html": [
       "<pre>Invalid PNG file\t file: /Users/juliusnagel/Desktop/picoutfit/data_and_model/zara_pics/zara_722.png</pre>"
      ],
      "text/plain": [
       "Invalid PNG file\t file: /Users/juliusnagel/Desktop/picoutfit/data_and_model/zara_pics/zara_722.png"
      ]
     },
     "metadata": {},
     "output_type": "display_data"
    },
    {
     "data": {
      "text/html": [
       "<pre>Invalid PNG file\t file: /Users/juliusnagel/Desktop/picoutfit/data_and_model/zara_pics/zara_685.png</pre>"
      ],
      "text/plain": [
       "Invalid PNG file\t file: /Users/juliusnagel/Desktop/picoutfit/data_and_model/zara_pics/zara_685.png"
      ]
     },
     "metadata": {},
     "output_type": "display_data"
    },
    {
     "data": {
      "text/html": [
       "<pre>Invalid PNG file\t file: /Users/juliusnagel/Desktop/picoutfit/data_and_model/zara_pics/zara_260.png</pre>"
      ],
      "text/plain": [
       "Invalid PNG file\t file: /Users/juliusnagel/Desktop/picoutfit/data_and_model/zara_pics/zara_260.png"
      ]
     },
     "metadata": {},
     "output_type": "display_data"
    },
    {
     "data": {
      "text/html": [
       "<pre>Invalid PNG file\t file: /Users/juliusnagel/Desktop/picoutfit/data_and_model/zara_pics/zara_631.png</pre>"
      ],
      "text/plain": [
       "Invalid PNG file\t file: /Users/juliusnagel/Desktop/picoutfit/data_and_model/zara_pics/zara_631.png"
      ]
     },
     "metadata": {},
     "output_type": "display_data"
    },
    {
     "data": {
      "text/html": [
       "<pre>Invalid PNG file\t file: /Users/juliusnagel/Desktop/picoutfit/data_and_model/zara_pics/zara_705.png</pre>"
      ],
      "text/plain": [
       "Invalid PNG file\t file: /Users/juliusnagel/Desktop/picoutfit/data_and_model/zara_pics/zara_705.png"
      ]
     },
     "metadata": {},
     "output_type": "display_data"
    },
    {
     "data": {
      "text/html": [
       "<pre>Invalid PNG file\t file: /Users/juliusnagel/Desktop/picoutfit/data_and_model/zara_pics/zara_227.png</pre>"
      ],
      "text/plain": [
       "Invalid PNG file\t file: /Users/juliusnagel/Desktop/picoutfit/data_and_model/zara_pics/zara_227.png"
      ]
     },
     "metadata": {},
     "output_type": "display_data"
    },
    {
     "data": {
      "text/html": [
       "<pre>Invalid PNG file\t file: /Users/juliusnagel/Desktop/picoutfit/data_and_model/zara_pics/zara_684.png</pre>"
      ],
      "text/plain": [
       "Invalid PNG file\t file: /Users/juliusnagel/Desktop/picoutfit/data_and_model/zara_pics/zara_684.png"
      ]
     },
     "metadata": {},
     "output_type": "display_data"
    },
    {
     "data": {
      "text/html": [
       "<pre>Invalid PNG file\t file: /Users/juliusnagel/Desktop/picoutfit/data_and_model/zara_pics/zara_202.png</pre>"
      ],
      "text/plain": [
       "Invalid PNG file\t file: /Users/juliusnagel/Desktop/picoutfit/data_and_model/zara_pics/zara_202.png"
      ]
     },
     "metadata": {},
     "output_type": "display_data"
    },
    {
     "data": {
      "text/html": [
       "<pre>Invalid PNG file\t file: /Users/juliusnagel/Desktop/picoutfit/data_and_model/zara_pics/zara_82.png</pre>"
      ],
      "text/plain": [
       "Invalid PNG file\t file: /Users/juliusnagel/Desktop/picoutfit/data_and_model/zara_pics/zara_82.png"
      ]
     },
     "metadata": {},
     "output_type": "display_data"
    },
    {
     "data": {
      "text/html": [
       "<pre>Invalid PNG file\t file: /Users/juliusnagel/Desktop/picoutfit/data_and_model/zara_pics/zara_174.png</pre>"
      ],
      "text/plain": [
       "Invalid PNG file\t file: /Users/juliusnagel/Desktop/picoutfit/data_and_model/zara_pics/zara_174.png"
      ]
     },
     "metadata": {},
     "output_type": "display_data"
    },
    {
     "data": {
      "text/html": [
       "<pre>Invalid PNG file\t file: /Users/juliusnagel/Desktop/picoutfit/data_and_model/zara_pics/zara_701.png</pre>"
      ],
      "text/plain": [
       "Invalid PNG file\t file: /Users/juliusnagel/Desktop/picoutfit/data_and_model/zara_pics/zara_701.png"
      ]
     },
     "metadata": {},
     "output_type": "display_data"
    },
    {
     "data": {
      "text/html": [
       "<pre>Invalid PNG file\t file: /Users/juliusnagel/Desktop/picoutfit/data_and_model/zara_pics/zara_526.png</pre>"
      ],
      "text/plain": [
       "Invalid PNG file\t file: /Users/juliusnagel/Desktop/picoutfit/data_and_model/zara_pics/zara_526.png"
      ]
     },
     "metadata": {},
     "output_type": "display_data"
    },
    {
     "data": {
      "text/html": [
       "<pre>Invalid PNG file\t file: /Users/juliusnagel/Desktop/picoutfit/data_and_model/zara_pics/zara_600.png</pre>"
      ],
      "text/plain": [
       "Invalid PNG file\t file: /Users/juliusnagel/Desktop/picoutfit/data_and_model/zara_pics/zara_600.png"
      ]
     },
     "metadata": {},
     "output_type": "display_data"
    },
    {
     "data": {
      "text/html": [
       "<pre>Invalid PNG file\t file: /Users/juliusnagel/Desktop/picoutfit/data_and_model/zara_pics/zara_726.png</pre>"
      ],
      "text/plain": [
       "Invalid PNG file\t file: /Users/juliusnagel/Desktop/picoutfit/data_and_model/zara_pics/zara_726.png"
      ]
     },
     "metadata": {},
     "output_type": "display_data"
    },
    {
     "data": {
      "text/html": [
       "<pre>Invalid PNG file\t file: /Users/juliusnagel/Desktop/picoutfit/data_and_model/zara_pics/zara_489.png</pre>"
      ],
      "text/plain": [
       "Invalid PNG file\t file: /Users/juliusnagel/Desktop/picoutfit/data_and_model/zara_pics/zara_489.png"
      ]
     },
     "metadata": {},
     "output_type": "display_data"
    },
    {
     "data": {
      "text/html": [
       "<pre>Invalid PNG file\t file: /Users/juliusnagel/Desktop/picoutfit/data_and_model/zara_pics/zara_75.png</pre>"
      ],
      "text/plain": [
       "Invalid PNG file\t file: /Users/juliusnagel/Desktop/picoutfit/data_and_model/zara_pics/zara_75.png"
      ]
     },
     "metadata": {},
     "output_type": "display_data"
    },
    {
     "data": {
      "text/html": [
       "<pre>Invalid PNG file\t file: /Users/juliusnagel/Desktop/picoutfit/data_and_model/zara_pics/zara_79.png</pre>"
      ],
      "text/plain": [
       "Invalid PNG file\t file: /Users/juliusnagel/Desktop/picoutfit/data_and_model/zara_pics/zara_79.png"
      ]
     },
     "metadata": {},
     "output_type": "display_data"
    },
    {
     "data": {
      "text/html": [
       "<pre>Invalid PNG file\t file: /Users/juliusnagel/Desktop/picoutfit/data_and_model/zara_pics/zara_635.png</pre>"
      ],
      "text/plain": [
       "Invalid PNG file\t file: /Users/juliusnagel/Desktop/picoutfit/data_and_model/zara_pics/zara_635.png"
      ]
     },
     "metadata": {},
     "output_type": "display_data"
    },
    {
     "data": {
      "text/html": [
       "<pre>Invalid PNG file\t file: /Users/juliusnagel/Desktop/picoutfit/data_and_model/zara_pics/zara_396.png</pre>"
      ],
      "text/plain": [
       "Invalid PNG file\t file: /Users/juliusnagel/Desktop/picoutfit/data_and_model/zara_pics/zara_396.png"
      ]
     },
     "metadata": {},
     "output_type": "display_data"
    },
    {
     "data": {
      "text/html": [
       "<pre>Invalid PNG file\t file: /Users/juliusnagel/Desktop/picoutfit/data_and_model/zara_pics/zara_641.png</pre>"
      ],
      "text/plain": [
       "Invalid PNG file\t file: /Users/juliusnagel/Desktop/picoutfit/data_and_model/zara_pics/zara_641.png"
      ]
     },
     "metadata": {},
     "output_type": "display_data"
    },
    {
     "data": {
      "text/html": [
       "<pre>Invalid PNG file\t file: /Users/juliusnagel/Desktop/picoutfit/data_and_model/zara_pics/zara_247.png</pre>"
      ],
      "text/plain": [
       "Invalid PNG file\t file: /Users/juliusnagel/Desktop/picoutfit/data_and_model/zara_pics/zara_247.png"
      ]
     },
     "metadata": {},
     "output_type": "display_data"
    },
    {
     "data": {
      "text/html": [
       "<pre>Invalid PNG file\t file: /Users/juliusnagel/Desktop/picoutfit/data_and_model/zara_pics/zara_787.png</pre>"
      ],
      "text/plain": [
       "Invalid PNG file\t file: /Users/juliusnagel/Desktop/picoutfit/data_and_model/zara_pics/zara_787.png"
      ]
     },
     "metadata": {},
     "output_type": "display_data"
    },
    {
     "data": {
      "text/html": [
       "<pre>Invalid PNG file\t file: /Users/juliusnagel/Desktop/picoutfit/data_and_model/zara_pics/zara_171.png</pre>"
      ],
      "text/plain": [
       "Invalid PNG file\t file: /Users/juliusnagel/Desktop/picoutfit/data_and_model/zara_pics/zara_171.png"
      ]
     },
     "metadata": {},
     "output_type": "display_data"
    },
    {
     "data": {
      "text/html": [
       "<pre>Invalid PNG file\t file: /Users/juliusnagel/Desktop/picoutfit/data_and_model/zara_pics/zara_310.png</pre>"
      ],
      "text/plain": [
       "Invalid PNG file\t file: /Users/juliusnagel/Desktop/picoutfit/data_and_model/zara_pics/zara_310.png"
      ]
     },
     "metadata": {},
     "output_type": "display_data"
    },
    {
     "data": {
      "text/html": [
       "<pre>Invalid PNG file\t file: /Users/juliusnagel/Desktop/picoutfit/data_and_model/zara_pics/zara_565.png</pre>"
      ],
      "text/plain": [
       "Invalid PNG file\t file: /Users/juliusnagel/Desktop/picoutfit/data_and_model/zara_pics/zara_565.png"
      ]
     },
     "metadata": {},
     "output_type": "display_data"
    },
    {
     "data": {
      "text/html": [
       "<pre>Invalid PNG file\t file: /Users/juliusnagel/Desktop/picoutfit/data_and_model/zara_pics/zara_44.png</pre>"
      ],
      "text/plain": [
       "Invalid PNG file\t file: /Users/juliusnagel/Desktop/picoutfit/data_and_model/zara_pics/zara_44.png"
      ]
     },
     "metadata": {},
     "output_type": "display_data"
    },
    {
     "data": {
      "text/html": [
       "<pre>Invalid PNG file\t file: /Users/juliusnagel/Desktop/picoutfit/data_and_model/zara_pics/zara_789.png</pre>"
      ],
      "text/plain": [
       "Invalid PNG file\t file: /Users/juliusnagel/Desktop/picoutfit/data_and_model/zara_pics/zara_789.png"
      ]
     },
     "metadata": {},
     "output_type": "display_data"
    },
    {
     "data": {
      "text/html": [
       "<pre>Invalid PNG file\t file: /Users/juliusnagel/Desktop/picoutfit/data_and_model/zara_pics/zara_697.png</pre>"
      ],
      "text/plain": [
       "Invalid PNG file\t file: /Users/juliusnagel/Desktop/picoutfit/data_and_model/zara_pics/zara_697.png"
      ]
     },
     "metadata": {},
     "output_type": "display_data"
    },
    {
     "data": {
      "text/html": [
       "<pre>Invalid PNG file\t file: /Users/juliusnagel/Desktop/picoutfit/data_and_model/zara_pics/zara_95.png</pre>"
      ],
      "text/plain": [
       "Invalid PNG file\t file: /Users/juliusnagel/Desktop/picoutfit/data_and_model/zara_pics/zara_95.png"
      ]
     },
     "metadata": {},
     "output_type": "display_data"
    },
    {
     "data": {
      "text/html": [
       "<pre>Invalid PNG file\t file: /Users/juliusnagel/Desktop/picoutfit/data_and_model/zara_pics/zara_794.png</pre>"
      ],
      "text/plain": [
       "Invalid PNG file\t file: /Users/juliusnagel/Desktop/picoutfit/data_and_model/zara_pics/zara_794.png"
      ]
     },
     "metadata": {},
     "output_type": "display_data"
    },
    {
     "data": {
      "text/html": [
       "<pre>Invalid PNG file\t file: /Users/juliusnagel/Desktop/picoutfit/data_and_model/zara_pics/zara_239.png</pre>"
      ],
      "text/plain": [
       "Invalid PNG file\t file: /Users/juliusnagel/Desktop/picoutfit/data_and_model/zara_pics/zara_239.png"
      ]
     },
     "metadata": {},
     "output_type": "display_data"
    },
    {
     "data": {
      "text/html": [
       "<pre>Invalid PNG file\t file: /Users/juliusnagel/Desktop/picoutfit/data_and_model/zara_pics/zara_17.png</pre>"
      ],
      "text/plain": [
       "Invalid PNG file\t file: /Users/juliusnagel/Desktop/picoutfit/data_and_model/zara_pics/zara_17.png"
      ]
     },
     "metadata": {},
     "output_type": "display_data"
    },
    {
     "data": {
      "text/html": [
       "<pre>Invalid PNG file\t file: /Users/juliusnagel/Desktop/picoutfit/data_and_model/zara_pics/zara_553.png</pre>"
      ],
      "text/plain": [
       "Invalid PNG file\t file: /Users/juliusnagel/Desktop/picoutfit/data_and_model/zara_pics/zara_553.png"
      ]
     },
     "metadata": {},
     "output_type": "display_data"
    },
    {
     "data": {
      "text/html": [
       "<pre>Invalid PNG file\t file: /Users/juliusnagel/Desktop/picoutfit/data_and_model/zara_pics/zara_709.png</pre>"
      ],
      "text/plain": [
       "Invalid PNG file\t file: /Users/juliusnagel/Desktop/picoutfit/data_and_model/zara_pics/zara_709.png"
      ]
     },
     "metadata": {},
     "output_type": "display_data"
    },
    {
     "data": {
      "text/html": [
       "<pre>Invalid PNG file\t file: /Users/juliusnagel/Desktop/picoutfit/data_and_model/zara_pics/zara_409.png</pre>"
      ],
      "text/plain": [
       "Invalid PNG file\t file: /Users/juliusnagel/Desktop/picoutfit/data_and_model/zara_pics/zara_409.png"
      ]
     },
     "metadata": {},
     "output_type": "display_data"
    },
    {
     "data": {
      "text/html": [
       "<pre>Invalid PNG file\t file: /Users/juliusnagel/Desktop/picoutfit/data_and_model/zara_pics/zara_675.png</pre>"
      ],
      "text/plain": [
       "Invalid PNG file\t file: /Users/juliusnagel/Desktop/picoutfit/data_and_model/zara_pics/zara_675.png"
      ]
     },
     "metadata": {},
     "output_type": "display_data"
    },
    {
     "data": {
      "text/html": [
       "<pre>Invalid PNG file\t file: /Users/juliusnagel/Desktop/picoutfit/data_and_model/zara_pics/zara_795.png</pre>"
      ],
      "text/plain": [
       "Invalid PNG file\t file: /Users/juliusnagel/Desktop/picoutfit/data_and_model/zara_pics/zara_795.png"
      ]
     },
     "metadata": {},
     "output_type": "display_data"
    },
    {
     "data": {
      "text/html": [
       "<pre>Invalid PNG file\t file: /Users/juliusnagel/Desktop/picoutfit/data_and_model/zara_pics/zara_656.png</pre>"
      ],
      "text/plain": [
       "Invalid PNG file\t file: /Users/juliusnagel/Desktop/picoutfit/data_and_model/zara_pics/zara_656.png"
      ]
     },
     "metadata": {},
     "output_type": "display_data"
    },
    {
     "data": {
      "text/html": [
       "<pre>Invalid PNG file\t file: /Users/juliusnagel/Desktop/picoutfit/data_and_model/zara_pics/zara_440.png</pre>"
      ],
      "text/plain": [
       "Invalid PNG file\t file: /Users/juliusnagel/Desktop/picoutfit/data_and_model/zara_pics/zara_440.png"
      ]
     },
     "metadata": {},
     "output_type": "display_data"
    },
    {
     "data": {
      "text/html": [
       "<pre>Invalid PNG file\t file: /Users/juliusnagel/Desktop/picoutfit/data_and_model/zara_pics/zara_683.png</pre>"
      ],
      "text/plain": [
       "Invalid PNG file\t file: /Users/juliusnagel/Desktop/picoutfit/data_and_model/zara_pics/zara_683.png"
      ]
     },
     "metadata": {},
     "output_type": "display_data"
    },
    {
     "data": {
      "text/html": [
       "<pre>Invalid PNG file\t file: /Users/juliusnagel/Desktop/picoutfit/data_and_model/zara_pics/zara_386.png</pre>"
      ],
      "text/plain": [
       "Invalid PNG file\t file: /Users/juliusnagel/Desktop/picoutfit/data_and_model/zara_pics/zara_386.png"
      ]
     },
     "metadata": {},
     "output_type": "display_data"
    },
    {
     "data": {
      "text/html": [
       "<pre>Invalid PNG file\t file: /Users/juliusnagel/Desktop/picoutfit/data_and_model/zara_pics/zara_212.png</pre>"
      ],
      "text/plain": [
       "Invalid PNG file\t file: /Users/juliusnagel/Desktop/picoutfit/data_and_model/zara_pics/zara_212.png"
      ]
     },
     "metadata": {},
     "output_type": "display_data"
    },
    {
     "data": {
      "text/html": [
       "<pre>Invalid PNG file\t file: /Users/juliusnagel/Desktop/picoutfit/data_and_model/zara_pics/zara_485.png</pre>"
      ],
      "text/plain": [
       "Invalid PNG file\t file: /Users/juliusnagel/Desktop/picoutfit/data_and_model/zara_pics/zara_485.png"
      ]
     },
     "metadata": {},
     "output_type": "display_data"
    },
    {
     "data": {
      "text/html": [
       "<pre>Invalid PNG file\t file: /Users/juliusnagel/Desktop/picoutfit/data_and_model/zara_pics/zara_573.png</pre>"
      ],
      "text/plain": [
       "Invalid PNG file\t file: /Users/juliusnagel/Desktop/picoutfit/data_and_model/zara_pics/zara_573.png"
      ]
     },
     "metadata": {},
     "output_type": "display_data"
    },
    {
     "data": {
      "text/html": [
       "<pre>Invalid PNG file\t file: /Users/juliusnagel/Desktop/picoutfit/data_and_model/zara_pics/zara_324.png</pre>"
      ],
      "text/plain": [
       "Invalid PNG file\t file: /Users/juliusnagel/Desktop/picoutfit/data_and_model/zara_pics/zara_324.png"
      ]
     },
     "metadata": {},
     "output_type": "display_data"
    },
    {
     "data": {
      "text/html": [
       "<pre>Invalid PNG file\t file: /Users/juliusnagel/Desktop/picoutfit/data_and_model/zara_pics/zara_439.png</pre>"
      ],
      "text/plain": [
       "Invalid PNG file\t file: /Users/juliusnagel/Desktop/picoutfit/data_and_model/zara_pics/zara_439.png"
      ]
     },
     "metadata": {},
     "output_type": "display_data"
    },
    {
     "data": {
      "text/html": [
       "<pre>Invalid PNG file\t file: /Users/juliusnagel/Desktop/picoutfit/data_and_model/zara_pics/zara_450.png</pre>"
      ],
      "text/plain": [
       "Invalid PNG file\t file: /Users/juliusnagel/Desktop/picoutfit/data_and_model/zara_pics/zara_450.png"
      ]
     },
     "metadata": {},
     "output_type": "display_data"
    },
    {
     "data": {
      "text/html": [
       "<pre>Invalid PNG file\t file: /Users/juliusnagel/Desktop/picoutfit/data_and_model/zara_pics/zara_537.png</pre>"
      ],
      "text/plain": [
       "Invalid PNG file\t file: /Users/juliusnagel/Desktop/picoutfit/data_and_model/zara_pics/zara_537.png"
      ]
     },
     "metadata": {},
     "output_type": "display_data"
    },
    {
     "data": {
      "text/html": [
       "<pre>Invalid PNG file\t file: /Users/juliusnagel/Desktop/picoutfit/data_and_model/zara_pics/zara_147.png</pre>"
      ],
      "text/plain": [
       "Invalid PNG file\t file: /Users/juliusnagel/Desktop/picoutfit/data_and_model/zara_pics/zara_147.png"
      ]
     },
     "metadata": {},
     "output_type": "display_data"
    },
    {
     "data": {
      "text/html": [
       "<pre>Invalid PNG file\t file: /Users/juliusnagel/Desktop/picoutfit/data_and_model/zara_pics/zara_788.png</pre>"
      ],
      "text/plain": [
       "Invalid PNG file\t file: /Users/juliusnagel/Desktop/picoutfit/data_and_model/zara_pics/zara_788.png"
      ]
     },
     "metadata": {},
     "output_type": "display_data"
    },
    {
     "data": {
      "text/html": [
       "<pre>Invalid PNG file\t file: /Users/juliusnagel/Desktop/picoutfit/data_and_model/zara_pics/zara_825.png</pre>"
      ],
      "text/plain": [
       "Invalid PNG file\t file: /Users/juliusnagel/Desktop/picoutfit/data_and_model/zara_pics/zara_825.png"
      ]
     },
     "metadata": {},
     "output_type": "display_data"
    },
    {
     "data": {
      "text/html": [
       "<pre>Invalid PNG file\t file: /Users/juliusnagel/Desktop/picoutfit/data_and_model/zara_pics/zara_332.png</pre>"
      ],
      "text/plain": [
       "Invalid PNG file\t file: /Users/juliusnagel/Desktop/picoutfit/data_and_model/zara_pics/zara_332.png"
      ]
     },
     "metadata": {},
     "output_type": "display_data"
    },
    {
     "data": {
      "text/html": [
       "<pre>Invalid PNG file\t file: /Users/juliusnagel/Desktop/picoutfit/data_and_model/zara_pics/zara_276.png</pre>"
      ],
      "text/plain": [
       "Invalid PNG file\t file: /Users/juliusnagel/Desktop/picoutfit/data_and_model/zara_pics/zara_276.png"
      ]
     },
     "metadata": {},
     "output_type": "display_data"
    },
    {
     "data": {
      "text/html": [
       "<pre>Invalid PNG file\t file: /Users/juliusnagel/Desktop/picoutfit/data_and_model/zara_pics/zara_662.png</pre>"
      ],
      "text/plain": [
       "Invalid PNG file\t file: /Users/juliusnagel/Desktop/picoutfit/data_and_model/zara_pics/zara_662.png"
      ]
     },
     "metadata": {},
     "output_type": "display_data"
    },
    {
     "data": {
      "text/html": [
       "<pre>Invalid PNG file\t file: /Users/juliusnagel/Desktop/picoutfit/data_and_model/zara_pics/zara_804.png</pre>"
      ],
      "text/plain": [
       "Invalid PNG file\t file: /Users/juliusnagel/Desktop/picoutfit/data_and_model/zara_pics/zara_804.png"
      ]
     },
     "metadata": {},
     "output_type": "display_data"
    },
    {
     "data": {
      "text/html": [
       "<pre>Invalid PNG file\t file: /Users/juliusnagel/Desktop/picoutfit/data_and_model/zara_pics/zara_686.png</pre>"
      ],
      "text/plain": [
       "Invalid PNG file\t file: /Users/juliusnagel/Desktop/picoutfit/data_and_model/zara_pics/zara_686.png"
      ]
     },
     "metadata": {},
     "output_type": "display_data"
    },
    {
     "data": {
      "text/html": [
       "<pre>Invalid PNG file\t file: /Users/juliusnagel/Desktop/picoutfit/data_and_model/zara_pics/zara_673.png</pre>"
      ],
      "text/plain": [
       "Invalid PNG file\t file: /Users/juliusnagel/Desktop/picoutfit/data_and_model/zara_pics/zara_673.png"
      ]
     },
     "metadata": {},
     "output_type": "display_data"
    },
    {
     "data": {
      "text/html": [
       "<pre>Invalid PNG file\t file: /Users/juliusnagel/Desktop/picoutfit/data_and_model/zara_pics/zara_74.png</pre>"
      ],
      "text/plain": [
       "Invalid PNG file\t file: /Users/juliusnagel/Desktop/picoutfit/data_and_model/zara_pics/zara_74.png"
      ]
     },
     "metadata": {},
     "output_type": "display_data"
    },
    {
     "data": {
      "text/html": [
       "<pre>Invalid PNG file\t file: /Users/juliusnagel/Desktop/picoutfit/data_and_model/zara_pics/zara_28.png</pre>"
      ],
      "text/plain": [
       "Invalid PNG file\t file: /Users/juliusnagel/Desktop/picoutfit/data_and_model/zara_pics/zara_28.png"
      ]
     },
     "metadata": {},
     "output_type": "display_data"
    },
    {
     "data": {
      "text/html": [
       "<pre>Invalid PNG file\t file: /Users/juliusnagel/Desktop/picoutfit/data_and_model/zara_pics/zara_130.png</pre>"
      ],
      "text/plain": [
       "Invalid PNG file\t file: /Users/juliusnagel/Desktop/picoutfit/data_and_model/zara_pics/zara_130.png"
      ]
     },
     "metadata": {},
     "output_type": "display_data"
    },
    {
     "data": {
      "text/html": [
       "<pre>Invalid PNG file\t file: /Users/juliusnagel/Desktop/picoutfit/data_and_model/zara_pics/zara_576.png</pre>"
      ],
      "text/plain": [
       "Invalid PNG file\t file: /Users/juliusnagel/Desktop/picoutfit/data_and_model/zara_pics/zara_576.png"
      ]
     },
     "metadata": {},
     "output_type": "display_data"
    },
    {
     "data": {
      "text/html": [
       "<pre>Invalid PNG file\t file: /Users/juliusnagel/Desktop/picoutfit/data_and_model/zara_pics/zara_599.png</pre>"
      ],
      "text/plain": [
       "Invalid PNG file\t file: /Users/juliusnagel/Desktop/picoutfit/data_and_model/zara_pics/zara_599.png"
      ]
     },
     "metadata": {},
     "output_type": "display_data"
    },
    {
     "data": {
      "text/html": [
       "<pre>Invalid PNG file\t file: /Users/juliusnagel/Desktop/picoutfit/data_and_model/zara_pics/zara_157.png</pre>"
      ],
      "text/plain": [
       "Invalid PNG file\t file: /Users/juliusnagel/Desktop/picoutfit/data_and_model/zara_pics/zara_157.png"
      ]
     },
     "metadata": {},
     "output_type": "display_data"
    },
    {
     "data": {
      "text/html": [
       "<pre>Invalid PNG file\t file: /Users/juliusnagel/Desktop/picoutfit/data_and_model/zara_pics/zara_107.png</pre>"
      ],
      "text/plain": [
       "Invalid PNG file\t file: /Users/juliusnagel/Desktop/picoutfit/data_and_model/zara_pics/zara_107.png"
      ]
     },
     "metadata": {},
     "output_type": "display_data"
    },
    {
     "data": {
      "text/html": [
       "<pre>Invalid PNG file\t file: /Users/juliusnagel/Desktop/picoutfit/data_and_model/zara_pics/zara_70.png</pre>"
      ],
      "text/plain": [
       "Invalid PNG file\t file: /Users/juliusnagel/Desktop/picoutfit/data_and_model/zara_pics/zara_70.png"
      ]
     },
     "metadata": {},
     "output_type": "display_data"
    },
    {
     "data": {
      "text/html": [
       "<pre>Invalid PNG file\t file: /Users/juliusnagel/Desktop/picoutfit/data_and_model/zara_pics/zara_46.png</pre>"
      ],
      "text/plain": [
       "Invalid PNG file\t file: /Users/juliusnagel/Desktop/picoutfit/data_and_model/zara_pics/zara_46.png"
      ]
     },
     "metadata": {},
     "output_type": "display_data"
    },
    {
     "data": {
      "text/html": [
       "<pre>Invalid PNG file\t file: /Users/juliusnagel/Desktop/picoutfit/data_and_model/zara_pics/zara_408.png</pre>"
      ],
      "text/plain": [
       "Invalid PNG file\t file: /Users/juliusnagel/Desktop/picoutfit/data_and_model/zara_pics/zara_408.png"
      ]
     },
     "metadata": {},
     "output_type": "display_data"
    },
    {
     "data": {
      "text/html": [
       "<pre>Invalid PNG file\t file: /Users/juliusnagel/Desktop/picoutfit/data_and_model/zara_pics/zara_431.png</pre>"
      ],
      "text/plain": [
       "Invalid PNG file\t file: /Users/juliusnagel/Desktop/picoutfit/data_and_model/zara_pics/zara_431.png"
      ]
     },
     "metadata": {},
     "output_type": "display_data"
    },
    {
     "data": {
      "text/html": [
       "<pre>Invalid PNG file\t file: /Users/juliusnagel/Desktop/picoutfit/data_and_model/zara_pics/zara_561.png</pre>"
      ],
      "text/plain": [
       "Invalid PNG file\t file: /Users/juliusnagel/Desktop/picoutfit/data_and_model/zara_pics/zara_561.png"
      ]
     },
     "metadata": {},
     "output_type": "display_data"
    },
    {
     "data": {
      "text/html": [
       "<pre>Invalid PNG file\t file: /Users/juliusnagel/Desktop/picoutfit/data_and_model/zara_pics/zara_567.png</pre>"
      ],
      "text/plain": [
       "Invalid PNG file\t file: /Users/juliusnagel/Desktop/picoutfit/data_and_model/zara_pics/zara_567.png"
      ]
     },
     "metadata": {},
     "output_type": "display_data"
    },
    {
     "data": {
      "text/html": [
       "<pre>Invalid PNG file\t file: /Users/juliusnagel/Desktop/picoutfit/data_and_model/zara_pics/zara_424.png</pre>"
      ],
      "text/plain": [
       "Invalid PNG file\t file: /Users/juliusnagel/Desktop/picoutfit/data_and_model/zara_pics/zara_424.png"
      ]
     },
     "metadata": {},
     "output_type": "display_data"
    },
    {
     "data": {
      "text/html": [
       "<pre>Invalid PNG file\t file: /Users/juliusnagel/Desktop/picoutfit/data_and_model/zara_pics/zara_737.png</pre>"
      ],
      "text/plain": [
       "Invalid PNG file\t file: /Users/juliusnagel/Desktop/picoutfit/data_and_model/zara_pics/zara_737.png"
      ]
     },
     "metadata": {},
     "output_type": "display_data"
    },
    {
     "data": {
      "text/html": [
       "<pre>Invalid PNG file\t file: /Users/juliusnagel/Desktop/picoutfit/data_and_model/zara_pics/zara_733.png</pre>"
      ],
      "text/plain": [
       "Invalid PNG file\t file: /Users/juliusnagel/Desktop/picoutfit/data_and_model/zara_pics/zara_733.png"
      ]
     },
     "metadata": {},
     "output_type": "display_data"
    },
    {
     "data": {
      "text/html": [
       "<pre>Invalid PNG file\t file: /Users/juliusnagel/Desktop/picoutfit/data_and_model/zara_pics/zara_837.png</pre>"
      ],
      "text/plain": [
       "Invalid PNG file\t file: /Users/juliusnagel/Desktop/picoutfit/data_and_model/zara_pics/zara_837.png"
      ]
     },
     "metadata": {},
     "output_type": "display_data"
    },
    {
     "data": {
      "text/html": [
       "<pre>Invalid PNG file\t file: /Users/juliusnagel/Desktop/picoutfit/data_and_model/zara_pics/zara_20.png</pre>"
      ],
      "text/plain": [
       "Invalid PNG file\t file: /Users/juliusnagel/Desktop/picoutfit/data_and_model/zara_pics/zara_20.png"
      ]
     },
     "metadata": {},
     "output_type": "display_data"
    },
    {
     "data": {
      "text/html": [
       "<pre>Invalid PNG file\t file: /Users/juliusnagel/Desktop/picoutfit/data_and_model/zara_pics/zara_766.png</pre>"
      ],
      "text/plain": [
       "Invalid PNG file\t file: /Users/juliusnagel/Desktop/picoutfit/data_and_model/zara_pics/zara_766.png"
      ]
     },
     "metadata": {},
     "output_type": "display_data"
    },
    {
     "data": {
      "text/html": [
       "<pre>Invalid PNG file\t file: /Users/juliusnagel/Desktop/picoutfit/data_and_model/zara_pics/zara_724.png</pre>"
      ],
      "text/plain": [
       "Invalid PNG file\t file: /Users/juliusnagel/Desktop/picoutfit/data_and_model/zara_pics/zara_724.png"
      ]
     },
     "metadata": {},
     "output_type": "display_data"
    },
    {
     "data": {
      "text/html": [
       "<pre>Invalid PNG file\t file: /Users/juliusnagel/Desktop/picoutfit/data_and_model/zara_pics/zara_736.png</pre>"
      ],
      "text/plain": [
       "Invalid PNG file\t file: /Users/juliusnagel/Desktop/picoutfit/data_and_model/zara_pics/zara_736.png"
      ]
     },
     "metadata": {},
     "output_type": "display_data"
    },
    {
     "data": {
      "text/html": [
       "<pre>Invalid PNG file\t file: /Users/juliusnagel/Desktop/picoutfit/data_and_model/zara_pics/zara_273.png</pre>"
      ],
      "text/plain": [
       "Invalid PNG file\t file: /Users/juliusnagel/Desktop/picoutfit/data_and_model/zara_pics/zara_273.png"
      ]
     },
     "metadata": {},
     "output_type": "display_data"
    },
    {
     "data": {
      "text/html": [
       "<pre>Invalid PNG file\t file: /Users/juliusnagel/Desktop/picoutfit/data_and_model/zara_pics/zara_761.png</pre>"
      ],
      "text/plain": [
       "Invalid PNG file\t file: /Users/juliusnagel/Desktop/picoutfit/data_and_model/zara_pics/zara_761.png"
      ]
     },
     "metadata": {},
     "output_type": "display_data"
    },
    {
     "data": {
      "text/html": [
       "<pre>Invalid PNG file\t file: /Users/juliusnagel/Desktop/picoutfit/data_and_model/zara_pics/zara_248.png</pre>"
      ],
      "text/plain": [
       "Invalid PNG file\t file: /Users/juliusnagel/Desktop/picoutfit/data_and_model/zara_pics/zara_248.png"
      ]
     },
     "metadata": {},
     "output_type": "display_data"
    },
    {
     "data": {
      "text/html": [
       "<pre>Invalid PNG file\t file: /Users/juliusnagel/Desktop/picoutfit/data_and_model/zara_pics/zara_665.png</pre>"
      ],
      "text/plain": [
       "Invalid PNG file\t file: /Users/juliusnagel/Desktop/picoutfit/data_and_model/zara_pics/zara_665.png"
      ]
     },
     "metadata": {},
     "output_type": "display_data"
    },
    {
     "data": {
      "text/html": [
       "<pre>Invalid PNG file\t file: /Users/juliusnagel/Desktop/picoutfit/data_and_model/zara_pics/zara_283.png</pre>"
      ],
      "text/plain": [
       "Invalid PNG file\t file: /Users/juliusnagel/Desktop/picoutfit/data_and_model/zara_pics/zara_283.png"
      ]
     },
     "metadata": {},
     "output_type": "display_data"
    },
    {
     "data": {
      "text/html": [
       "<pre>Invalid PNG file\t file: /Users/juliusnagel/Desktop/picoutfit/data_and_model/zara_pics/zara_492.png</pre>"
      ],
      "text/plain": [
       "Invalid PNG file\t file: /Users/juliusnagel/Desktop/picoutfit/data_and_model/zara_pics/zara_492.png"
      ]
     },
     "metadata": {},
     "output_type": "display_data"
    },
    {
     "data": {
      "text/html": [
       "<pre>Invalid PNG file\t file: /Users/juliusnagel/Desktop/picoutfit/data_and_model/zara_pics/zara_124.png</pre>"
      ],
      "text/plain": [
       "Invalid PNG file\t file: /Users/juliusnagel/Desktop/picoutfit/data_and_model/zara_pics/zara_124.png"
      ]
     },
     "metadata": {},
     "output_type": "display_data"
    },
    {
     "data": {
      "text/html": [
       "<pre>Invalid PNG file\t file: /Users/juliusnagel/Desktop/picoutfit/data_and_model/zara_pics/zara_60.png</pre>"
      ],
      "text/plain": [
       "Invalid PNG file\t file: /Users/juliusnagel/Desktop/picoutfit/data_and_model/zara_pics/zara_60.png"
      ]
     },
     "metadata": {},
     "output_type": "display_data"
    },
    {
     "data": {
      "text/html": [
       "<pre>Invalid PNG file\t file: /Users/juliusnagel/Desktop/picoutfit/data_and_model/zara_pics/zara_321.png</pre>"
      ],
      "text/plain": [
       "Invalid PNG file\t file: /Users/juliusnagel/Desktop/picoutfit/data_and_model/zara_pics/zara_321.png"
      ]
     },
     "metadata": {},
     "output_type": "display_data"
    },
    {
     "data": {
      "text/html": [
       "<pre>Invalid PNG file\t file: /Users/juliusnagel/Desktop/picoutfit/data_and_model/zara_pics/zara_839.png</pre>"
      ],
      "text/plain": [
       "Invalid PNG file\t file: /Users/juliusnagel/Desktop/picoutfit/data_and_model/zara_pics/zara_839.png"
      ]
     },
     "metadata": {},
     "output_type": "display_data"
    },
    {
     "data": {
      "text/html": [
       "<pre>Invalid PNG file\t file: /Users/juliusnagel/Desktop/picoutfit/data_and_model/zara_pics/zara_405.png</pre>"
      ],
      "text/plain": [
       "Invalid PNG file\t file: /Users/juliusnagel/Desktop/picoutfit/data_and_model/zara_pics/zara_405.png"
      ]
     },
     "metadata": {},
     "output_type": "display_data"
    },
    {
     "data": {
      "text/html": [
       "<pre>Invalid PNG file\t file: /Users/juliusnagel/Desktop/picoutfit/data_and_model/zara_pics/zara_587.png</pre>"
      ],
      "text/plain": [
       "Invalid PNG file\t file: /Users/juliusnagel/Desktop/picoutfit/data_and_model/zara_pics/zara_587.png"
      ]
     },
     "metadata": {},
     "output_type": "display_data"
    },
    {
     "data": {
      "text/html": [
       "<pre>Invalid PNG file\t file: /Users/juliusnagel/Desktop/picoutfit/data_and_model/zara_pics/zara_390.png</pre>"
      ],
      "text/plain": [
       "Invalid PNG file\t file: /Users/juliusnagel/Desktop/picoutfit/data_and_model/zara_pics/zara_390.png"
      ]
     },
     "metadata": {},
     "output_type": "display_data"
    },
    {
     "data": {
      "text/html": [
       "<pre>Invalid PNG file\t file: /Users/juliusnagel/Desktop/picoutfit/data_and_model/zara_pics/zara_810.png</pre>"
      ],
      "text/plain": [
       "Invalid PNG file\t file: /Users/juliusnagel/Desktop/picoutfit/data_and_model/zara_pics/zara_810.png"
      ]
     },
     "metadata": {},
     "output_type": "display_data"
    },
    {
     "data": {
      "text/html": [
       "<pre>Invalid PNG file\t file: /Users/juliusnagel/Desktop/picoutfit/data_and_model/zara_pics/zara_297.png</pre>"
      ],
      "text/plain": [
       "Invalid PNG file\t file: /Users/juliusnagel/Desktop/picoutfit/data_and_model/zara_pics/zara_297.png"
      ]
     },
     "metadata": {},
     "output_type": "display_data"
    },
    {
     "data": {
      "text/html": [
       "<pre>Invalid PNG file\t file: /Users/juliusnagel/Desktop/picoutfit/data_and_model/zara_pics/zara_464.png</pre>"
      ],
      "text/plain": [
       "Invalid PNG file\t file: /Users/juliusnagel/Desktop/picoutfit/data_and_model/zara_pics/zara_464.png"
      ]
     },
     "metadata": {},
     "output_type": "display_data"
    },
    {
     "data": {
      "text/html": [
       "<pre>Invalid PNG file\t file: /Users/juliusnagel/Desktop/picoutfit/data_and_model/zara_pics/zara_650.png</pre>"
      ],
      "text/plain": [
       "Invalid PNG file\t file: /Users/juliusnagel/Desktop/picoutfit/data_and_model/zara_pics/zara_650.png"
      ]
     },
     "metadata": {},
     "output_type": "display_data"
    },
    {
     "data": {
      "text/html": [
       "<pre>Invalid PNG file\t file: /Users/juliusnagel/Desktop/picoutfit/data_and_model/zara_pics/zara_814.png</pre>"
      ],
      "text/plain": [
       "Invalid PNG file\t file: /Users/juliusnagel/Desktop/picoutfit/data_and_model/zara_pics/zara_814.png"
      ]
     },
     "metadata": {},
     "output_type": "display_data"
    },
    {
     "data": {
      "text/html": [
       "<pre>Invalid PNG file\t file: /Users/juliusnagel/Desktop/picoutfit/data_and_model/zara_pics/zara_136.png</pre>"
      ],
      "text/plain": [
       "Invalid PNG file\t file: /Users/juliusnagel/Desktop/picoutfit/data_and_model/zara_pics/zara_136.png"
      ]
     },
     "metadata": {},
     "output_type": "display_data"
    },
    {
     "data": {
      "text/html": [
       "<pre>Invalid PNG file\t file: /Users/juliusnagel/Desktop/picoutfit/data_and_model/zara_pics/zara_319.png</pre>"
      ],
      "text/plain": [
       "Invalid PNG file\t file: /Users/juliusnagel/Desktop/picoutfit/data_and_model/zara_pics/zara_319.png"
      ]
     },
     "metadata": {},
     "output_type": "display_data"
    },
    {
     "data": {
      "text/html": [
       "<pre>Invalid PNG file\t file: /Users/juliusnagel/Desktop/picoutfit/data_and_model/zara_pics/zara_596.png</pre>"
      ],
      "text/plain": [
       "Invalid PNG file\t file: /Users/juliusnagel/Desktop/picoutfit/data_and_model/zara_pics/zara_596.png"
      ]
     },
     "metadata": {},
     "output_type": "display_data"
    },
    {
     "data": {
      "text/html": [
       "<pre>Invalid PNG file\t file: /Users/juliusnagel/Desktop/picoutfit/data_and_model/zara_pics/zara_105.png</pre>"
      ],
      "text/plain": [
       "Invalid PNG file\t file: /Users/juliusnagel/Desktop/picoutfit/data_and_model/zara_pics/zara_105.png"
      ]
     },
     "metadata": {},
     "output_type": "display_data"
    },
    {
     "data": {
      "text/html": [
       "<pre>Invalid PNG file\t file: /Users/juliusnagel/Desktop/picoutfit/data_and_model/zara_pics/zara_552.png</pre>"
      ],
      "text/plain": [
       "Invalid PNG file\t file: /Users/juliusnagel/Desktop/picoutfit/data_and_model/zara_pics/zara_552.png"
      ]
     },
     "metadata": {},
     "output_type": "display_data"
    },
    {
     "data": {
      "text/html": [
       "<pre>Invalid PNG file\t file: /Users/juliusnagel/Desktop/picoutfit/data_and_model/zara_pics/zara_221.png</pre>"
      ],
      "text/plain": [
       "Invalid PNG file\t file: /Users/juliusnagel/Desktop/picoutfit/data_and_model/zara_pics/zara_221.png"
      ]
     },
     "metadata": {},
     "output_type": "display_data"
    },
    {
     "data": {
      "text/html": [
       "<pre>Invalid PNG file\t file: /Users/juliusnagel/Desktop/picoutfit/data_and_model/zara_pics/zara_499.png</pre>"
      ],
      "text/plain": [
       "Invalid PNG file\t file: /Users/juliusnagel/Desktop/picoutfit/data_and_model/zara_pics/zara_499.png"
      ]
     },
     "metadata": {},
     "output_type": "display_data"
    },
    {
     "data": {
      "text/html": [
       "<pre>Invalid PNG file\t file: /Users/juliusnagel/Desktop/picoutfit/data_and_model/zara_pics/zara_118.png</pre>"
      ],
      "text/plain": [
       "Invalid PNG file\t file: /Users/juliusnagel/Desktop/picoutfit/data_and_model/zara_pics/zara_118.png"
      ]
     },
     "metadata": {},
     "output_type": "display_data"
    },
    {
     "data": {
      "text/html": [
       "<pre>Invalid PNG file\t file: /Users/juliusnagel/Desktop/picoutfit/data_and_model/zara_pics/zara_170.png</pre>"
      ],
      "text/plain": [
       "Invalid PNG file\t file: /Users/juliusnagel/Desktop/picoutfit/data_and_model/zara_pics/zara_170.png"
      ]
     },
     "metadata": {},
     "output_type": "display_data"
    },
    {
     "data": {
      "text/html": [
       "<pre>Invalid PNG file\t file: /Users/juliusnagel/Desktop/picoutfit/data_and_model/zara_pics/zara_410.png</pre>"
      ],
      "text/plain": [
       "Invalid PNG file\t file: /Users/juliusnagel/Desktop/picoutfit/data_and_model/zara_pics/zara_410.png"
      ]
     },
     "metadata": {},
     "output_type": "display_data"
    },
    {
     "data": {
      "text/html": [
       "<pre>Invalid PNG file\t file: /Users/juliusnagel/Desktop/picoutfit/data_and_model/zara_pics/zara_167.png</pre>"
      ],
      "text/plain": [
       "Invalid PNG file\t file: /Users/juliusnagel/Desktop/picoutfit/data_and_model/zara_pics/zara_167.png"
      ]
     },
     "metadata": {},
     "output_type": "display_data"
    },
    {
     "data": {
      "text/html": [
       "<pre>Invalid PNG file\t file: /Users/juliusnagel/Desktop/picoutfit/data_and_model/zara_pics/zara_125.png</pre>"
      ],
      "text/plain": [
       "Invalid PNG file\t file: /Users/juliusnagel/Desktop/picoutfit/data_and_model/zara_pics/zara_125.png"
      ]
     },
     "metadata": {},
     "output_type": "display_data"
    },
    {
     "data": {
      "text/html": [
       "<pre>Invalid PNG file\t file: /Users/juliusnagel/Desktop/picoutfit/data_and_model/zara_pics/zara_667.png</pre>"
      ],
      "text/plain": [
       "Invalid PNG file\t file: /Users/juliusnagel/Desktop/picoutfit/data_and_model/zara_pics/zara_667.png"
      ]
     },
     "metadata": {},
     "output_type": "display_data"
    },
    {
     "data": {
      "text/html": [
       "<pre>Invalid PNG file\t file: /Users/juliusnagel/Desktop/picoutfit/data_and_model/zara_pics/zara_47.png</pre>"
      ],
      "text/plain": [
       "Invalid PNG file\t file: /Users/juliusnagel/Desktop/picoutfit/data_and_model/zara_pics/zara_47.png"
      ]
     },
     "metadata": {},
     "output_type": "display_data"
    },
    {
     "data": {
      "text/html": [
       "<pre>Invalid PNG file\t file: /Users/juliusnagel/Desktop/picoutfit/data_and_model/zara_pics/zara_748.png</pre>"
      ],
      "text/plain": [
       "Invalid PNG file\t file: /Users/juliusnagel/Desktop/picoutfit/data_and_model/zara_pics/zara_748.png"
      ]
     },
     "metadata": {},
     "output_type": "display_data"
    },
    {
     "data": {
      "text/html": [
       "<pre>Invalid PNG file\t file: /Users/juliusnagel/Desktop/picoutfit/data_and_model/zara_pics/zara_442.png</pre>"
      ],
      "text/plain": [
       "Invalid PNG file\t file: /Users/juliusnagel/Desktop/picoutfit/data_and_model/zara_pics/zara_442.png"
      ]
     },
     "metadata": {},
     "output_type": "display_data"
    },
    {
     "data": {
      "text/html": [
       "<pre>Invalid PNG file\t file: /Users/juliusnagel/Desktop/picoutfit/data_and_model/zara_pics/zara_425.png</pre>"
      ],
      "text/plain": [
       "Invalid PNG file\t file: /Users/juliusnagel/Desktop/picoutfit/data_and_model/zara_pics/zara_425.png"
      ]
     },
     "metadata": {},
     "output_type": "display_data"
    },
    {
     "data": {
      "text/html": [
       "<pre>Invalid PNG file\t file: /Users/juliusnagel/Desktop/picoutfit/data_and_model/zara_pics/zara_478.png</pre>"
      ],
      "text/plain": [
       "Invalid PNG file\t file: /Users/juliusnagel/Desktop/picoutfit/data_and_model/zara_pics/zara_478.png"
      ]
     },
     "metadata": {},
     "output_type": "display_data"
    },
    {
     "data": {
      "text/html": [
       "<pre>Invalid PNG file\t file: /Users/juliusnagel/Desktop/picoutfit/data_and_model/zara_pics/zara_470.png</pre>"
      ],
      "text/plain": [
       "Invalid PNG file\t file: /Users/juliusnagel/Desktop/picoutfit/data_and_model/zara_pics/zara_470.png"
      ]
     },
     "metadata": {},
     "output_type": "display_data"
    },
    {
     "data": {
      "text/html": [
       "<pre>Invalid PNG file\t file: /Users/juliusnagel/Desktop/picoutfit/data_and_model/zara_pics/zara_393.png</pre>"
      ],
      "text/plain": [
       "Invalid PNG file\t file: /Users/juliusnagel/Desktop/picoutfit/data_and_model/zara_pics/zara_393.png"
      ]
     },
     "metadata": {},
     "output_type": "display_data"
    },
    {
     "data": {
      "text/html": [
       "<pre>Invalid PNG file\t file: /Users/juliusnagel/Desktop/picoutfit/data_and_model/zara_pics/zara_627.png</pre>"
      ],
      "text/plain": [
       "Invalid PNG file\t file: /Users/juliusnagel/Desktop/picoutfit/data_and_model/zara_pics/zara_627.png"
      ]
     },
     "metadata": {},
     "output_type": "display_data"
    },
    {
     "data": {
      "text/html": [
       "<pre>Invalid PNG file\t file: /Users/juliusnagel/Desktop/picoutfit/data_and_model/zara_pics/zara_153.png</pre>"
      ],
      "text/plain": [
       "Invalid PNG file\t file: /Users/juliusnagel/Desktop/picoutfit/data_and_model/zara_pics/zara_153.png"
      ]
     },
     "metadata": {},
     "output_type": "display_data"
    },
    {
     "data": {
      "text/html": [
       "<pre>Invalid PNG file\t file: /Users/juliusnagel/Desktop/picoutfit/data_and_model/zara_pics/zara_380.png</pre>"
      ],
      "text/plain": [
       "Invalid PNG file\t file: /Users/juliusnagel/Desktop/picoutfit/data_and_model/zara_pics/zara_380.png"
      ]
     },
     "metadata": {},
     "output_type": "display_data"
    },
    {
     "data": {
      "text/html": [
       "<pre>Invalid PNG file\t file: /Users/juliusnagel/Desktop/picoutfit/data_and_model/zara_pics/zara_37.png</pre>"
      ],
      "text/plain": [
       "Invalid PNG file\t file: /Users/juliusnagel/Desktop/picoutfit/data_and_model/zara_pics/zara_37.png"
      ]
     },
     "metadata": {},
     "output_type": "display_data"
    },
    {
     "data": {
      "text/html": [
       "<pre>Invalid PNG file\t file: /Users/juliusnagel/Desktop/picoutfit/data_and_model/zara_pics/zara_414.png</pre>"
      ],
      "text/plain": [
       "Invalid PNG file\t file: /Users/juliusnagel/Desktop/picoutfit/data_and_model/zara_pics/zara_414.png"
      ]
     },
     "metadata": {},
     "output_type": "display_data"
    },
    {
     "data": {
      "text/html": [
       "<pre>Invalid PNG file\t file: /Users/juliusnagel/Desktop/picoutfit/data_and_model/zara_pics/zara_233.png</pre>"
      ],
      "text/plain": [
       "Invalid PNG file\t file: /Users/juliusnagel/Desktop/picoutfit/data_and_model/zara_pics/zara_233.png"
      ]
     },
     "metadata": {},
     "output_type": "display_data"
    },
    {
     "data": {
      "text/html": [
       "<pre>Invalid PNG file\t file: /Users/juliusnagel/Desktop/picoutfit/data_and_model/zara_pics/zara_104.png</pre>"
      ],
      "text/plain": [
       "Invalid PNG file\t file: /Users/juliusnagel/Desktop/picoutfit/data_and_model/zara_pics/zara_104.png"
      ]
     },
     "metadata": {},
     "output_type": "display_data"
    },
    {
     "data": {
      "text/html": [
       "<pre>Invalid PNG file\t file: /Users/juliusnagel/Desktop/picoutfit/data_and_model/zara_pics/zara_45.png</pre>"
      ],
      "text/plain": [
       "Invalid PNG file\t file: /Users/juliusnagel/Desktop/picoutfit/data_and_model/zara_pics/zara_45.png"
      ]
     },
     "metadata": {},
     "output_type": "display_data"
    },
    {
     "data": {
      "text/html": [
       "<pre>Invalid PNG file\t file: /Users/juliusnagel/Desktop/picoutfit/data_and_model/zara_pics/zara_535.png</pre>"
      ],
      "text/plain": [
       "Invalid PNG file\t file: /Users/juliusnagel/Desktop/picoutfit/data_and_model/zara_pics/zara_535.png"
      ]
     },
     "metadata": {},
     "output_type": "display_data"
    },
    {
     "data": {
      "text/html": [
       "<pre>Invalid PNG file\t file: /Users/juliusnagel/Desktop/picoutfit/data_and_model/zara_pics/zara_799.png</pre>"
      ],
      "text/plain": [
       "Invalid PNG file\t file: /Users/juliusnagel/Desktop/picoutfit/data_and_model/zara_pics/zara_799.png"
      ]
     },
     "metadata": {},
     "output_type": "display_data"
    },
    {
     "data": {
      "text/html": [
       "<pre>Invalid PNG file\t file: /Users/juliusnagel/Desktop/picoutfit/data_and_model/zara_pics/zara_597.png</pre>"
      ],
      "text/plain": [
       "Invalid PNG file\t file: /Users/juliusnagel/Desktop/picoutfit/data_and_model/zara_pics/zara_597.png"
      ]
     },
     "metadata": {},
     "output_type": "display_data"
    },
    {
     "data": {
      "text/html": [
       "<pre>Invalid PNG file\t file: /Users/juliusnagel/Desktop/picoutfit/data_and_model/zara_pics/zara_712.png</pre>"
      ],
      "text/plain": [
       "Invalid PNG file\t file: /Users/juliusnagel/Desktop/picoutfit/data_and_model/zara_pics/zara_712.png"
      ]
     },
     "metadata": {},
     "output_type": "display_data"
    },
    {
     "data": {
      "text/html": [
       "<pre>Invalid PNG file\t file: /Users/juliusnagel/Desktop/picoutfit/data_and_model/zara_pics/zara_196.png</pre>"
      ],
      "text/plain": [
       "Invalid PNG file\t file: /Users/juliusnagel/Desktop/picoutfit/data_and_model/zara_pics/zara_196.png"
      ]
     },
     "metadata": {},
     "output_type": "display_data"
    },
    {
     "data": {
      "text/html": [
       "<pre>Invalid PNG file\t file: /Users/juliusnagel/Desktop/picoutfit/data_and_model/zara_pics/zara_826.png</pre>"
      ],
      "text/plain": [
       "Invalid PNG file\t file: /Users/juliusnagel/Desktop/picoutfit/data_and_model/zara_pics/zara_826.png"
      ]
     },
     "metadata": {},
     "output_type": "display_data"
    },
    {
     "data": {
      "text/html": [
       "<pre>Invalid PNG file\t file: /Users/juliusnagel/Desktop/picoutfit/data_and_model/zara_pics/zara_749.png</pre>"
      ],
      "text/plain": [
       "Invalid PNG file\t file: /Users/juliusnagel/Desktop/picoutfit/data_and_model/zara_pics/zara_749.png"
      ]
     },
     "metadata": {},
     "output_type": "display_data"
    },
    {
     "data": {
      "text/html": [
       "<pre>Invalid PNG file\t file: /Users/juliusnagel/Desktop/picoutfit/data_and_model/zara_pics/zara_315.png</pre>"
      ],
      "text/plain": [
       "Invalid PNG file\t file: /Users/juliusnagel/Desktop/picoutfit/data_and_model/zara_pics/zara_315.png"
      ]
     },
     "metadata": {},
     "output_type": "display_data"
    },
    {
     "data": {
      "text/html": [
       "<pre>Invalid PNG file\t file: /Users/juliusnagel/Desktop/picoutfit/data_and_model/zara_pics/zara_605.png</pre>"
      ],
      "text/plain": [
       "Invalid PNG file\t file: /Users/juliusnagel/Desktop/picoutfit/data_and_model/zara_pics/zara_605.png"
      ]
     },
     "metadata": {},
     "output_type": "display_data"
    },
    {
     "data": {
      "text/html": [
       "<pre>Invalid PNG file\t file: /Users/juliusnagel/Desktop/picoutfit/data_and_model/zara_pics/zara_462.png</pre>"
      ],
      "text/plain": [
       "Invalid PNG file\t file: /Users/juliusnagel/Desktop/picoutfit/data_and_model/zara_pics/zara_462.png"
      ]
     },
     "metadata": {},
     "output_type": "display_data"
    },
    {
     "data": {
      "text/html": [
       "<pre>Invalid PNG file\t file: /Users/juliusnagel/Desktop/picoutfit/data_and_model/zara_pics/zara_314.png</pre>"
      ],
      "text/plain": [
       "Invalid PNG file\t file: /Users/juliusnagel/Desktop/picoutfit/data_and_model/zara_pics/zara_314.png"
      ]
     },
     "metadata": {},
     "output_type": "display_data"
    },
    {
     "data": {
      "text/html": [
       "<pre>Invalid PNG file\t file: /Users/juliusnagel/Desktop/picoutfit/data_and_model/zara_pics/zara_575.png</pre>"
      ],
      "text/plain": [
       "Invalid PNG file\t file: /Users/juliusnagel/Desktop/picoutfit/data_and_model/zara_pics/zara_575.png"
      ]
     },
     "metadata": {},
     "output_type": "display_data"
    },
    {
     "data": {
      "text/html": [
       "<pre>Invalid PNG file\t file: /Users/juliusnagel/Desktop/picoutfit/data_and_model/zara_pics/zara_657.png</pre>"
      ],
      "text/plain": [
       "Invalid PNG file\t file: /Users/juliusnagel/Desktop/picoutfit/data_and_model/zara_pics/zara_657.png"
      ]
     },
     "metadata": {},
     "output_type": "display_data"
    },
    {
     "data": {
      "text/html": [
       "<pre>Invalid PNG file\t file: /Users/juliusnagel/Desktop/picoutfit/data_and_model/zara_pics/zara_509.png</pre>"
      ],
      "text/plain": [
       "Invalid PNG file\t file: /Users/juliusnagel/Desktop/picoutfit/data_and_model/zara_pics/zara_509.png"
      ]
     },
     "metadata": {},
     "output_type": "display_data"
    },
    {
     "data": {
      "text/html": [
       "<pre>Invalid PNG file\t file: /Users/juliusnagel/Desktop/picoutfit/data_and_model/zara_pics/zara_397.png</pre>"
      ],
      "text/plain": [
       "Invalid PNG file\t file: /Users/juliusnagel/Desktop/picoutfit/data_and_model/zara_pics/zara_397.png"
      ]
     },
     "metadata": {},
     "output_type": "display_data"
    },
    {
     "data": {
      "text/html": [
       "<pre>Invalid PNG file\t file: /Users/juliusnagel/Desktop/picoutfit/data_and_model/zara_pics/zara_209.png</pre>"
      ],
      "text/plain": [
       "Invalid PNG file\t file: /Users/juliusnagel/Desktop/picoutfit/data_and_model/zara_pics/zara_209.png"
      ]
     },
     "metadata": {},
     "output_type": "display_data"
    },
    {
     "data": {
      "text/html": [
       "<pre>Invalid PNG file\t file: /Users/juliusnagel/Desktop/picoutfit/data_and_model/zara_pics/zara_636.png</pre>"
      ],
      "text/plain": [
       "Invalid PNG file\t file: /Users/juliusnagel/Desktop/picoutfit/data_and_model/zara_pics/zara_636.png"
      ]
     },
     "metadata": {},
     "output_type": "display_data"
    },
    {
     "data": {
      "text/html": [
       "<pre>Invalid PNG file\t file: /Users/juliusnagel/Desktop/picoutfit/data_and_model/zara_pics/zara_547.png</pre>"
      ],
      "text/plain": [
       "Invalid PNG file\t file: /Users/juliusnagel/Desktop/picoutfit/data_and_model/zara_pics/zara_547.png"
      ]
     },
     "metadata": {},
     "output_type": "display_data"
    },
    {
     "data": {
      "text/html": [
       "<pre>Invalid PNG file\t file: /Users/juliusnagel/Desktop/picoutfit/data_and_model/zara_pics/zara_304.png</pre>"
      ],
      "text/plain": [
       "Invalid PNG file\t file: /Users/juliusnagel/Desktop/picoutfit/data_and_model/zara_pics/zara_304.png"
      ]
     },
     "metadata": {},
     "output_type": "display_data"
    },
    {
     "data": {
      "text/html": [
       "<pre>Invalid PNG file\t file: /Users/juliusnagel/Desktop/picoutfit/data_and_model/zara_pics/zara_175.png</pre>"
      ],
      "text/plain": [
       "Invalid PNG file\t file: /Users/juliusnagel/Desktop/picoutfit/data_and_model/zara_pics/zara_175.png"
      ]
     },
     "metadata": {},
     "output_type": "display_data"
    },
    {
     "data": {
      "text/html": [
       "<pre>Invalid PNG file\t file: /Users/juliusnagel/Desktop/picoutfit/data_and_model/zara_pics/zara_633.png</pre>"
      ],
      "text/plain": [
       "Invalid PNG file\t file: /Users/juliusnagel/Desktop/picoutfit/data_and_model/zara_pics/zara_633.png"
      ]
     },
     "metadata": {},
     "output_type": "display_data"
    },
    {
     "data": {
      "text/html": [
       "<pre>Invalid PNG file\t file: /Users/juliusnagel/Desktop/picoutfit/data_and_model/zara_pics/zara_100.png</pre>"
      ],
      "text/plain": [
       "Invalid PNG file\t file: /Users/juliusnagel/Desktop/picoutfit/data_and_model/zara_pics/zara_100.png"
      ]
     },
     "metadata": {},
     "output_type": "display_data"
    },
    {
     "data": {
      "text/html": [
       "<pre>Invalid PNG file\t file: /Users/juliusnagel/Desktop/picoutfit/data_and_model/zara_pics/zara_357.png</pre>"
      ],
      "text/plain": [
       "Invalid PNG file\t file: /Users/juliusnagel/Desktop/picoutfit/data_and_model/zara_pics/zara_357.png"
      ]
     },
     "metadata": {},
     "output_type": "display_data"
    },
    {
     "data": {
      "text/html": [
       "<pre>Invalid PNG file\t file: /Users/juliusnagel/Desktop/picoutfit/data_and_model/zara_pics/zara_591.png</pre>"
      ],
      "text/plain": [
       "Invalid PNG file\t file: /Users/juliusnagel/Desktop/picoutfit/data_and_model/zara_pics/zara_591.png"
      ]
     },
     "metadata": {},
     "output_type": "display_data"
    },
    {
     "data": {
      "text/html": [
       "<pre>Invalid PNG file\t file: /Users/juliusnagel/Desktop/picoutfit/data_and_model/zara_pics/zara_614.png</pre>"
      ],
      "text/plain": [
       "Invalid PNG file\t file: /Users/juliusnagel/Desktop/picoutfit/data_and_model/zara_pics/zara_614.png"
      ]
     },
     "metadata": {},
     "output_type": "display_data"
    },
    {
     "data": {
      "text/html": [
       "<pre>Invalid PNG file\t file: /Users/juliusnagel/Desktop/picoutfit/data_and_model/zara_pics/zara_660.png</pre>"
      ],
      "text/plain": [
       "Invalid PNG file\t file: /Users/juliusnagel/Desktop/picoutfit/data_and_model/zara_pics/zara_660.png"
      ]
     },
     "metadata": {},
     "output_type": "display_data"
    },
    {
     "data": {
      "text/html": [
       "<pre>Invalid PNG file\t file: /Users/juliusnagel/Desktop/picoutfit/data_and_model/zara_pics/zara_615.png</pre>"
      ],
      "text/plain": [
       "Invalid PNG file\t file: /Users/juliusnagel/Desktop/picoutfit/data_and_model/zara_pics/zara_615.png"
      ]
     },
     "metadata": {},
     "output_type": "display_data"
    },
    {
     "data": {
      "text/html": [
       "<pre>Invalid PNG file\t file: /Users/juliusnagel/Desktop/picoutfit/data_and_model/zara_pics/zara_259.png</pre>"
      ],
      "text/plain": [
       "Invalid PNG file\t file: /Users/juliusnagel/Desktop/picoutfit/data_and_model/zara_pics/zara_259.png"
      ]
     },
     "metadata": {},
     "output_type": "display_data"
    },
    {
     "data": {
      "text/html": [
       "<pre>Invalid PNG file\t file: /Users/juliusnagel/Desktop/picoutfit/data_and_model/zara_pics/zara_350.png</pre>"
      ],
      "text/plain": [
       "Invalid PNG file\t file: /Users/juliusnagel/Desktop/picoutfit/data_and_model/zara_pics/zara_350.png"
      ]
     },
     "metadata": {},
     "output_type": "display_data"
    },
    {
     "data": {
      "text/html": [
       "<pre>Invalid PNG file\t file: /Users/juliusnagel/Desktop/picoutfit/data_and_model/zara_pics/zara_463.png</pre>"
      ],
      "text/plain": [
       "Invalid PNG file\t file: /Users/juliusnagel/Desktop/picoutfit/data_and_model/zara_pics/zara_463.png"
      ]
     },
     "metadata": {},
     "output_type": "display_data"
    },
    {
     "data": {
      "text/html": [
       "<pre>Invalid PNG file\t file: /Users/juliusnagel/Desktop/picoutfit/data_and_model/zara_pics/zara_52.png</pre>"
      ],
      "text/plain": [
       "Invalid PNG file\t file: /Users/juliusnagel/Desktop/picoutfit/data_and_model/zara_pics/zara_52.png"
      ]
     },
     "metadata": {},
     "output_type": "display_data"
    },
    {
     "data": {
      "text/html": [
       "<pre>Invalid PNG file\t file: /Users/juliusnagel/Desktop/picoutfit/data_and_model/zara_pics/zara_3.png</pre>"
      ],
      "text/plain": [
       "Invalid PNG file\t file: /Users/juliusnagel/Desktop/picoutfit/data_and_model/zara_pics/zara_3.png"
      ]
     },
     "metadata": {},
     "output_type": "display_data"
    },
    {
     "data": {
      "text/html": [
       "<pre>Invalid PNG file\t file: /Users/juliusnagel/Desktop/picoutfit/data_and_model/zara_pics/zara_346.png</pre>"
      ],
      "text/plain": [
       "Invalid PNG file\t file: /Users/juliusnagel/Desktop/picoutfit/data_and_model/zara_pics/zara_346.png"
      ]
     },
     "metadata": {},
     "output_type": "display_data"
    },
    {
     "data": {
      "text/html": [
       "<pre>Invalid PNG file\t file: /Users/juliusnagel/Desktop/picoutfit/data_and_model/zara_pics/zara_12.png</pre>"
      ],
      "text/plain": [
       "Invalid PNG file\t file: /Users/juliusnagel/Desktop/picoutfit/data_and_model/zara_pics/zara_12.png"
      ]
     },
     "metadata": {},
     "output_type": "display_data"
    },
    {
     "data": {
      "text/html": [
       "<pre>Invalid PNG file\t file: /Users/juliusnagel/Desktop/picoutfit/data_and_model/zara_pics/zara_368.png</pre>"
      ],
      "text/plain": [
       "Invalid PNG file\t file: /Users/juliusnagel/Desktop/picoutfit/data_and_model/zara_pics/zara_368.png"
      ]
     },
     "metadata": {},
     "output_type": "display_data"
    },
    {
     "data": {
      "text/html": [
       "<pre>Invalid PNG file\t file: /Users/juliusnagel/Desktop/picoutfit/data_and_model/zara_pics/zara_762.png</pre>"
      ],
      "text/plain": [
       "Invalid PNG file\t file: /Users/juliusnagel/Desktop/picoutfit/data_and_model/zara_pics/zara_762.png"
      ]
     },
     "metadata": {},
     "output_type": "display_data"
    },
    {
     "data": {
      "text/html": [
       "<pre>Invalid PNG file\t file: /Users/juliusnagel/Desktop/picoutfit/data_and_model/zara_pics/zara_754.png</pre>"
      ],
      "text/plain": [
       "Invalid PNG file\t file: /Users/juliusnagel/Desktop/picoutfit/data_and_model/zara_pics/zara_754.png"
      ]
     },
     "metadata": {},
     "output_type": "display_data"
    },
    {
     "data": {
      "text/html": [
       "<pre>Invalid PNG file\t file: /Users/juliusnagel/Desktop/picoutfit/data_and_model/zara_pics/zara_403.png</pre>"
      ],
      "text/plain": [
       "Invalid PNG file\t file: /Users/juliusnagel/Desktop/picoutfit/data_and_model/zara_pics/zara_403.png"
      ]
     },
     "metadata": {},
     "output_type": "display_data"
    },
    {
     "data": {
      "text/html": [
       "<pre>Invalid PNG file\t file: /Users/juliusnagel/Desktop/picoutfit/data_and_model/zara_pics/zara_598.png</pre>"
      ],
      "text/plain": [
       "Invalid PNG file\t file: /Users/juliusnagel/Desktop/picoutfit/data_and_model/zara_pics/zara_598.png"
      ]
     },
     "metadata": {},
     "output_type": "display_data"
    },
    {
     "data": {
      "text/html": [
       "<pre>Invalid PNG file\t file: /Users/juliusnagel/Desktop/picoutfit/data_and_model/zara_pics/zara_658.png</pre>"
      ],
      "text/plain": [
       "Invalid PNG file\t file: /Users/juliusnagel/Desktop/picoutfit/data_and_model/zara_pics/zara_658.png"
      ]
     },
     "metadata": {},
     "output_type": "display_data"
    },
    {
     "data": {
      "text/html": [
       "<pre>Invalid PNG file\t file: /Users/juliusnagel/Desktop/picoutfit/data_and_model/zara_pics/zara_453.png</pre>"
      ],
      "text/plain": [
       "Invalid PNG file\t file: /Users/juliusnagel/Desktop/picoutfit/data_and_model/zara_pics/zara_453.png"
      ]
     },
     "metadata": {},
     "output_type": "display_data"
    },
    {
     "data": {
      "text/html": [
       "<pre>Invalid PNG file\t file: /Users/juliusnagel/Desktop/picoutfit/data_and_model/zara_pics/zara_546.png</pre>"
      ],
      "text/plain": [
       "Invalid PNG file\t file: /Users/juliusnagel/Desktop/picoutfit/data_and_model/zara_pics/zara_546.png"
      ]
     },
     "metadata": {},
     "output_type": "display_data"
    },
    {
     "data": {
      "text/html": [
       "<pre>Invalid PNG file\t file: /Users/juliusnagel/Desktop/picoutfit/data_and_model/zara_pics/zara_607.png</pre>"
      ],
      "text/plain": [
       "Invalid PNG file\t file: /Users/juliusnagel/Desktop/picoutfit/data_and_model/zara_pics/zara_607.png"
      ]
     },
     "metadata": {},
     "output_type": "display_data"
    },
    {
     "data": {
      "text/html": [
       "<pre>Invalid PNG file\t file: /Users/juliusnagel/Desktop/picoutfit/data_and_model/zara_pics/zara_382.png</pre>"
      ],
      "text/plain": [
       "Invalid PNG file\t file: /Users/juliusnagel/Desktop/picoutfit/data_and_model/zara_pics/zara_382.png"
      ]
     },
     "metadata": {},
     "output_type": "display_data"
    },
    {
     "data": {
      "text/html": [
       "<pre>Invalid PNG file\t file: /Users/juliusnagel/Desktop/picoutfit/data_and_model/zara_pics/zara_232.png</pre>"
      ],
      "text/plain": [
       "Invalid PNG file\t file: /Users/juliusnagel/Desktop/picoutfit/data_and_model/zara_pics/zara_232.png"
      ]
     },
     "metadata": {},
     "output_type": "display_data"
    },
    {
     "data": {
      "text/html": [
       "<pre>Invalid PNG file\t file: /Users/juliusnagel/Desktop/picoutfit/data_and_model/zara_pics/zara_774.png</pre>"
      ],
      "text/plain": [
       "Invalid PNG file\t file: /Users/juliusnagel/Desktop/picoutfit/data_and_model/zara_pics/zara_774.png"
      ]
     },
     "metadata": {},
     "output_type": "display_data"
    },
    {
     "data": {
      "text/html": [
       "<pre>Invalid PNG file\t file: /Users/juliusnagel/Desktop/picoutfit/data_and_model/zara_pics/zara_652.png</pre>"
      ],
      "text/plain": [
       "Invalid PNG file\t file: /Users/juliusnagel/Desktop/picoutfit/data_and_model/zara_pics/zara_652.png"
      ]
     },
     "metadata": {},
     "output_type": "display_data"
    },
    {
     "data": {
      "text/html": [
       "<pre>Invalid PNG file\t file: /Users/juliusnagel/Desktop/picoutfit/data_and_model/zara_pics/zara_366.png</pre>"
      ],
      "text/plain": [
       "Invalid PNG file\t file: /Users/juliusnagel/Desktop/picoutfit/data_and_model/zara_pics/zara_366.png"
      ]
     },
     "metadata": {},
     "output_type": "display_data"
    },
    {
     "data": {
      "text/html": [
       "<pre>Invalid PNG file\t file: /Users/juliusnagel/Desktop/picoutfit/data_and_model/zara_pics/zara_719.png</pre>"
      ],
      "text/plain": [
       "Invalid PNG file\t file: /Users/juliusnagel/Desktop/picoutfit/data_and_model/zara_pics/zara_719.png"
      ]
     },
     "metadata": {},
     "output_type": "display_data"
    },
    {
     "data": {
      "text/html": [
       "<pre>Invalid PNG file\t file: /Users/juliusnagel/Desktop/picoutfit/data_and_model/zara_pics/zara_158.png</pre>"
      ],
      "text/plain": [
       "Invalid PNG file\t file: /Users/juliusnagel/Desktop/picoutfit/data_and_model/zara_pics/zara_158.png"
      ]
     },
     "metadata": {},
     "output_type": "display_data"
    },
    {
     "data": {
      "text/html": [
       "<pre>Invalid PNG file\t file: /Users/juliusnagel/Desktop/picoutfit/data_and_model/zara_pics/zara_639.png</pre>"
      ],
      "text/plain": [
       "Invalid PNG file\t file: /Users/juliusnagel/Desktop/picoutfit/data_and_model/zara_pics/zara_639.png"
      ]
     },
     "metadata": {},
     "output_type": "display_data"
    },
    {
     "data": {
      "text/html": [
       "<pre>Invalid PNG file\t file: /Users/juliusnagel/Desktop/picoutfit/data_and_model/zara_pics/zara_541.png</pre>"
      ],
      "text/plain": [
       "Invalid PNG file\t file: /Users/juliusnagel/Desktop/picoutfit/data_and_model/zara_pics/zara_541.png"
      ]
     },
     "metadata": {},
     "output_type": "display_data"
    },
    {
     "data": {
      "text/html": [
       "<pre>Invalid PNG file\t file: /Users/juliusnagel/Desktop/picoutfit/data_and_model/zara_pics/zara_800.png</pre>"
      ],
      "text/plain": [
       "Invalid PNG file\t file: /Users/juliusnagel/Desktop/picoutfit/data_and_model/zara_pics/zara_800.png"
      ]
     },
     "metadata": {},
     "output_type": "display_data"
    },
    {
     "data": {
      "text/html": [
       "<pre>Invalid PNG file\t file: /Users/juliusnagel/Desktop/picoutfit/data_and_model/zara_pics/zara_309.png</pre>"
      ],
      "text/plain": [
       "Invalid PNG file\t file: /Users/juliusnagel/Desktop/picoutfit/data_and_model/zara_pics/zara_309.png"
      ]
     },
     "metadata": {},
     "output_type": "display_data"
    },
    {
     "data": {
      "text/html": [
       "<pre>Invalid PNG file\t file: /Users/juliusnagel/Desktop/picoutfit/data_and_model/zara_pics/zara_65.png</pre>"
      ],
      "text/plain": [
       "Invalid PNG file\t file: /Users/juliusnagel/Desktop/picoutfit/data_and_model/zara_pics/zara_65.png"
      ]
     },
     "metadata": {},
     "output_type": "display_data"
    },
    {
     "data": {
      "text/html": [
       "<pre>Invalid PNG file\t file: /Users/juliusnagel/Desktop/picoutfit/data_and_model/zara_pics/zara_474.png</pre>"
      ],
      "text/plain": [
       "Invalid PNG file\t file: /Users/juliusnagel/Desktop/picoutfit/data_and_model/zara_pics/zara_474.png"
      ]
     },
     "metadata": {},
     "output_type": "display_data"
    },
    {
     "data": {
      "text/html": [
       "<pre>Invalid PNG file\t file: /Users/juliusnagel/Desktop/picoutfit/data_and_model/zara_pics/zara_306.png</pre>"
      ],
      "text/plain": [
       "Invalid PNG file\t file: /Users/juliusnagel/Desktop/picoutfit/data_and_model/zara_pics/zara_306.png"
      ]
     },
     "metadata": {},
     "output_type": "display_data"
    },
    {
     "data": {
      "text/html": [
       "<pre>Invalid PNG file\t file: /Users/juliusnagel/Desktop/picoutfit/data_and_model/zara_pics/zara_815.png</pre>"
      ],
      "text/plain": [
       "Invalid PNG file\t file: /Users/juliusnagel/Desktop/picoutfit/data_and_model/zara_pics/zara_815.png"
      ]
     },
     "metadata": {},
     "output_type": "display_data"
    },
    {
     "data": {
      "text/html": [
       "<pre>Invalid PNG file\t file: /Users/juliusnagel/Desktop/picoutfit/data_and_model/zara_pics/zara_134.png</pre>"
      ],
      "text/plain": [
       "Invalid PNG file\t file: /Users/juliusnagel/Desktop/picoutfit/data_and_model/zara_pics/zara_134.png"
      ]
     },
     "metadata": {},
     "output_type": "display_data"
    },
    {
     "data": {
      "text/html": [
       "<pre>Invalid PNG file\t file: /Users/juliusnagel/Desktop/picoutfit/data_and_model/zara_pics/zara_278.png</pre>"
      ],
      "text/plain": [
       "Invalid PNG file\t file: /Users/juliusnagel/Desktop/picoutfit/data_and_model/zara_pics/zara_278.png"
      ]
     },
     "metadata": {},
     "output_type": "display_data"
    },
    {
     "data": {
      "text/html": [
       "<pre>Invalid PNG file\t file: /Users/juliusnagel/Desktop/picoutfit/data_and_model/zara_pics/zara_582.png</pre>"
      ],
      "text/plain": [
       "Invalid PNG file\t file: /Users/juliusnagel/Desktop/picoutfit/data_and_model/zara_pics/zara_582.png"
      ]
     },
     "metadata": {},
     "output_type": "display_data"
    },
    {
     "data": {
      "text/html": [
       "<pre>Invalid PNG file\t file: /Users/juliusnagel/Desktop/picoutfit/data_and_model/zara_pics/zara_190.png</pre>"
      ],
      "text/plain": [
       "Invalid PNG file\t file: /Users/juliusnagel/Desktop/picoutfit/data_and_model/zara_pics/zara_190.png"
      ]
     },
     "metadata": {},
     "output_type": "display_data"
    },
    {
     "data": {
      "text/html": [
       "<pre>Invalid PNG file\t file: /Users/juliusnagel/Desktop/picoutfit/data_and_model/zara_pics/zara_494.png</pre>"
      ],
      "text/plain": [
       "Invalid PNG file\t file: /Users/juliusnagel/Desktop/picoutfit/data_and_model/zara_pics/zara_494.png"
      ]
     },
     "metadata": {},
     "output_type": "display_data"
    },
    {
     "data": {
      "text/html": [
       "<pre>Invalid PNG file\t file: /Users/juliusnagel/Desktop/picoutfit/data_and_model/zara_pics/zara_83.png</pre>"
      ],
      "text/plain": [
       "Invalid PNG file\t file: /Users/juliusnagel/Desktop/picoutfit/data_and_model/zara_pics/zara_83.png"
      ]
     },
     "metadata": {},
     "output_type": "display_data"
    },
    {
     "data": {
      "text/html": [
       "<pre>Invalid PNG file\t file: /Users/juliusnagel/Desktop/picoutfit/data_and_model/zara_pics/zara_757.png</pre>"
      ],
      "text/plain": [
       "Invalid PNG file\t file: /Users/juliusnagel/Desktop/picoutfit/data_and_model/zara_pics/zara_757.png"
      ]
     },
     "metadata": {},
     "output_type": "display_data"
    },
    {
     "data": {
      "text/html": [
       "<pre>Invalid PNG file\t file: /Users/juliusnagel/Desktop/picoutfit/data_and_model/zara_pics/zara_824.png</pre>"
      ],
      "text/plain": [
       "Invalid PNG file\t file: /Users/juliusnagel/Desktop/picoutfit/data_and_model/zara_pics/zara_824.png"
      ]
     },
     "metadata": {},
     "output_type": "display_data"
    },
    {
     "data": {
      "text/html": [
       "<pre>Invalid PNG file\t file: /Users/juliusnagel/Desktop/picoutfit/data_and_model/zara_pics/zara_277.png</pre>"
      ],
      "text/plain": [
       "Invalid PNG file\t file: /Users/juliusnagel/Desktop/picoutfit/data_and_model/zara_pics/zara_277.png"
      ]
     },
     "metadata": {},
     "output_type": "display_data"
    },
    {
     "data": {
      "text/html": [
       "<pre>Invalid PNG file\t file: /Users/juliusnagel/Desktop/picoutfit/data_and_model/zara_pics/zara_558.png</pre>"
      ],
      "text/plain": [
       "Invalid PNG file\t file: /Users/juliusnagel/Desktop/picoutfit/data_and_model/zara_pics/zara_558.png"
      ]
     },
     "metadata": {},
     "output_type": "display_data"
    },
    {
     "data": {
      "text/html": [
       "<pre>Invalid PNG file\t file: /Users/juliusnagel/Desktop/picoutfit/data_and_model/zara_pics/zara_688.png</pre>"
      ],
      "text/plain": [
       "Invalid PNG file\t file: /Users/juliusnagel/Desktop/picoutfit/data_and_model/zara_pics/zara_688.png"
      ]
     },
     "metadata": {},
     "output_type": "display_data"
    },
    {
     "data": {
      "text/html": [
       "<pre>Invalid PNG file\t file: /Users/juliusnagel/Desktop/picoutfit/data_and_model/zara_pics/zara_172.png</pre>"
      ],
      "text/plain": [
       "Invalid PNG file\t file: /Users/juliusnagel/Desktop/picoutfit/data_and_model/zara_pics/zara_172.png"
      ]
     },
     "metadata": {},
     "output_type": "display_data"
    },
    {
     "data": {
      "text/html": [
       "<pre>Invalid PNG file\t file: /Users/juliusnagel/Desktop/picoutfit/data_and_model/zara_pics/zara_556.png</pre>"
      ],
      "text/plain": [
       "Invalid PNG file\t file: /Users/juliusnagel/Desktop/picoutfit/data_and_model/zara_pics/zara_556.png"
      ]
     },
     "metadata": {},
     "output_type": "display_data"
    },
    {
     "data": {
      "text/html": [
       "<pre>Invalid PNG file\t file: /Users/juliusnagel/Desktop/picoutfit/data_and_model/zara_pics/zara_808.png</pre>"
      ],
      "text/plain": [
       "Invalid PNG file\t file: /Users/juliusnagel/Desktop/picoutfit/data_and_model/zara_pics/zara_808.png"
      ]
     },
     "metadata": {},
     "output_type": "display_data"
    },
    {
     "data": {
      "text/html": [
       "<pre>Invalid PNG file\t file: /Users/juliusnagel/Desktop/picoutfit/data_and_model/zara_pics/zara_303.png</pre>"
      ],
      "text/plain": [
       "Invalid PNG file\t file: /Users/juliusnagel/Desktop/picoutfit/data_and_model/zara_pics/zara_303.png"
      ]
     },
     "metadata": {},
     "output_type": "display_data"
    },
    {
     "data": {
      "text/html": [
       "<pre>Invalid PNG file\t file: /Users/juliusnagel/Desktop/picoutfit/data_and_model/zara_pics/zara_654.png</pre>"
      ],
      "text/plain": [
       "Invalid PNG file\t file: /Users/juliusnagel/Desktop/picoutfit/data_and_model/zara_pics/zara_654.png"
      ]
     },
     "metadata": {},
     "output_type": "display_data"
    },
    {
     "data": {
      "text/html": [
       "<pre>Invalid PNG file\t file: /Users/juliusnagel/Desktop/picoutfit/data_and_model/zara_pics/zara_653.png</pre>"
      ],
      "text/plain": [
       "Invalid PNG file\t file: /Users/juliusnagel/Desktop/picoutfit/data_and_model/zara_pics/zara_653.png"
      ]
     },
     "metadata": {},
     "output_type": "display_data"
    },
    {
     "data": {
      "text/html": [
       "<pre>Invalid PNG file\t file: /Users/juliusnagel/Desktop/picoutfit/data_and_model/zara_pics/zara_714.png</pre>"
      ],
      "text/plain": [
       "Invalid PNG file\t file: /Users/juliusnagel/Desktop/picoutfit/data_and_model/zara_pics/zara_714.png"
      ]
     },
     "metadata": {},
     "output_type": "display_data"
    },
    {
     "data": {
      "text/html": [
       "<pre>Invalid PNG file\t file: /Users/juliusnagel/Desktop/picoutfit/data_and_model/zara_pics/zara_432.png</pre>"
      ],
      "text/plain": [
       "Invalid PNG file\t file: /Users/juliusnagel/Desktop/picoutfit/data_and_model/zara_pics/zara_432.png"
      ]
     },
     "metadata": {},
     "output_type": "display_data"
    },
    {
     "data": {
      "text/html": [
       "<pre>Invalid PNG file\t file: /Users/juliusnagel/Desktop/picoutfit/data_and_model/zara_pics/zara_377.png</pre>"
      ],
      "text/plain": [
       "Invalid PNG file\t file: /Users/juliusnagel/Desktop/picoutfit/data_and_model/zara_pics/zara_377.png"
      ]
     },
     "metadata": {},
     "output_type": "display_data"
    },
    {
     "data": {
      "text/html": [
       "<pre>Invalid PNG file\t file: /Users/juliusnagel/Desktop/picoutfit/data_and_model/zara_pics/zara_284.png</pre>"
      ],
      "text/plain": [
       "Invalid PNG file\t file: /Users/juliusnagel/Desktop/picoutfit/data_and_model/zara_pics/zara_284.png"
      ]
     },
     "metadata": {},
     "output_type": "display_data"
    },
    {
     "data": {
      "text/html": [
       "<pre>Invalid PNG file\t file: /Users/juliusnagel/Desktop/picoutfit/data_and_model/zara_pics/zara_775.png</pre>"
      ],
      "text/plain": [
       "Invalid PNG file\t file: /Users/juliusnagel/Desktop/picoutfit/data_and_model/zara_pics/zara_775.png"
      ]
     },
     "metadata": {},
     "output_type": "display_data"
    },
    {
     "data": {
      "text/html": [
       "<pre>Invalid PNG file\t file: /Users/juliusnagel/Desktop/picoutfit/data_and_model/zara_pics/zara_372.png</pre>"
      ],
      "text/plain": [
       "Invalid PNG file\t file: /Users/juliusnagel/Desktop/picoutfit/data_and_model/zara_pics/zara_372.png"
      ]
     },
     "metadata": {},
     "output_type": "display_data"
    },
    {
     "data": {
      "text/html": [
       "<pre>Invalid PNG file\t file: /Users/juliusnagel/Desktop/picoutfit/data_and_model/zara_pics/zara_384.png</pre>"
      ],
      "text/plain": [
       "Invalid PNG file\t file: /Users/juliusnagel/Desktop/picoutfit/data_and_model/zara_pics/zara_384.png"
      ]
     },
     "metadata": {},
     "output_type": "display_data"
    },
    {
     "data": {
      "text/html": [
       "<pre>Invalid PNG file\t file: /Users/juliusnagel/Desktop/picoutfit/data_and_model/zara_pics/zara_110.png</pre>"
      ],
      "text/plain": [
       "Invalid PNG file\t file: /Users/juliusnagel/Desktop/picoutfit/data_and_model/zara_pics/zara_110.png"
      ]
     },
     "metadata": {},
     "output_type": "display_data"
    },
    {
     "data": {
      "text/html": [
       "<pre>Invalid PNG file\t file: /Users/juliusnagel/Desktop/picoutfit/data_and_model/zara_pics/zara_473.png</pre>"
      ],
      "text/plain": [
       "Invalid PNG file\t file: /Users/juliusnagel/Desktop/picoutfit/data_and_model/zara_pics/zara_473.png"
      ]
     },
     "metadata": {},
     "output_type": "display_data"
    },
    {
     "data": {
      "text/html": [
       "<pre>Invalid PNG file\t file: /Users/juliusnagel/Desktop/picoutfit/data_and_model/zara_pics/zara_155.png</pre>"
      ],
      "text/plain": [
       "Invalid PNG file\t file: /Users/juliusnagel/Desktop/picoutfit/data_and_model/zara_pics/zara_155.png"
      ]
     },
     "metadata": {},
     "output_type": "display_data"
    },
    {
     "data": {
      "text/html": [
       "<pre>Invalid PNG file\t file: /Users/juliusnagel/Desktop/picoutfit/data_and_model/zara_pics/zara_406.png</pre>"
      ],
      "text/plain": [
       "Invalid PNG file\t file: /Users/juliusnagel/Desktop/picoutfit/data_and_model/zara_pics/zara_406.png"
      ]
     },
     "metadata": {},
     "output_type": "display_data"
    },
    {
     "data": {
      "text/html": [
       "<pre>Invalid PNG file\t file: /Users/juliusnagel/Desktop/picoutfit/data_and_model/zara_pics/zara_76.png</pre>"
      ],
      "text/plain": [
       "Invalid PNG file\t file: /Users/juliusnagel/Desktop/picoutfit/data_and_model/zara_pics/zara_76.png"
      ]
     },
     "metadata": {},
     "output_type": "display_data"
    },
    {
     "data": {
      "text/html": [
       "<pre>Invalid PNG file\t file: /Users/juliusnagel/Desktop/picoutfit/data_and_model/zara_pics/zara_501.png</pre>"
      ],
      "text/plain": [
       "Invalid PNG file\t file: /Users/juliusnagel/Desktop/picoutfit/data_and_model/zara_pics/zara_501.png"
      ]
     },
     "metadata": {},
     "output_type": "display_data"
    },
    {
     "data": {
      "text/html": [
       "<pre>Invalid PNG file\t file: /Users/juliusnagel/Desktop/picoutfit/data_and_model/zara_pics/zara_50.png</pre>"
      ],
      "text/plain": [
       "Invalid PNG file\t file: /Users/juliusnagel/Desktop/picoutfit/data_and_model/zara_pics/zara_50.png"
      ]
     },
     "metadata": {},
     "output_type": "display_data"
    },
    {
     "data": {
      "text/html": [
       "<pre>Invalid PNG file\t file: /Users/juliusnagel/Desktop/picoutfit/data_and_model/zara_pics/zara_481.png</pre>"
      ],
      "text/plain": [
       "Invalid PNG file\t file: /Users/juliusnagel/Desktop/picoutfit/data_and_model/zara_pics/zara_481.png"
      ]
     },
     "metadata": {},
     "output_type": "display_data"
    },
    {
     "data": {
      "text/html": [
       "<pre>Invalid PNG file\t file: /Users/juliusnagel/Desktop/picoutfit/data_and_model/zara_pics/zara_343.png</pre>"
      ],
      "text/plain": [
       "Invalid PNG file\t file: /Users/juliusnagel/Desktop/picoutfit/data_and_model/zara_pics/zara_343.png"
      ]
     },
     "metadata": {},
     "output_type": "display_data"
    },
    {
     "data": {
      "text/html": [
       "<pre>Invalid PNG file\t file: /Users/juliusnagel/Desktop/picoutfit/data_and_model/zara_pics/zara_530.png</pre>"
      ],
      "text/plain": [
       "Invalid PNG file\t file: /Users/juliusnagel/Desktop/picoutfit/data_and_model/zara_pics/zara_530.png"
      ]
     },
     "metadata": {},
     "output_type": "display_data"
    },
    {
     "data": {
      "text/html": [
       "<pre>Invalid PNG file\t file: /Users/juliusnagel/Desktop/picoutfit/data_and_model/zara_pics/zara_791.png</pre>"
      ],
      "text/plain": [
       "Invalid PNG file\t file: /Users/juliusnagel/Desktop/picoutfit/data_and_model/zara_pics/zara_791.png"
      ]
     },
     "metadata": {},
     "output_type": "display_data"
    },
    {
     "data": {
      "text/html": [
       "<pre>Invalid PNG file\t file: /Users/juliusnagel/Desktop/picoutfit/data_and_model/zara_pics/zara_746.png</pre>"
      ],
      "text/plain": [
       "Invalid PNG file\t file: /Users/juliusnagel/Desktop/picoutfit/data_and_model/zara_pics/zara_746.png"
      ]
     },
     "metadata": {},
     "output_type": "display_data"
    },
    {
     "data": {
      "text/html": [
       "<pre>Invalid PNG file\t file: /Users/juliusnagel/Desktop/picoutfit/data_and_model/zara_pics/zara_316.png</pre>"
      ],
      "text/plain": [
       "Invalid PNG file\t file: /Users/juliusnagel/Desktop/picoutfit/data_and_model/zara_pics/zara_316.png"
      ]
     },
     "metadata": {},
     "output_type": "display_data"
    },
    {
     "data": {
      "text/html": [
       "<pre>Invalid PNG file\t file: /Users/juliusnagel/Desktop/picoutfit/data_and_model/zara_pics/zara_444.png</pre>"
      ],
      "text/plain": [
       "Invalid PNG file\t file: /Users/juliusnagel/Desktop/picoutfit/data_and_model/zara_pics/zara_444.png"
      ]
     },
     "metadata": {},
     "output_type": "display_data"
    },
    {
     "data": {
      "text/html": [
       "<pre>Invalid PNG file\t file: /Users/juliusnagel/Desktop/picoutfit/data_and_model/zara_pics/zara_85.png</pre>"
      ],
      "text/plain": [
       "Invalid PNG file\t file: /Users/juliusnagel/Desktop/picoutfit/data_and_model/zara_pics/zara_85.png"
      ]
     },
     "metadata": {},
     "output_type": "display_data"
    },
    {
     "data": {
      "text/html": [
       "<pre>Invalid PNG file\t file: /Users/juliusnagel/Desktop/picoutfit/data_and_model/zara_pics/zara_459.png</pre>"
      ],
      "text/plain": [
       "Invalid PNG file\t file: /Users/juliusnagel/Desktop/picoutfit/data_and_model/zara_pics/zara_459.png"
      ]
     },
     "metadata": {},
     "output_type": "display_data"
    },
    {
     "data": {
      "text/html": [
       "<pre>Invalid PNG file\t file: /Users/juliusnagel/Desktop/picoutfit/data_and_model/zara_pics/zara_228.png</pre>"
      ],
      "text/plain": [
       "Invalid PNG file\t file: /Users/juliusnagel/Desktop/picoutfit/data_and_model/zara_pics/zara_228.png"
      ]
     },
     "metadata": {},
     "output_type": "display_data"
    },
    {
     "data": {
      "text/html": [
       "<pre>Invalid PNG file\t file: /Users/juliusnagel/Desktop/picoutfit/data_and_model/zara_pics/zara_672.png</pre>"
      ],
      "text/plain": [
       "Invalid PNG file\t file: /Users/juliusnagel/Desktop/picoutfit/data_and_model/zara_pics/zara_672.png"
      ]
     },
     "metadata": {},
     "output_type": "display_data"
    },
    {
     "data": {
      "text/html": [
       "<pre>Invalid PNG file\t file: /Users/juliusnagel/Desktop/picoutfit/data_and_model/zara_pics/zara_370.png</pre>"
      ],
      "text/plain": [
       "Invalid PNG file\t file: /Users/juliusnagel/Desktop/picoutfit/data_and_model/zara_pics/zara_370.png"
      ]
     },
     "metadata": {},
     "output_type": "display_data"
    },
    {
     "data": {
      "text/html": [
       "<pre>Invalid PNG file\t file: /Users/juliusnagel/Desktop/picoutfit/data_and_model/zara_pics/zara_200.png</pre>"
      ],
      "text/plain": [
       "Invalid PNG file\t file: /Users/juliusnagel/Desktop/picoutfit/data_and_model/zara_pics/zara_200.png"
      ]
     },
     "metadata": {},
     "output_type": "display_data"
    },
    {
     "data": {
      "text/html": [
       "<pre>Invalid PNG file\t file: /Users/juliusnagel/Desktop/picoutfit/data_and_model/zara_pics/zara_242.png</pre>"
      ],
      "text/plain": [
       "Invalid PNG file\t file: /Users/juliusnagel/Desktop/picoutfit/data_and_model/zara_pics/zara_242.png"
      ]
     },
     "metadata": {},
     "output_type": "display_data"
    },
    {
     "data": {
      "text/html": [
       "<pre>Invalid PNG file\t file: /Users/juliusnagel/Desktop/picoutfit/data_and_model/zara_pics/zara_823.png</pre>"
      ],
      "text/plain": [
       "Invalid PNG file\t file: /Users/juliusnagel/Desktop/picoutfit/data_and_model/zara_pics/zara_823.png"
      ]
     },
     "metadata": {},
     "output_type": "display_data"
    },
    {
     "data": {
      "text/html": [
       "<pre>Invalid PNG file\t file: /Users/juliusnagel/Desktop/picoutfit/data_and_model/zara_pics/zara_301.png</pre>"
      ],
      "text/plain": [
       "Invalid PNG file\t file: /Users/juliusnagel/Desktop/picoutfit/data_and_model/zara_pics/zara_301.png"
      ]
     },
     "metadata": {},
     "output_type": "display_data"
    },
    {
     "data": {
      "text/html": [
       "<pre>Invalid PNG file\t file: /Users/juliusnagel/Desktop/picoutfit/data_and_model/zara_pics/zara_750.png</pre>"
      ],
      "text/plain": [
       "Invalid PNG file\t file: /Users/juliusnagel/Desktop/picoutfit/data_and_model/zara_pics/zara_750.png"
      ]
     },
     "metadata": {},
     "output_type": "display_data"
    },
    {
     "data": {
      "text/html": [
       "<pre>Invalid PNG file\t file: /Users/juliusnagel/Desktop/picoutfit/data_and_model/zara_pics/zara_411.png</pre>"
      ],
      "text/plain": [
       "Invalid PNG file\t file: /Users/juliusnagel/Desktop/picoutfit/data_and_model/zara_pics/zara_411.png"
      ]
     },
     "metadata": {},
     "output_type": "display_data"
    },
    {
     "data": {
      "text/html": [
       "<pre>Invalid PNG file\t file: /Users/juliusnagel/Desktop/picoutfit/data_and_model/zara_pics/zara_506.png</pre>"
      ],
      "text/plain": [
       "Invalid PNG file\t file: /Users/juliusnagel/Desktop/picoutfit/data_and_model/zara_pics/zara_506.png"
      ]
     },
     "metadata": {},
     "output_type": "display_data"
    },
    {
     "data": {
      "text/html": [
       "<pre>Invalid PNG file\t file: /Users/juliusnagel/Desktop/picoutfit/data_and_model/zara_pics/zara_92.png</pre>"
      ],
      "text/plain": [
       "Invalid PNG file\t file: /Users/juliusnagel/Desktop/picoutfit/data_and_model/zara_pics/zara_92.png"
      ]
     },
     "metadata": {},
     "output_type": "display_data"
    },
    {
     "data": {
      "text/html": [
       "<pre>Invalid PNG file\t file: /Users/juliusnagel/Desktop/picoutfit/data_and_model/zara_pics/zara_812.png</pre>"
      ],
      "text/plain": [
       "Invalid PNG file\t file: /Users/juliusnagel/Desktop/picoutfit/data_and_model/zara_pics/zara_812.png"
      ]
     },
     "metadata": {},
     "output_type": "display_data"
    },
    {
     "data": {
      "text/html": [
       "<pre>Invalid PNG file\t file: /Users/juliusnagel/Desktop/picoutfit/data_and_model/zara_pics/zara_711.png</pre>"
      ],
      "text/plain": [
       "Invalid PNG file\t file: /Users/juliusnagel/Desktop/picoutfit/data_and_model/zara_pics/zara_711.png"
      ]
     },
     "metadata": {},
     "output_type": "display_data"
    },
    {
     "data": {
      "text/html": [
       "<pre>Invalid PNG file\t file: /Users/juliusnagel/Desktop/picoutfit/data_and_model/zara_pics/zara_235.png</pre>"
      ],
      "text/plain": [
       "Invalid PNG file\t file: /Users/juliusnagel/Desktop/picoutfit/data_and_model/zara_pics/zara_235.png"
      ]
     },
     "metadata": {},
     "output_type": "display_data"
    },
    {
     "data": {
      "text/html": [
       "<pre>Invalid PNG file\t file: /Users/juliusnagel/Desktop/picoutfit/data_and_model/zara_pics/zara_253.png</pre>"
      ],
      "text/plain": [
       "Invalid PNG file\t file: /Users/juliusnagel/Desktop/picoutfit/data_and_model/zara_pics/zara_253.png"
      ]
     },
     "metadata": {},
     "output_type": "display_data"
    },
    {
     "data": {
      "text/html": [
       "<pre>Invalid PNG file\t file: /Users/juliusnagel/Desktop/picoutfit/data_and_model/zara_pics/zara_166.png</pre>"
      ],
      "text/plain": [
       "Invalid PNG file\t file: /Users/juliusnagel/Desktop/picoutfit/data_and_model/zara_pics/zara_166.png"
      ]
     },
     "metadata": {},
     "output_type": "display_data"
    },
    {
     "data": {
      "text/html": [
       "<pre>Invalid PNG file\t file: /Users/juliusnagel/Desktop/picoutfit/data_and_model/zara_pics/zara_116.png</pre>"
      ],
      "text/plain": [
       "Invalid PNG file\t file: /Users/juliusnagel/Desktop/picoutfit/data_and_model/zara_pics/zara_116.png"
      ]
     },
     "metadata": {},
     "output_type": "display_data"
    },
    {
     "data": {
      "text/html": [
       "<pre>Invalid PNG file\t file: /Users/juliusnagel/Desktop/picoutfit/data_and_model/zara_pics/zara_210.png</pre>"
      ],
      "text/plain": [
       "Invalid PNG file\t file: /Users/juliusnagel/Desktop/picoutfit/data_and_model/zara_pics/zara_210.png"
      ]
     },
     "metadata": {},
     "output_type": "display_data"
    },
    {
     "data": {
      "text/html": [
       "<pre>Invalid PNG file\t file: /Users/juliusnagel/Desktop/picoutfit/data_and_model/zara_pics/zara_250.png</pre>"
      ],
      "text/plain": [
       "Invalid PNG file\t file: /Users/juliusnagel/Desktop/picoutfit/data_and_model/zara_pics/zara_250.png"
      ]
     },
     "metadata": {},
     "output_type": "display_data"
    },
    {
     "data": {
      "text/html": [
       "<pre>Invalid PNG file\t file: /Users/juliusnagel/Desktop/picoutfit/data_and_model/zara_pics/zara_715.png</pre>"
      ],
      "text/plain": [
       "Invalid PNG file\t file: /Users/juliusnagel/Desktop/picoutfit/data_and_model/zara_pics/zara_715.png"
      ]
     },
     "metadata": {},
     "output_type": "display_data"
    },
    {
     "data": {
      "text/html": [
       "<pre>Invalid PNG file\t file: /Users/juliusnagel/Desktop/picoutfit/data_and_model/zara_pics/zara_776.png</pre>"
      ],
      "text/plain": [
       "Invalid PNG file\t file: /Users/juliusnagel/Desktop/picoutfit/data_and_model/zara_pics/zara_776.png"
      ]
     },
     "metadata": {},
     "output_type": "display_data"
    },
    {
     "data": {
      "text/html": [
       "<pre>Invalid PNG file\t file: /Users/juliusnagel/Desktop/picoutfit/data_and_model/zara_pics/zara_490.png</pre>"
      ],
      "text/plain": [
       "Invalid PNG file\t file: /Users/juliusnagel/Desktop/picoutfit/data_and_model/zara_pics/zara_490.png"
      ]
     },
     "metadata": {},
     "output_type": "display_data"
    },
    {
     "data": {
      "text/html": [
       "<pre>Invalid PNG file\t file: /Users/juliusnagel/Desktop/picoutfit/data_and_model/zara_pics/zara_243.png</pre>"
      ],
      "text/plain": [
       "Invalid PNG file\t file: /Users/juliusnagel/Desktop/picoutfit/data_and_model/zara_pics/zara_243.png"
      ]
     },
     "metadata": {},
     "output_type": "display_data"
    },
    {
     "data": {
      "text/html": [
       "<pre>Invalid PNG file\t file: /Users/juliusnagel/Desktop/picoutfit/data_and_model/zara_pics/zara_160.png</pre>"
      ],
      "text/plain": [
       "Invalid PNG file\t file: /Users/juliusnagel/Desktop/picoutfit/data_and_model/zara_pics/zara_160.png"
      ]
     },
     "metadata": {},
     "output_type": "display_data"
    },
    {
     "data": {
      "text/html": [
       "<pre>Invalid PNG file\t file: /Users/juliusnagel/Desktop/picoutfit/data_and_model/zara_pics/zara_141.png</pre>"
      ],
      "text/plain": [
       "Invalid PNG file\t file: /Users/juliusnagel/Desktop/picoutfit/data_and_model/zara_pics/zara_141.png"
      ]
     },
     "metadata": {},
     "output_type": "display_data"
    },
    {
     "data": {
      "text/html": [
       "<pre>Invalid PNG file\t file: /Users/juliusnagel/Desktop/picoutfit/data_and_model/zara_pics/zara_551.png</pre>"
      ],
      "text/plain": [
       "Invalid PNG file\t file: /Users/juliusnagel/Desktop/picoutfit/data_and_model/zara_pics/zara_551.png"
      ]
     },
     "metadata": {},
     "output_type": "display_data"
    },
    {
     "data": {
      "text/html": [
       "<pre>Invalid PNG file\t file: /Users/juliusnagel/Desktop/picoutfit/data_and_model/zara_pics/zara_10.png</pre>"
      ],
      "text/plain": [
       "Invalid PNG file\t file: /Users/juliusnagel/Desktop/picoutfit/data_and_model/zara_pics/zara_10.png"
      ]
     },
     "metadata": {},
     "output_type": "display_data"
    },
    {
     "data": {
      "text/html": [
       "<pre>Invalid PNG file\t file: /Users/juliusnagel/Desktop/picoutfit/data_and_model/zara_pics/zara_734.png</pre>"
      ],
      "text/plain": [
       "Invalid PNG file\t file: /Users/juliusnagel/Desktop/picoutfit/data_and_model/zara_pics/zara_734.png"
      ]
     },
     "metadata": {},
     "output_type": "display_data"
    },
    {
     "data": {
      "text/html": [
       "<pre>Invalid PNG file\t file: /Users/juliusnagel/Desktop/picoutfit/data_and_model/zara_pics/zara_594.png</pre>"
      ],
      "text/plain": [
       "Invalid PNG file\t file: /Users/juliusnagel/Desktop/picoutfit/data_and_model/zara_pics/zara_594.png"
      ]
     },
     "metadata": {},
     "output_type": "display_data"
    },
    {
     "data": {
      "text/html": [
       "<pre>Invalid PNG file\t file: /Users/juliusnagel/Desktop/picoutfit/data_and_model/zara_pics/zara_533.png</pre>"
      ],
      "text/plain": [
       "Invalid PNG file\t file: /Users/juliusnagel/Desktop/picoutfit/data_and_model/zara_pics/zara_533.png"
      ]
     },
     "metadata": {},
     "output_type": "display_data"
    },
    {
     "data": {
      "text/html": [
       "<pre>Invalid PNG file\t file: /Users/juliusnagel/Desktop/picoutfit/data_and_model/zara_pics/zara_359.png</pre>"
      ],
      "text/plain": [
       "Invalid PNG file\t file: /Users/juliusnagel/Desktop/picoutfit/data_and_model/zara_pics/zara_359.png"
      ]
     },
     "metadata": {},
     "output_type": "display_data"
    },
    {
     "data": {
      "text/html": [
       "<pre>Invalid PNG file\t file: /Users/juliusnagel/Desktop/picoutfit/data_and_model/zara_pics/zara_467.png</pre>"
      ],
      "text/plain": [
       "Invalid PNG file\t file: /Users/juliusnagel/Desktop/picoutfit/data_and_model/zara_pics/zara_467.png"
      ]
     },
     "metadata": {},
     "output_type": "display_data"
    },
    {
     "data": {
      "text/html": [
       "<pre>Invalid PNG file\t file: /Users/juliusnagel/Desktop/picoutfit/data_and_model/zara_pics/zara_385.png</pre>"
      ],
      "text/plain": [
       "Invalid PNG file\t file: /Users/juliusnagel/Desktop/picoutfit/data_and_model/zara_pics/zara_385.png"
      ]
     },
     "metadata": {},
     "output_type": "display_data"
    },
    {
     "data": {
      "text/html": [
       "<pre>Invalid PNG file\t file: /Users/juliusnagel/Desktop/picoutfit/data_and_model/zara_pics/zara_521.png</pre>"
      ],
      "text/plain": [
       "Invalid PNG file\t file: /Users/juliusnagel/Desktop/picoutfit/data_and_model/zara_pics/zara_521.png"
      ]
     },
     "metadata": {},
     "output_type": "display_data"
    },
    {
     "data": {
      "text/html": [
       "<pre>Invalid PNG file\t file: /Users/juliusnagel/Desktop/picoutfit/data_and_model/zara_pics/zara_753.png</pre>"
      ],
      "text/plain": [
       "Invalid PNG file\t file: /Users/juliusnagel/Desktop/picoutfit/data_and_model/zara_pics/zara_753.png"
      ]
     },
     "metadata": {},
     "output_type": "display_data"
    },
    {
     "data": {
      "text/html": [
       "<pre>Invalid PNG file\t file: /Users/juliusnagel/Desktop/picoutfit/data_and_model/zara_pics/zara_352.png</pre>"
      ],
      "text/plain": [
       "Invalid PNG file\t file: /Users/juliusnagel/Desktop/picoutfit/data_and_model/zara_pics/zara_352.png"
      ]
     },
     "metadata": {},
     "output_type": "display_data"
    },
    {
     "data": {
      "text/html": [
       "<pre>Invalid PNG file\t file: /Users/juliusnagel/Desktop/picoutfit/data_and_model/zara_pics/zara_503.png</pre>"
      ],
      "text/plain": [
       "Invalid PNG file\t file: /Users/juliusnagel/Desktop/picoutfit/data_and_model/zara_pics/zara_503.png"
      ]
     },
     "metadata": {},
     "output_type": "display_data"
    },
    {
     "data": {
      "text/html": [
       "<pre>Invalid PNG file\t file: /Users/juliusnagel/Desktop/picoutfit/data_and_model/zara_pics/zara_262.png</pre>"
      ],
      "text/plain": [
       "Invalid PNG file\t file: /Users/juliusnagel/Desktop/picoutfit/data_and_model/zara_pics/zara_262.png"
      ]
     },
     "metadata": {},
     "output_type": "display_data"
    },
    {
     "data": {
      "text/html": [
       "<pre>Invalid PNG file\t file: /Users/juliusnagel/Desktop/picoutfit/data_and_model/zara_pics/zara_133.png</pre>"
      ],
      "text/plain": [
       "Invalid PNG file\t file: /Users/juliusnagel/Desktop/picoutfit/data_and_model/zara_pics/zara_133.png"
      ]
     },
     "metadata": {},
     "output_type": "display_data"
    },
    {
     "data": {
      "text/html": [
       "<pre>Invalid PNG file\t file: /Users/juliusnagel/Desktop/picoutfit/data_and_model/zara_pics/zara_255.png</pre>"
      ],
      "text/plain": [
       "Invalid PNG file\t file: /Users/juliusnagel/Desktop/picoutfit/data_and_model/zara_pics/zara_255.png"
      ]
     },
     "metadata": {},
     "output_type": "display_data"
    },
    {
     "data": {
      "text/html": [
       "<pre>Invalid PNG file\t file: /Users/juliusnagel/Desktop/picoutfit/data_and_model/zara_pics/zara_610.png</pre>"
      ],
      "text/plain": [
       "Invalid PNG file\t file: /Users/juliusnagel/Desktop/picoutfit/data_and_model/zara_pics/zara_610.png"
      ]
     },
     "metadata": {},
     "output_type": "display_data"
    },
    {
     "data": {
      "text/html": [
       "<pre>Invalid PNG file\t file: /Users/juliusnagel/Desktop/picoutfit/data_and_model/zara_pics/zara_529.png</pre>"
      ],
      "text/plain": [
       "Invalid PNG file\t file: /Users/juliusnagel/Desktop/picoutfit/data_and_model/zara_pics/zara_529.png"
      ]
     },
     "metadata": {},
     "output_type": "display_data"
    },
    {
     "data": {
      "text/html": [
       "<pre>Invalid PNG file\t file: /Users/juliusnagel/Desktop/picoutfit/data_and_model/zara_pics/zara_152.png</pre>"
      ],
      "text/plain": [
       "Invalid PNG file\t file: /Users/juliusnagel/Desktop/picoutfit/data_and_model/zara_pics/zara_152.png"
      ]
     },
     "metadata": {},
     "output_type": "display_data"
    },
    {
     "data": {
      "text/html": [
       "<pre>Invalid PNG file\t file: /Users/juliusnagel/Desktop/picoutfit/data_and_model/zara_pics/zara_480.png</pre>"
      ],
      "text/plain": [
       "Invalid PNG file\t file: /Users/juliusnagel/Desktop/picoutfit/data_and_model/zara_pics/zara_480.png"
      ]
     },
     "metadata": {},
     "output_type": "display_data"
    },
    {
     "data": {
      "text/html": [
       "<pre>Invalid PNG file\t file: /Users/juliusnagel/Desktop/picoutfit/data_and_model/zara_pics/zara_706.png</pre>"
      ],
      "text/plain": [
       "Invalid PNG file\t file: /Users/juliusnagel/Desktop/picoutfit/data_and_model/zara_pics/zara_706.png"
      ]
     },
     "metadata": {},
     "output_type": "display_data"
    },
    {
     "data": {
      "text/html": [
       "<pre>Invalid PNG file\t file: /Users/juliusnagel/Desktop/picoutfit/data_and_model/zara_pics/zara_689.png</pre>"
      ],
      "text/plain": [
       "Invalid PNG file\t file: /Users/juliusnagel/Desktop/picoutfit/data_and_model/zara_pics/zara_689.png"
      ]
     },
     "metadata": {},
     "output_type": "display_data"
    },
    {
     "data": {
      "text/html": [
       "<pre>Invalid PNG file\t file: /Users/juliusnagel/Desktop/picoutfit/data_and_model/zara_pics/zara_707.png</pre>"
      ],
      "text/plain": [
       "Invalid PNG file\t file: /Users/juliusnagel/Desktop/picoutfit/data_and_model/zara_pics/zara_707.png"
      ]
     },
     "metadata": {},
     "output_type": "display_data"
    },
    {
     "data": {
      "text/html": [
       "<pre>Invalid PNG file\t file: /Users/juliusnagel/Desktop/picoutfit/data_and_model/zara_pics/zara_97.png</pre>"
      ],
      "text/plain": [
       "Invalid PNG file\t file: /Users/juliusnagel/Desktop/picoutfit/data_and_model/zara_pics/zara_97.png"
      ]
     },
     "metadata": {},
     "output_type": "display_data"
    },
    {
     "data": {
      "text/html": [
       "<pre>Invalid PNG file\t file: /Users/juliusnagel/Desktop/picoutfit/data_and_model/zara_pics/zara_48.png</pre>"
      ],
      "text/plain": [
       "Invalid PNG file\t file: /Users/juliusnagel/Desktop/picoutfit/data_and_model/zara_pics/zara_48.png"
      ]
     },
     "metadata": {},
     "output_type": "display_data"
    },
    {
     "data": {
      "text/html": [
       "<pre>Invalid PNG file\t file: /Users/juliusnagel/Desktop/picoutfit/data_and_model/zara_pics/zara_677.png</pre>"
      ],
      "text/plain": [
       "Invalid PNG file\t file: /Users/juliusnagel/Desktop/picoutfit/data_and_model/zara_pics/zara_677.png"
      ]
     },
     "metadata": {},
     "output_type": "display_data"
    },
    {
     "data": {
      "text/html": [
       "<pre>Invalid PNG file\t file: /Users/juliusnagel/Desktop/picoutfit/data_and_model/zara_pics/zara_692.png</pre>"
      ],
      "text/plain": [
       "Invalid PNG file\t file: /Users/juliusnagel/Desktop/picoutfit/data_and_model/zara_pics/zara_692.png"
      ]
     },
     "metadata": {},
     "output_type": "display_data"
    },
    {
     "data": {
      "text/html": [
       "<pre>Invalid PNG file\t file: /Users/juliusnagel/Desktop/picoutfit/data_and_model/zara_pics/zara_142.png</pre>"
      ],
      "text/plain": [
       "Invalid PNG file\t file: /Users/juliusnagel/Desktop/picoutfit/data_and_model/zara_pics/zara_142.png"
      ]
     },
     "metadata": {},
     "output_type": "display_data"
    },
    {
     "data": {
      "text/html": [
       "<pre>Invalid PNG file\t file: /Users/juliusnagel/Desktop/picoutfit/data_and_model/zara_pics/zara_154.png</pre>"
      ],
      "text/plain": [
       "Invalid PNG file\t file: /Users/juliusnagel/Desktop/picoutfit/data_and_model/zara_pics/zara_154.png"
      ]
     },
     "metadata": {},
     "output_type": "display_data"
    },
    {
     "data": {
      "text/html": [
       "<pre>Invalid PNG file\t file: /Users/juliusnagel/Desktop/picoutfit/data_and_model/zara_pics/zara_251.png</pre>"
      ],
      "text/plain": [
       "Invalid PNG file\t file: /Users/juliusnagel/Desktop/picoutfit/data_and_model/zara_pics/zara_251.png"
      ]
     },
     "metadata": {},
     "output_type": "display_data"
    },
    {
     "data": {
      "text/html": [
       "<pre>Invalid PNG file\t file: /Users/juliusnagel/Desktop/picoutfit/data_and_model/zara_pics/zara_522.png</pre>"
      ],
      "text/plain": [
       "Invalid PNG file\t file: /Users/juliusnagel/Desktop/picoutfit/data_and_model/zara_pics/zara_522.png"
      ]
     },
     "metadata": {},
     "output_type": "display_data"
    },
    {
     "data": {
      "text/html": [
       "<pre>Invalid PNG file\t file: /Users/juliusnagel/Desktop/picoutfit/data_and_model/zara_pics/zara_354.png</pre>"
      ],
      "text/plain": [
       "Invalid PNG file\t file: /Users/juliusnagel/Desktop/picoutfit/data_and_model/zara_pics/zara_354.png"
      ]
     },
     "metadata": {},
     "output_type": "display_data"
    },
    {
     "data": {
      "text/html": [
       "<pre>Invalid PNG file\t file: /Users/juliusnagel/Desktop/picoutfit/data_and_model/zara_pics/zara_717.png</pre>"
      ],
      "text/plain": [
       "Invalid PNG file\t file: /Users/juliusnagel/Desktop/picoutfit/data_and_model/zara_pics/zara_717.png"
      ]
     },
     "metadata": {},
     "output_type": "display_data"
    },
    {
     "data": {
      "text/html": [
       "<pre>Invalid PNG file\t file: /Users/juliusnagel/Desktop/picoutfit/data_and_model/zara_pics/zara_214.png</pre>"
      ],
      "text/plain": [
       "Invalid PNG file\t file: /Users/juliusnagel/Desktop/picoutfit/data_and_model/zara_pics/zara_214.png"
      ]
     },
     "metadata": {},
     "output_type": "display_data"
    },
    {
     "data": {
      "text/html": [
       "<pre>Invalid PNG file\t file: /Users/juliusnagel/Desktop/picoutfit/data_and_model/zara_pics/zara_782.png</pre>"
      ],
      "text/plain": [
       "Invalid PNG file\t file: /Users/juliusnagel/Desktop/picoutfit/data_and_model/zara_pics/zara_782.png"
      ]
     },
     "metadata": {},
     "output_type": "display_data"
    },
    {
     "data": {
      "text/html": [
       "<pre>Invalid PNG file\t file: /Users/juliusnagel/Desktop/picoutfit/data_and_model/zara_pics/zara_528.png</pre>"
      ],
      "text/plain": [
       "Invalid PNG file\t file: /Users/juliusnagel/Desktop/picoutfit/data_and_model/zara_pics/zara_528.png"
      ]
     },
     "metadata": {},
     "output_type": "display_data"
    },
    {
     "data": {
      "text/html": [
       "<pre>Invalid PNG file\t file: /Users/juliusnagel/Desktop/picoutfit/data_and_model/zara_pics/zara_508.png</pre>"
      ],
      "text/plain": [
       "Invalid PNG file\t file: /Users/juliusnagel/Desktop/picoutfit/data_and_model/zara_pics/zara_508.png"
      ]
     },
     "metadata": {},
     "output_type": "display_data"
    },
    {
     "data": {
      "text/html": [
       "<pre>Invalid PNG file\t file: /Users/juliusnagel/Desktop/picoutfit/data_and_model/zara_pics/zara_296.png</pre>"
      ],
      "text/plain": [
       "Invalid PNG file\t file: /Users/juliusnagel/Desktop/picoutfit/data_and_model/zara_pics/zara_296.png"
      ]
     },
     "metadata": {},
     "output_type": "display_data"
    },
    {
     "data": {
      "text/html": [
       "<pre>Invalid PNG file\t file: /Users/juliusnagel/Desktop/picoutfit/data_and_model/zara_pics/zara_732.png</pre>"
      ],
      "text/plain": [
       "Invalid PNG file\t file: /Users/juliusnagel/Desktop/picoutfit/data_and_model/zara_pics/zara_732.png"
      ]
     },
     "metadata": {},
     "output_type": "display_data"
    },
    {
     "data": {
      "text/html": [
       "<pre>Invalid PNG file\t file: /Users/juliusnagel/Desktop/picoutfit/data_and_model/zara_pics/zara_257.png</pre>"
      ],
      "text/plain": [
       "Invalid PNG file\t file: /Users/juliusnagel/Desktop/picoutfit/data_and_model/zara_pics/zara_257.png"
      ]
     },
     "metadata": {},
     "output_type": "display_data"
    },
    {
     "data": {
      "text/html": [
       "<pre>Invalid PNG file\t file: /Users/juliusnagel/Desktop/picoutfit/data_and_model/zara_pics/zara_349.png</pre>"
      ],
      "text/plain": [
       "Invalid PNG file\t file: /Users/juliusnagel/Desktop/picoutfit/data_and_model/zara_pics/zara_349.png"
      ]
     },
     "metadata": {},
     "output_type": "display_data"
    },
    {
     "data": {
      "text/html": [
       "<pre>Invalid PNG file\t file: /Users/juliusnagel/Desktop/picoutfit/data_and_model/zara_pics/zara_479.png</pre>"
      ],
      "text/plain": [
       "Invalid PNG file\t file: /Users/juliusnagel/Desktop/picoutfit/data_and_model/zara_pics/zara_479.png"
      ]
     },
     "metadata": {},
     "output_type": "display_data"
    },
    {
     "data": {
      "text/html": [
       "<pre>Invalid PNG file\t file: /Users/juliusnagel/Desktop/picoutfit/data_and_model/zara_pics/zara_640.png</pre>"
      ],
      "text/plain": [
       "Invalid PNG file\t file: /Users/juliusnagel/Desktop/picoutfit/data_and_model/zara_pics/zara_640.png"
      ]
     },
     "metadata": {},
     "output_type": "display_data"
    },
    {
     "data": {
      "text/html": [
       "<pre>Invalid PNG file\t file: /Users/juliusnagel/Desktop/picoutfit/data_and_model/zara_pics/zara_41.png</pre>"
      ],
      "text/plain": [
       "Invalid PNG file\t file: /Users/juliusnagel/Desktop/picoutfit/data_and_model/zara_pics/zara_41.png"
      ]
     },
     "metadata": {},
     "output_type": "display_data"
    },
    {
     "data": {
      "text/html": [
       "<pre>Invalid PNG file\t file: /Users/juliusnagel/Desktop/picoutfit/data_and_model/zara_pics/zara_177.png</pre>"
      ],
      "text/plain": [
       "Invalid PNG file\t file: /Users/juliusnagel/Desktop/picoutfit/data_and_model/zara_pics/zara_177.png"
      ]
     },
     "metadata": {},
     "output_type": "display_data"
    },
    {
     "data": {
      "text/html": [
       "<pre>Invalid PNG file\t file: /Users/juliusnagel/Desktop/picoutfit/data_and_model/zara_pics/zara_592.png</pre>"
      ],
      "text/plain": [
       "Invalid PNG file\t file: /Users/juliusnagel/Desktop/picoutfit/data_and_model/zara_pics/zara_592.png"
      ]
     },
     "metadata": {},
     "output_type": "display_data"
    },
    {
     "data": {
      "text/html": [
       "<pre>Invalid PNG file\t file: /Users/juliusnagel/Desktop/picoutfit/data_and_model/zara_pics/zara_536.png</pre>"
      ],
      "text/plain": [
       "Invalid PNG file\t file: /Users/juliusnagel/Desktop/picoutfit/data_and_model/zara_pics/zara_536.png"
      ]
     },
     "metadata": {},
     "output_type": "display_data"
    },
    {
     "data": {
      "text/html": [
       "<pre>Invalid PNG file\t file: /Users/juliusnagel/Desktop/picoutfit/data_and_model/zara_pics/zara_420.png</pre>"
      ],
      "text/plain": [
       "Invalid PNG file\t file: /Users/juliusnagel/Desktop/picoutfit/data_and_model/zara_pics/zara_420.png"
      ]
     },
     "metadata": {},
     "output_type": "display_data"
    },
    {
     "data": {
      "text/html": [
       "<pre>Invalid PNG file\t file: /Users/juliusnagel/Desktop/picoutfit/data_and_model/zara_pics/zara_25.png</pre>"
      ],
      "text/plain": [
       "Invalid PNG file\t file: /Users/juliusnagel/Desktop/picoutfit/data_and_model/zara_pics/zara_25.png"
      ]
     },
     "metadata": {},
     "output_type": "display_data"
    },
    {
     "data": {
      "text/html": [
       "<pre>Invalid PNG file\t file: /Users/juliusnagel/Desktop/picoutfit/data_and_model/zara_pics/zara_638.png</pre>"
      ],
      "text/plain": [
       "Invalid PNG file\t file: /Users/juliusnagel/Desktop/picoutfit/data_and_model/zara_pics/zara_638.png"
      ]
     },
     "metadata": {},
     "output_type": "display_data"
    },
    {
     "data": {
      "text/html": [
       "<pre>Invalid PNG file\t file: /Users/juliusnagel/Desktop/picoutfit/data_and_model/zara_pics/zara_156.png</pre>"
      ],
      "text/plain": [
       "Invalid PNG file\t file: /Users/juliusnagel/Desktop/picoutfit/data_and_model/zara_pics/zara_156.png"
      ]
     },
     "metadata": {},
     "output_type": "display_data"
    },
    {
     "data": {
      "text/html": [
       "<pre>Invalid PNG file\t file: /Users/juliusnagel/Desktop/picoutfit/data_and_model/zara_pics/zara_203.png</pre>"
      ],
      "text/plain": [
       "Invalid PNG file\t file: /Users/juliusnagel/Desktop/picoutfit/data_and_model/zara_pics/zara_203.png"
      ]
     },
     "metadata": {},
     "output_type": "display_data"
    },
    {
     "data": {
      "text/html": [
       "<pre>Invalid PNG file\t file: /Users/juliusnagel/Desktop/picoutfit/data_and_model/zara_pics/zara_785.png</pre>"
      ],
      "text/plain": [
       "Invalid PNG file\t file: /Users/juliusnagel/Desktop/picoutfit/data_and_model/zara_pics/zara_785.png"
      ]
     },
     "metadata": {},
     "output_type": "display_data"
    },
    {
     "data": {
      "text/html": [
       "<pre>Invalid PNG file\t file: /Users/juliusnagel/Desktop/picoutfit/data_and_model/zara_pics/zara_723.png</pre>"
      ],
      "text/plain": [
       "Invalid PNG file\t file: /Users/juliusnagel/Desktop/picoutfit/data_and_model/zara_pics/zara_723.png"
      ]
     },
     "metadata": {},
     "output_type": "display_data"
    },
    {
     "data": {
      "text/html": [
       "<pre>Invalid PNG file\t file: /Users/juliusnagel/Desktop/picoutfit/data_and_model/zara_pics/zara_822.png</pre>"
      ],
      "text/plain": [
       "Invalid PNG file\t file: /Users/juliusnagel/Desktop/picoutfit/data_and_model/zara_pics/zara_822.png"
      ]
     },
     "metadata": {},
     "output_type": "display_data"
    },
    {
     "data": {
      "text/html": [
       "<pre>Invalid PNG file\t file: /Users/juliusnagel/Desktop/picoutfit/data_and_model/zara_pics/zara_821.png</pre>"
      ],
      "text/plain": [
       "Invalid PNG file\t file: /Users/juliusnagel/Desktop/picoutfit/data_and_model/zara_pics/zara_821.png"
      ]
     },
     "metadata": {},
     "output_type": "display_data"
    },
    {
     "data": {
      "text/html": [
       "<pre>Invalid PNG file\t file: /Users/juliusnagel/Desktop/picoutfit/data_and_model/zara_pics/zara_807.png</pre>"
      ],
      "text/plain": [
       "Invalid PNG file\t file: /Users/juliusnagel/Desktop/picoutfit/data_and_model/zara_pics/zara_807.png"
      ]
     },
     "metadata": {},
     "output_type": "display_data"
    },
    {
     "data": {
      "text/html": [
       "<pre>Invalid PNG file\t file: /Users/juliusnagel/Desktop/picoutfit/data_and_model/zara_pics/zara_399.png</pre>"
      ],
      "text/plain": [
       "Invalid PNG file\t file: /Users/juliusnagel/Desktop/picoutfit/data_and_model/zara_pics/zara_399.png"
      ]
     },
     "metadata": {},
     "output_type": "display_data"
    },
    {
     "data": {
      "text/html": [
       "<pre>Invalid PNG file\t file: /Users/juliusnagel/Desktop/picoutfit/data_and_model/zara_pics/zara_437.png</pre>"
      ],
      "text/plain": [
       "Invalid PNG file\t file: /Users/juliusnagel/Desktop/picoutfit/data_and_model/zara_pics/zara_437.png"
      ]
     },
     "metadata": {},
     "output_type": "display_data"
    },
    {
     "data": {
      "text/html": [
       "<pre>Invalid PNG file\t file: /Users/juliusnagel/Desktop/picoutfit/data_and_model/zara_pics/zara_358.png</pre>"
      ],
      "text/plain": [
       "Invalid PNG file\t file: /Users/juliusnagel/Desktop/picoutfit/data_and_model/zara_pics/zara_358.png"
      ]
     },
     "metadata": {},
     "output_type": "display_data"
    },
    {
     "data": {
      "text/html": [
       "<pre>Invalid PNG file\t file: /Users/juliusnagel/Desktop/picoutfit/data_and_model/zara_pics/zara_120.png</pre>"
      ],
      "text/plain": [
       "Invalid PNG file\t file: /Users/juliusnagel/Desktop/picoutfit/data_and_model/zara_pics/zara_120.png"
      ]
     },
     "metadata": {},
     "output_type": "display_data"
    },
    {
     "data": {
      "text/html": [
       "<pre>Invalid PNG file\t file: /Users/juliusnagel/Desktop/picoutfit/data_and_model/zara_pics/zara_507.png</pre>"
      ],
      "text/plain": [
       "Invalid PNG file\t file: /Users/juliusnagel/Desktop/picoutfit/data_and_model/zara_pics/zara_507.png"
      ]
     },
     "metadata": {},
     "output_type": "display_data"
    },
    {
     "data": {
      "text/html": [
       "<pre>Invalid PNG file\t file: /Users/juliusnagel/Desktop/picoutfit/data_and_model/zara_pics/zara_179.png</pre>"
      ],
      "text/plain": [
       "Invalid PNG file\t file: /Users/juliusnagel/Desktop/picoutfit/data_and_model/zara_pics/zara_179.png"
      ]
     },
     "metadata": {},
     "output_type": "display_data"
    },
    {
     "data": {
      "text/html": [
       "<pre>Invalid PNG file\t file: /Users/juliusnagel/Desktop/picoutfit/data_and_model/zara_pics/zara_139.png</pre>"
      ],
      "text/plain": [
       "Invalid PNG file\t file: /Users/juliusnagel/Desktop/picoutfit/data_and_model/zara_pics/zara_139.png"
      ]
     },
     "metadata": {},
     "output_type": "display_data"
    },
    {
     "data": {
      "text/html": [
       "<pre>Invalid PNG file\t file: /Users/juliusnagel/Desktop/picoutfit/data_and_model/zara_pics/zara_144.png</pre>"
      ],
      "text/plain": [
       "Invalid PNG file\t file: /Users/juliusnagel/Desktop/picoutfit/data_and_model/zara_pics/zara_144.png"
      ]
     },
     "metadata": {},
     "output_type": "display_data"
    },
    {
     "data": {
      "text/html": [
       "<pre>Invalid PNG file\t file: /Users/juliusnagel/Desktop/picoutfit/data_and_model/zara_pics/zara_198.png</pre>"
      ],
      "text/plain": [
       "Invalid PNG file\t file: /Users/juliusnagel/Desktop/picoutfit/data_and_model/zara_pics/zara_198.png"
      ]
     },
     "metadata": {},
     "output_type": "display_data"
    },
    {
     "data": {
      "text/html": [
       "<pre>Invalid PNG file\t file: /Users/juliusnagel/Desktop/picoutfit/data_and_model/zara_pics/zara_415.png</pre>"
      ],
      "text/plain": [
       "Invalid PNG file\t file: /Users/juliusnagel/Desktop/picoutfit/data_and_model/zara_pics/zara_415.png"
      ]
     },
     "metadata": {},
     "output_type": "display_data"
    },
    {
     "data": {
      "text/html": [
       "<pre>Invalid PNG file\t file: /Users/juliusnagel/Desktop/picoutfit/data_and_model/zara_pics/zara_245.png</pre>"
      ],
      "text/plain": [
       "Invalid PNG file\t file: /Users/juliusnagel/Desktop/picoutfit/data_and_model/zara_pics/zara_245.png"
      ]
     },
     "metadata": {},
     "output_type": "display_data"
    },
    {
     "data": {
      "text/html": [
       "<pre>Invalid PNG file\t file: /Users/juliusnagel/Desktop/picoutfit/data_and_model/zara_pics/zara_416.png</pre>"
      ],
      "text/plain": [
       "Invalid PNG file\t file: /Users/juliusnagel/Desktop/picoutfit/data_and_model/zara_pics/zara_416.png"
      ]
     },
     "metadata": {},
     "output_type": "display_data"
    },
    {
     "data": {
      "text/html": [
       "<pre>Invalid PNG file\t file: /Users/juliusnagel/Desktop/picoutfit/data_and_model/zara_pics/zara_563.png</pre>"
      ],
      "text/plain": [
       "Invalid PNG file\t file: /Users/juliusnagel/Desktop/picoutfit/data_and_model/zara_pics/zara_563.png"
      ]
     },
     "metadata": {},
     "output_type": "display_data"
    },
    {
     "data": {
      "text/html": [
       "<pre>Invalid PNG file\t file: /Users/juliusnagel/Desktop/picoutfit/data_and_model/zara_pics/zara_402.png</pre>"
      ],
      "text/plain": [
       "Invalid PNG file\t file: /Users/juliusnagel/Desktop/picoutfit/data_and_model/zara_pics/zara_402.png"
      ]
     },
     "metadata": {},
     "output_type": "display_data"
    },
    {
     "data": {
      "text/html": [
       "<pre>Invalid PNG file\t file: /Users/juliusnagel/Desktop/picoutfit/data_and_model/zara_pics/zara_404.png</pre>"
      ],
      "text/plain": [
       "Invalid PNG file\t file: /Users/juliusnagel/Desktop/picoutfit/data_and_model/zara_pics/zara_404.png"
      ]
     },
     "metadata": {},
     "output_type": "display_data"
    },
    {
     "data": {
      "text/html": [
       "<pre>Invalid PNG file\t file: /Users/juliusnagel/Desktop/picoutfit/data_and_model/zara_pics/zara_525.png</pre>"
      ],
      "text/plain": [
       "Invalid PNG file\t file: /Users/juliusnagel/Desktop/picoutfit/data_and_model/zara_pics/zara_525.png"
      ]
     },
     "metadata": {},
     "output_type": "display_data"
    },
    {
     "data": {
      "text/html": [
       "<pre>Invalid PNG file\t file: /Users/juliusnagel/Desktop/picoutfit/data_and_model/zara_pics/zara_14.png</pre>"
      ],
      "text/plain": [
       "Invalid PNG file\t file: /Users/juliusnagel/Desktop/picoutfit/data_and_model/zara_pics/zara_14.png"
      ]
     },
     "metadata": {},
     "output_type": "display_data"
    },
    {
     "data": {
      "text/html": [
       "<pre>Invalid PNG file\t file: /Users/juliusnagel/Desktop/picoutfit/data_and_model/zara_pics/zara_395.png</pre>"
      ],
      "text/plain": [
       "Invalid PNG file\t file: /Users/juliusnagel/Desktop/picoutfit/data_and_model/zara_pics/zara_395.png"
      ]
     },
     "metadata": {},
     "output_type": "display_data"
    },
    {
     "data": {
      "text/html": [
       "<pre>Invalid PNG file\t file: /Users/juliusnagel/Desktop/picoutfit/data_and_model/zara_pics/zara_454.png</pre>"
      ],
      "text/plain": [
       "Invalid PNG file\t file: /Users/juliusnagel/Desktop/picoutfit/data_and_model/zara_pics/zara_454.png"
      ]
     },
     "metadata": {},
     "output_type": "display_data"
    },
    {
     "data": {
      "text/html": [
       "<pre>Invalid PNG file\t file: /Users/juliusnagel/Desktop/picoutfit/data_and_model/zara_pics/zara_111.png</pre>"
      ],
      "text/plain": [
       "Invalid PNG file\t file: /Users/juliusnagel/Desktop/picoutfit/data_and_model/zara_pics/zara_111.png"
      ]
     },
     "metadata": {},
     "output_type": "display_data"
    },
    {
     "data": {
      "text/html": [
       "<pre>Invalid PNG file\t file: /Users/juliusnagel/Desktop/picoutfit/data_and_model/zara_pics/zara_374.png</pre>"
      ],
      "text/plain": [
       "Invalid PNG file\t file: /Users/juliusnagel/Desktop/picoutfit/data_and_model/zara_pics/zara_374.png"
      ]
     },
     "metadata": {},
     "output_type": "display_data"
    },
    {
     "data": {
      "text/html": [
       "<pre>Invalid PNG file\t file: /Users/juliusnagel/Desktop/picoutfit/data_and_model/zara_pics/zara_813.png</pre>"
      ],
      "text/plain": [
       "Invalid PNG file\t file: /Users/juliusnagel/Desktop/picoutfit/data_and_model/zara_pics/zara_813.png"
      ]
     },
     "metadata": {},
     "output_type": "display_data"
    },
    {
     "data": {
      "text/html": [
       "<pre>Invalid PNG file\t file: /Users/juliusnagel/Desktop/picoutfit/data_and_model/zara_pics/zara_22.png</pre>"
      ],
      "text/plain": [
       "Invalid PNG file\t file: /Users/juliusnagel/Desktop/picoutfit/data_and_model/zara_pics/zara_22.png"
      ]
     },
     "metadata": {},
     "output_type": "display_data"
    },
    {
     "data": {
      "text/html": [
       "<pre>Invalid PNG file\t file: /Users/juliusnagel/Desktop/picoutfit/data_and_model/zara_pics/zara_564.png</pre>"
      ],
      "text/plain": [
       "Invalid PNG file\t file: /Users/juliusnagel/Desktop/picoutfit/data_and_model/zara_pics/zara_564.png"
      ]
     },
     "metadata": {},
     "output_type": "display_data"
    },
    {
     "data": {
      "text/html": [
       "<pre>Invalid PNG file\t file: /Users/juliusnagel/Desktop/picoutfit/data_and_model/zara_pics/zara_559.png</pre>"
      ],
      "text/plain": [
       "Invalid PNG file\t file: /Users/juliusnagel/Desktop/picoutfit/data_and_model/zara_pics/zara_559.png"
      ]
     },
     "metadata": {},
     "output_type": "display_data"
    },
    {
     "data": {
      "text/html": [
       "<pre>Invalid PNG file\t file: /Users/juliusnagel/Desktop/picoutfit/data_and_model/zara_pics/zara_299.png</pre>"
      ],
      "text/plain": [
       "Invalid PNG file\t file: /Users/juliusnagel/Desktop/picoutfit/data_and_model/zara_pics/zara_299.png"
      ]
     },
     "metadata": {},
     "output_type": "display_data"
    },
    {
     "data": {
      "text/html": [
       "<pre>Invalid PNG file\t file: /Users/juliusnagel/Desktop/picoutfit/data_and_model/zara_pics/zara_832.png</pre>"
      ],
      "text/plain": [
       "Invalid PNG file\t file: /Users/juliusnagel/Desktop/picoutfit/data_and_model/zara_pics/zara_832.png"
      ]
     },
     "metadata": {},
     "output_type": "display_data"
    },
    {
     "data": {
      "text/html": [
       "<pre>Invalid PNG file\t file: /Users/juliusnagel/Desktop/picoutfit/data_and_model/zara_pics/zara_548.png</pre>"
      ],
      "text/plain": [
       "Invalid PNG file\t file: /Users/juliusnagel/Desktop/picoutfit/data_and_model/zara_pics/zara_548.png"
      ]
     },
     "metadata": {},
     "output_type": "display_data"
    },
    {
     "data": {
      "text/html": [
       "<pre>Invalid PNG file\t file: /Users/juliusnagel/Desktop/picoutfit/data_and_model/zara_pics/zara_578.png</pre>"
      ],
      "text/plain": [
       "Invalid PNG file\t file: /Users/juliusnagel/Desktop/picoutfit/data_and_model/zara_pics/zara_578.png"
      ]
     },
     "metadata": {},
     "output_type": "display_data"
    },
    {
     "data": {
      "text/html": [
       "<pre>Invalid PNG file\t file: /Users/juliusnagel/Desktop/picoutfit/data_and_model/zara_pics/zara_441.png</pre>"
      ],
      "text/plain": [
       "Invalid PNG file\t file: /Users/juliusnagel/Desktop/picoutfit/data_and_model/zara_pics/zara_441.png"
      ]
     },
     "metadata": {},
     "output_type": "display_data"
    },
    {
     "data": {
      "text/html": [
       "<pre>Invalid PNG file\t file: /Users/juliusnagel/Desktop/picoutfit/data_and_model/zara_pics/zara_443.png</pre>"
      ],
      "text/plain": [
       "Invalid PNG file\t file: /Users/juliusnagel/Desktop/picoutfit/data_and_model/zara_pics/zara_443.png"
      ]
     },
     "metadata": {},
     "output_type": "display_data"
    },
    {
     "data": {
      "text/html": [
       "<pre>Invalid PNG file\t file: /Users/juliusnagel/Desktop/picoutfit/data_and_model/zara_pics/zara_162.png</pre>"
      ],
      "text/plain": [
       "Invalid PNG file\t file: /Users/juliusnagel/Desktop/picoutfit/data_and_model/zara_pics/zara_162.png"
      ]
     },
     "metadata": {},
     "output_type": "display_data"
    },
    {
     "data": {
      "text/html": [
       "<pre>Invalid PNG file\t file: /Users/juliusnagel/Desktop/picoutfit/data_and_model/zara_pics/zara_78.png</pre>"
      ],
      "text/plain": [
       "Invalid PNG file\t file: /Users/juliusnagel/Desktop/picoutfit/data_and_model/zara_pics/zara_78.png"
      ]
     },
     "metadata": {},
     "output_type": "display_data"
    },
    {
     "data": {
      "text/html": [
       "<pre>Invalid PNG file\t file: /Users/juliusnagel/Desktop/picoutfit/data_and_model/zara_pics/zara_606.png</pre>"
      ],
      "text/plain": [
       "Invalid PNG file\t file: /Users/juliusnagel/Desktop/picoutfit/data_and_model/zara_pics/zara_606.png"
      ]
     },
     "metadata": {},
     "output_type": "display_data"
    },
    {
     "data": {
      "text/html": [
       "<pre>Invalid PNG file\t file: /Users/juliusnagel/Desktop/picoutfit/data_and_model/zara_pics/zara_516.png</pre>"
      ],
      "text/plain": [
       "Invalid PNG file\t file: /Users/juliusnagel/Desktop/picoutfit/data_and_model/zara_pics/zara_516.png"
      ]
     },
     "metadata": {},
     "output_type": "display_data"
    },
    {
     "data": {
      "text/html": [
       "<pre>Invalid PNG file\t file: /Users/juliusnagel/Desktop/picoutfit/data_and_model/zara_pics/zara_595.png</pre>"
      ],
      "text/plain": [
       "Invalid PNG file\t file: /Users/juliusnagel/Desktop/picoutfit/data_and_model/zara_pics/zara_595.png"
      ]
     },
     "metadata": {},
     "output_type": "display_data"
    },
    {
     "data": {
      "text/html": [
       "<pre>Invalid PNG file\t file: /Users/juliusnagel/Desktop/picoutfit/data_and_model/zara_pics/zara_513.png</pre>"
      ],
      "text/plain": [
       "Invalid PNG file\t file: /Users/juliusnagel/Desktop/picoutfit/data_and_model/zara_pics/zara_513.png"
      ]
     },
     "metadata": {},
     "output_type": "display_data"
    },
    {
     "data": {
      "text/html": [
       "<pre>Invalid PNG file\t file: /Users/juliusnagel/Desktop/picoutfit/data_and_model/zara_pics/zara_716.png</pre>"
      ],
      "text/plain": [
       "Invalid PNG file\t file: /Users/juliusnagel/Desktop/picoutfit/data_and_model/zara_pics/zara_716.png"
      ]
     },
     "metadata": {},
     "output_type": "display_data"
    },
    {
     "data": {
      "text/html": [
       "<pre>Invalid PNG file\t file: /Users/juliusnagel/Desktop/picoutfit/data_and_model/zara_pics/zara_379.png</pre>"
      ],
      "text/plain": [
       "Invalid PNG file\t file: /Users/juliusnagel/Desktop/picoutfit/data_and_model/zara_pics/zara_379.png"
      ]
     },
     "metadata": {},
     "output_type": "display_data"
    },
    {
     "data": {
      "text/html": [
       "<pre>Invalid PNG file\t file: /Users/juliusnagel/Desktop/picoutfit/data_and_model/zara_pics/zara_514.png</pre>"
      ],
      "text/plain": [
       "Invalid PNG file\t file: /Users/juliusnagel/Desktop/picoutfit/data_and_model/zara_pics/zara_514.png"
      ]
     },
     "metadata": {},
     "output_type": "display_data"
    },
    {
     "data": {
      "text/html": [
       "<pre>Invalid PNG file\t file: /Users/juliusnagel/Desktop/picoutfit/data_and_model/zara_pics/zara_784.png</pre>"
      ],
      "text/plain": [
       "Invalid PNG file\t file: /Users/juliusnagel/Desktop/picoutfit/data_and_model/zara_pics/zara_784.png"
      ]
     },
     "metadata": {},
     "output_type": "display_data"
    },
    {
     "data": {
      "text/html": [
       "<pre>Invalid PNG file\t file: /Users/juliusnagel/Desktop/picoutfit/data_and_model/zara_pics/zara_720.png</pre>"
      ],
      "text/plain": [
       "Invalid PNG file\t file: /Users/juliusnagel/Desktop/picoutfit/data_and_model/zara_pics/zara_720.png"
      ]
     },
     "metadata": {},
     "output_type": "display_data"
    },
    {
     "data": {
      "text/html": [
       "<pre>Invalid PNG file\t file: /Users/juliusnagel/Desktop/picoutfit/data_and_model/zara_pics/zara_830.png</pre>"
      ],
      "text/plain": [
       "Invalid PNG file\t file: /Users/juliusnagel/Desktop/picoutfit/data_and_model/zara_pics/zara_830.png"
      ]
     },
     "metadata": {},
     "output_type": "display_data"
    },
    {
     "data": {
      "text/html": [
       "<pre>Invalid PNG file\t file: /Users/juliusnagel/Desktop/picoutfit/data_and_model/zara_pics/zara_797.png</pre>"
      ],
      "text/plain": [
       "Invalid PNG file\t file: /Users/juliusnagel/Desktop/picoutfit/data_and_model/zara_pics/zara_797.png"
      ]
     },
     "metadata": {},
     "output_type": "display_data"
    },
    {
     "data": {
      "text/html": [
       "<pre>Invalid PNG file\t file: /Users/juliusnagel/Desktop/picoutfit/data_and_model/zara_pics/zara_151.png</pre>"
      ],
      "text/plain": [
       "Invalid PNG file\t file: /Users/juliusnagel/Desktop/picoutfit/data_and_model/zara_pics/zara_151.png"
      ]
     },
     "metadata": {},
     "output_type": "display_data"
    },
    {
     "data": {
      "text/html": [
       "<pre>Invalid PNG file\t file: /Users/juliusnagel/Desktop/picoutfit/data_and_model/zara_pics/zara_231.png</pre>"
      ],
      "text/plain": [
       "Invalid PNG file\t file: /Users/juliusnagel/Desktop/picoutfit/data_and_model/zara_pics/zara_231.png"
      ]
     },
     "metadata": {},
     "output_type": "display_data"
    },
    {
     "data": {
      "text/html": [
       "<pre>Invalid PNG file\t file: /Users/juliusnagel/Desktop/picoutfit/data_and_model/zara_pics/zara_49.png</pre>"
      ],
      "text/plain": [
       "Invalid PNG file\t file: /Users/juliusnagel/Desktop/picoutfit/data_and_model/zara_pics/zara_49.png"
      ]
     },
     "metadata": {},
     "output_type": "display_data"
    },
    {
     "data": {
      "text/html": [
       "<pre>Invalid PNG file\t file: /Users/juliusnagel/Desktop/picoutfit/data_and_model/zara_pics/zara_6.png</pre>"
      ],
      "text/plain": [
       "Invalid PNG file\t file: /Users/juliusnagel/Desktop/picoutfit/data_and_model/zara_pics/zara_6.png"
      ]
     },
     "metadata": {},
     "output_type": "display_data"
    },
    {
     "data": {
      "text/html": [
       "<pre>Invalid PNG file\t file: /Users/juliusnagel/Desktop/picoutfit/data_and_model/zara_pics/zara_270.png</pre>"
      ],
      "text/plain": [
       "Invalid PNG file\t file: /Users/juliusnagel/Desktop/picoutfit/data_and_model/zara_pics/zara_270.png"
      ]
     },
     "metadata": {},
     "output_type": "display_data"
    },
    {
     "data": {
      "text/html": [
       "<pre>Invalid PNG file\t file: /Users/juliusnagel/Desktop/picoutfit/data_and_model/zara_pics/zara_1.png</pre>"
      ],
      "text/plain": [
       "Invalid PNG file\t file: /Users/juliusnagel/Desktop/picoutfit/data_and_model/zara_pics/zara_1.png"
      ]
     },
     "metadata": {},
     "output_type": "display_data"
    },
    {
     "data": {
      "text/html": [
       "<pre>Invalid PNG file\t file: /Users/juliusnagel/Desktop/picoutfit/data_and_model/zara_pics/zara_495.png</pre>"
      ],
      "text/plain": [
       "Invalid PNG file\t file: /Users/juliusnagel/Desktop/picoutfit/data_and_model/zara_pics/zara_495.png"
      ]
     },
     "metadata": {},
     "output_type": "display_data"
    },
    {
     "data": {
      "text/html": [
       "<pre>Invalid PNG file\t file: /Users/juliusnagel/Desktop/picoutfit/data_and_model/zara_pics/zara_783.png</pre>"
      ],
      "text/plain": [
       "Invalid PNG file\t file: /Users/juliusnagel/Desktop/picoutfit/data_and_model/zara_pics/zara_783.png"
      ]
     },
     "metadata": {},
     "output_type": "display_data"
    },
    {
     "data": {
      "text/html": [
       "<pre>Invalid PNG file\t file: /Users/juliusnagel/Desktop/picoutfit/data_and_model/zara_pics/zara_497.png</pre>"
      ],
      "text/plain": [
       "Invalid PNG file\t file: /Users/juliusnagel/Desktop/picoutfit/data_and_model/zara_pics/zara_497.png"
      ]
     },
     "metadata": {},
     "output_type": "display_data"
    },
    {
     "data": {
      "text/html": [
       "<pre>Invalid PNG file\t file: /Users/juliusnagel/Desktop/picoutfit/data_and_model/zara_pics/zara_643.png</pre>"
      ],
      "text/plain": [
       "Invalid PNG file\t file: /Users/juliusnagel/Desktop/picoutfit/data_and_model/zara_pics/zara_643.png"
      ]
     },
     "metadata": {},
     "output_type": "display_data"
    },
    {
     "data": {
      "text/html": [
       "<pre>Invalid PNG file\t file: /Users/juliusnagel/Desktop/picoutfit/data_and_model/zara_pics/zara_216.png</pre>"
      ],
      "text/plain": [
       "Invalid PNG file\t file: /Users/juliusnagel/Desktop/picoutfit/data_and_model/zara_pics/zara_216.png"
      ]
     },
     "metadata": {},
     "output_type": "display_data"
    },
    {
     "data": {
      "text/html": [
       "<pre>Invalid PNG file\t file: /Users/juliusnagel/Desktop/picoutfit/data_and_model/zara_pics/zara_531.png</pre>"
      ],
      "text/plain": [
       "Invalid PNG file\t file: /Users/juliusnagel/Desktop/picoutfit/data_and_model/zara_pics/zara_531.png"
      ]
     },
     "metadata": {},
     "output_type": "display_data"
    },
    {
     "data": {
      "text/html": [
       "<pre>Invalid PNG file\t file: /Users/juliusnagel/Desktop/picoutfit/data_and_model/zara_pics/zara_438.png</pre>"
      ],
      "text/plain": [
       "Invalid PNG file\t file: /Users/juliusnagel/Desktop/picoutfit/data_and_model/zara_pics/zara_438.png"
      ]
     },
     "metadata": {},
     "output_type": "display_data"
    },
    {
     "data": {
      "text/html": [
       "<pre>Invalid PNG file\t file: /Users/juliusnagel/Desktop/picoutfit/data_and_model/zara_pics/zara_229.png</pre>"
      ],
      "text/plain": [
       "Invalid PNG file\t file: /Users/juliusnagel/Desktop/picoutfit/data_and_model/zara_pics/zara_229.png"
      ]
     },
     "metadata": {},
     "output_type": "display_data"
    },
    {
     "data": {
      "text/html": [
       "<pre>Invalid PNG file\t file: /Users/juliusnagel/Desktop/picoutfit/data_and_model/zara_pics/zara_744.png</pre>"
      ],
      "text/plain": [
       "Invalid PNG file\t file: /Users/juliusnagel/Desktop/picoutfit/data_and_model/zara_pics/zara_744.png"
      ]
     },
     "metadata": {},
     "output_type": "display_data"
    },
    {
     "data": {
      "text/html": [
       "<pre>Invalid PNG file\t file: /Users/juliusnagel/Desktop/picoutfit/data_and_model/zara_pics/zara_194.png</pre>"
      ],
      "text/plain": [
       "Invalid PNG file\t file: /Users/juliusnagel/Desktop/picoutfit/data_and_model/zara_pics/zara_194.png"
      ]
     },
     "metadata": {},
     "output_type": "display_data"
    },
    {
     "data": {
      "text/html": [
       "<pre>Invalid PNG file\t file: /Users/juliusnagel/Desktop/picoutfit/data_and_model/zara_pics/zara_661.png</pre>"
      ],
      "text/plain": [
       "Invalid PNG file\t file: /Users/juliusnagel/Desktop/picoutfit/data_and_model/zara_pics/zara_661.png"
      ]
     },
     "metadata": {},
     "output_type": "display_data"
    },
    {
     "data": {
      "text/html": [
       "<pre>Invalid PNG file\t file: /Users/juliusnagel/Desktop/picoutfit/data_and_model/zara_pics/zara_219.png</pre>"
      ],
      "text/plain": [
       "Invalid PNG file\t file: /Users/juliusnagel/Desktop/picoutfit/data_and_model/zara_pics/zara_219.png"
      ]
     },
     "metadata": {},
     "output_type": "display_data"
    },
    {
     "data": {
      "text/html": [
       "<pre>Invalid PNG file\t file: /Users/juliusnagel/Desktop/picoutfit/data_and_model/zara_pics/zara_772.png</pre>"
      ],
      "text/plain": [
       "Invalid PNG file\t file: /Users/juliusnagel/Desktop/picoutfit/data_and_model/zara_pics/zara_772.png"
      ]
     },
     "metadata": {},
     "output_type": "display_data"
    },
    {
     "data": {
      "text/html": [
       "<pre>Invalid PNG file\t file: /Users/juliusnagel/Desktop/picoutfit/data_and_model/zara_pics/zara_603.png</pre>"
      ],
      "text/plain": [
       "Invalid PNG file\t file: /Users/juliusnagel/Desktop/picoutfit/data_and_model/zara_pics/zara_603.png"
      ]
     },
     "metadata": {},
     "output_type": "display_data"
    },
    {
     "data": {
      "text/html": [
       "<pre>Invalid PNG file\t file: /Users/juliusnagel/Desktop/picoutfit/data_and_model/zara_pics/zara_687.png</pre>"
      ],
      "text/plain": [
       "Invalid PNG file\t file: /Users/juliusnagel/Desktop/picoutfit/data_and_model/zara_pics/zara_687.png"
      ]
     },
     "metadata": {},
     "output_type": "display_data"
    },
    {
     "data": {
      "text/html": [
       "<pre>Invalid PNG file\t file: /Users/juliusnagel/Desktop/picoutfit/data_and_model/zara_pics/zara_31.png</pre>"
      ],
      "text/plain": [
       "Invalid PNG file\t file: /Users/juliusnagel/Desktop/picoutfit/data_and_model/zara_pics/zara_31.png"
      ]
     },
     "metadata": {},
     "output_type": "display_data"
    },
    {
     "data": {
      "text/html": [
       "<pre>Invalid PNG file\t file: /Users/juliusnagel/Desktop/picoutfit/data_and_model/zara_pics/zara_356.png</pre>"
      ],
      "text/plain": [
       "Invalid PNG file\t file: /Users/juliusnagel/Desktop/picoutfit/data_and_model/zara_pics/zara_356.png"
      ]
     },
     "metadata": {},
     "output_type": "display_data"
    },
    {
     "data": {
      "text/html": [
       "<pre>Invalid PNG file\t file: /Users/juliusnagel/Desktop/picoutfit/data_and_model/zara_pics/zara_29.png</pre>"
      ],
      "text/plain": [
       "Invalid PNG file\t file: /Users/juliusnagel/Desktop/picoutfit/data_and_model/zara_pics/zara_29.png"
      ]
     },
     "metadata": {},
     "output_type": "display_data"
    },
    {
     "data": {
      "text/html": [
       "<pre>Invalid PNG file\t file: /Users/juliusnagel/Desktop/picoutfit/data_and_model/zara_pics/zara_428.png</pre>"
      ],
      "text/plain": [
       "Invalid PNG file\t file: /Users/juliusnagel/Desktop/picoutfit/data_and_model/zara_pics/zara_428.png"
      ]
     },
     "metadata": {},
     "output_type": "display_data"
    },
    {
     "data": {
      "text/html": [
       "<pre>Invalid PNG file\t file: /Users/juliusnagel/Desktop/picoutfit/data_and_model/zara_pics/zara_460.png</pre>"
      ],
      "text/plain": [
       "Invalid PNG file\t file: /Users/juliusnagel/Desktop/picoutfit/data_and_model/zara_pics/zara_460.png"
      ]
     },
     "metadata": {},
     "output_type": "display_data"
    },
    {
     "data": {
      "text/html": [
       "<pre>Invalid PNG file\t file: /Users/juliusnagel/Desktop/picoutfit/data_and_model/zara_pics/zara_300.png</pre>"
      ],
      "text/plain": [
       "Invalid PNG file\t file: /Users/juliusnagel/Desktop/picoutfit/data_and_model/zara_pics/zara_300.png"
      ]
     },
     "metadata": {},
     "output_type": "display_data"
    },
    {
     "data": {
      "text/html": [
       "<pre>Invalid PNG file\t file: /Users/juliusnagel/Desktop/picoutfit/data_and_model/zara_pics/zara_760.png</pre>"
      ],
      "text/plain": [
       "Invalid PNG file\t file: /Users/juliusnagel/Desktop/picoutfit/data_and_model/zara_pics/zara_760.png"
      ]
     },
     "metadata": {},
     "output_type": "display_data"
    },
    {
     "data": {
      "text/html": [
       "<pre>Invalid PNG file\t file: /Users/juliusnagel/Desktop/picoutfit/data_and_model/zara_pics/zara_593.png</pre>"
      ],
      "text/plain": [
       "Invalid PNG file\t file: /Users/juliusnagel/Desktop/picoutfit/data_and_model/zara_pics/zara_593.png"
      ]
     },
     "metadata": {},
     "output_type": "display_data"
    },
    {
     "data": {
      "text/html": [
       "<pre>Invalid PNG file\t file: /Users/juliusnagel/Desktop/picoutfit/data_and_model/zara_pics/zara_818.png</pre>"
      ],
      "text/plain": [
       "Invalid PNG file\t file: /Users/juliusnagel/Desktop/picoutfit/data_and_model/zara_pics/zara_818.png"
      ]
     },
     "metadata": {},
     "output_type": "display_data"
    },
    {
     "data": {
      "text/html": [
       "<pre>Invalid PNG file\t file: /Users/juliusnagel/Desktop/picoutfit/data_and_model/zara_pics/zara_183.png</pre>"
      ],
      "text/plain": [
       "Invalid PNG file\t file: /Users/juliusnagel/Desktop/picoutfit/data_and_model/zara_pics/zara_183.png"
      ]
     },
     "metadata": {},
     "output_type": "display_data"
    },
    {
     "data": {
      "text/html": [
       "<pre>Invalid PNG file\t file: /Users/juliusnagel/Desktop/picoutfit/data_and_model/zara_pics/zara_275.png</pre>"
      ],
      "text/plain": [
       "Invalid PNG file\t file: /Users/juliusnagel/Desktop/picoutfit/data_and_model/zara_pics/zara_275.png"
      ]
     },
     "metadata": {},
     "output_type": "display_data"
    },
    {
     "data": {
      "text/html": [
       "<pre>Invalid PNG file\t file: /Users/juliusnagel/Desktop/picoutfit/data_and_model/zara_pics/zara_224.png</pre>"
      ],
      "text/plain": [
       "Invalid PNG file\t file: /Users/juliusnagel/Desktop/picoutfit/data_and_model/zara_pics/zara_224.png"
      ]
     },
     "metadata": {},
     "output_type": "display_data"
    },
    {
     "data": {
      "text/html": [
       "<pre>Invalid PNG file\t file: /Users/juliusnagel/Desktop/picoutfit/data_and_model/zara_pics/zara_63.png</pre>"
      ],
      "text/plain": [
       "Invalid PNG file\t file: /Users/juliusnagel/Desktop/picoutfit/data_and_model/zara_pics/zara_63.png"
      ]
     },
     "metadata": {},
     "output_type": "display_data"
    },
    {
     "data": {
      "text/html": [
       "<pre>Invalid PNG file\t file: /Users/juliusnagel/Desktop/picoutfit/data_and_model/zara_pics/zara_560.png</pre>"
      ],
      "text/plain": [
       "Invalid PNG file\t file: /Users/juliusnagel/Desktop/picoutfit/data_and_model/zara_pics/zara_560.png"
      ]
     },
     "metadata": {},
     "output_type": "display_data"
    },
    {
     "data": {
      "text/html": [
       "<pre>Invalid PNG file\t file: /Users/juliusnagel/Desktop/picoutfit/data_and_model/zara_pics/zara_623.png</pre>"
      ],
      "text/plain": [
       "Invalid PNG file\t file: /Users/juliusnagel/Desktop/picoutfit/data_and_model/zara_pics/zara_623.png"
      ]
     },
     "metadata": {},
     "output_type": "display_data"
    },
    {
     "data": {
      "text/html": [
       "<pre>Invalid PNG file\t file: /Users/juliusnagel/Desktop/picoutfit/data_and_model/zara_pics/zara_383.png</pre>"
      ],
      "text/plain": [
       "Invalid PNG file\t file: /Users/juliusnagel/Desktop/picoutfit/data_and_model/zara_pics/zara_383.png"
      ]
     },
     "metadata": {},
     "output_type": "display_data"
    },
    {
     "data": {
      "text/html": [
       "<pre>Invalid PNG file\t file: /Users/juliusnagel/Desktop/picoutfit/data_and_model/zara_pics/zara_624.png</pre>"
      ],
      "text/plain": [
       "Invalid PNG file\t file: /Users/juliusnagel/Desktop/picoutfit/data_and_model/zara_pics/zara_624.png"
      ]
     },
     "metadata": {},
     "output_type": "display_data"
    },
    {
     "data": {
      "text/html": [
       "<pre>Invalid PNG file\t file: /Users/juliusnagel/Desktop/picoutfit/data_and_model/zara_pics/zara_740.png</pre>"
      ],
      "text/plain": [
       "Invalid PNG file\t file: /Users/juliusnagel/Desktop/picoutfit/data_and_model/zara_pics/zara_740.png"
      ]
     },
     "metadata": {},
     "output_type": "display_data"
    },
    {
     "data": {
      "text/html": [
       "<pre>Invalid PNG file\t file: /Users/juliusnagel/Desktop/picoutfit/data_and_model/zara_pics/zara_182.png</pre>"
      ],
      "text/plain": [
       "Invalid PNG file\t file: /Users/juliusnagel/Desktop/picoutfit/data_and_model/zara_pics/zara_182.png"
      ]
     },
     "metadata": {},
     "output_type": "display_data"
    },
    {
     "data": {
      "text/html": [
       "<pre>Invalid PNG file\t file: /Users/juliusnagel/Desktop/picoutfit/data_and_model/zara_pics/zara_752.png</pre>"
      ],
      "text/plain": [
       "Invalid PNG file\t file: /Users/juliusnagel/Desktop/picoutfit/data_and_model/zara_pics/zara_752.png"
      ]
     },
     "metadata": {},
     "output_type": "display_data"
    },
    {
     "data": {
      "text/html": [
       "<pre>Invalid PNG file\t file: /Users/juliusnagel/Desktop/picoutfit/data_and_model/zara_pics/zara_769.png</pre>"
      ],
      "text/plain": [
       "Invalid PNG file\t file: /Users/juliusnagel/Desktop/picoutfit/data_and_model/zara_pics/zara_769.png"
      ]
     },
     "metadata": {},
     "output_type": "display_data"
    },
    {
     "data": {
      "text/html": [
       "<pre>Invalid PNG file\t file: /Users/juliusnagel/Desktop/picoutfit/data_and_model/zara_pics/zara_398.png</pre>"
      ],
      "text/plain": [
       "Invalid PNG file\t file: /Users/juliusnagel/Desktop/picoutfit/data_and_model/zara_pics/zara_398.png"
      ]
     },
     "metadata": {},
     "output_type": "display_data"
    },
    {
     "data": {
      "text/html": [
       "<pre>Invalid PNG file\t file: /Users/juliusnagel/Desktop/picoutfit/data_and_model/zara_pics/zara_829.png</pre>"
      ],
      "text/plain": [
       "Invalid PNG file\t file: /Users/juliusnagel/Desktop/picoutfit/data_and_model/zara_pics/zara_829.png"
      ]
     },
     "metadata": {},
     "output_type": "display_data"
    },
    {
     "data": {
      "text/html": [
       "<pre>Invalid PNG file\t file: /Users/juliusnagel/Desktop/picoutfit/data_and_model/zara_pics/zara_562.png</pre>"
      ],
      "text/plain": [
       "Invalid PNG file\t file: /Users/juliusnagel/Desktop/picoutfit/data_and_model/zara_pics/zara_562.png"
      ]
     },
     "metadata": {},
     "output_type": "display_data"
    },
    {
     "data": {
      "text/html": [
       "<pre>Invalid PNG file\t file: /Users/juliusnagel/Desktop/picoutfit/data_and_model/zara_pics/zara_445.png</pre>"
      ],
      "text/plain": [
       "Invalid PNG file\t file: /Users/juliusnagel/Desktop/picoutfit/data_and_model/zara_pics/zara_445.png"
      ]
     },
     "metadata": {},
     "output_type": "display_data"
    },
    {
     "data": {
      "text/html": [
       "<pre>Invalid PNG file\t file: /Users/juliusnagel/Desktop/picoutfit/data_and_model/zara_pics/zara_427.png</pre>"
      ],
      "text/plain": [
       "Invalid PNG file\t file: /Users/juliusnagel/Desktop/picoutfit/data_and_model/zara_pics/zara_427.png"
      ]
     },
     "metadata": {},
     "output_type": "display_data"
    },
    {
     "data": {
      "text/html": [
       "<pre>Invalid PNG file\t file: /Users/juliusnagel/Desktop/picoutfit/data_and_model/zara_pics/zara_771.png</pre>"
      ],
      "text/plain": [
       "Invalid PNG file\t file: /Users/juliusnagel/Desktop/picoutfit/data_and_model/zara_pics/zara_771.png"
      ]
     },
     "metadata": {},
     "output_type": "display_data"
    },
    {
     "data": {
      "text/html": [
       "<pre>Invalid PNG file\t file: /Users/juliusnagel/Desktop/picoutfit/data_and_model/zara_pics/zara_694.png</pre>"
      ],
      "text/plain": [
       "Invalid PNG file\t file: /Users/juliusnagel/Desktop/picoutfit/data_and_model/zara_pics/zara_694.png"
      ]
     },
     "metadata": {},
     "output_type": "display_data"
    },
    {
     "data": {
      "text/html": [
       "<pre>Invalid PNG file\t file: /Users/juliusnagel/Desktop/picoutfit/data_and_model/zara_pics/zara_341.png</pre>"
      ],
      "text/plain": [
       "Invalid PNG file\t file: /Users/juliusnagel/Desktop/picoutfit/data_and_model/zara_pics/zara_341.png"
      ]
     },
     "metadata": {},
     "output_type": "display_data"
    },
    {
     "data": {
      "text/html": [
       "<pre>Invalid PNG file\t file: /Users/juliusnagel/Desktop/picoutfit/data_and_model/zara_pics/zara_8.png</pre>"
      ],
      "text/plain": [
       "Invalid PNG file\t file: /Users/juliusnagel/Desktop/picoutfit/data_and_model/zara_pics/zara_8.png"
      ]
     },
     "metadata": {},
     "output_type": "display_data"
    },
    {
     "data": {
      "text/html": [
       "<pre>Invalid PNG file\t file: /Users/juliusnagel/Desktop/picoutfit/data_and_model/zara_pics/zara_768.png</pre>"
      ],
      "text/plain": [
       "Invalid PNG file\t file: /Users/juliusnagel/Desktop/picoutfit/data_and_model/zara_pics/zara_768.png"
      ]
     },
     "metadata": {},
     "output_type": "display_data"
    },
    {
     "data": {
      "text/html": [
       "<pre>Invalid PNG file\t file: /Users/juliusnagel/Desktop/picoutfit/data_and_model/zara_pics/zara_743.png</pre>"
      ],
      "text/plain": [
       "Invalid PNG file\t file: /Users/juliusnagel/Desktop/picoutfit/data_and_model/zara_pics/zara_743.png"
      ]
     },
     "metadata": {},
     "output_type": "display_data"
    },
    {
     "data": {
      "text/html": [
       "<pre>Invalid PNG file\t file: /Users/juliusnagel/Desktop/picoutfit/data_and_model/zara_pics/zara_364.png</pre>"
      ],
      "text/plain": [
       "Invalid PNG file\t file: /Users/juliusnagel/Desktop/picoutfit/data_and_model/zara_pics/zara_364.png"
      ]
     },
     "metadata": {},
     "output_type": "display_data"
    },
    {
     "data": {
      "text/html": [
       "<pre>Invalid PNG file\t file: /Users/juliusnagel/Desktop/picoutfit/data_and_model/zara_pics/zara_519.png</pre>"
      ],
      "text/plain": [
       "Invalid PNG file\t file: /Users/juliusnagel/Desktop/picoutfit/data_and_model/zara_pics/zara_519.png"
      ]
     },
     "metadata": {},
     "output_type": "display_data"
    },
    {
     "data": {
      "text/html": [
       "<pre>Invalid PNG file\t file: /Users/juliusnagel/Desktop/picoutfit/data_and_model/zara_pics/zara_326.png</pre>"
      ],
      "text/plain": [
       "Invalid PNG file\t file: /Users/juliusnagel/Desktop/picoutfit/data_and_model/zara_pics/zara_326.png"
      ]
     },
     "metadata": {},
     "output_type": "display_data"
    },
    {
     "data": {
      "text/html": [
       "<pre>Invalid PNG file\t file: /Users/juliusnagel/Desktop/picoutfit/data_and_model/zara_pics/zara_281.png</pre>"
      ],
      "text/plain": [
       "Invalid PNG file\t file: /Users/juliusnagel/Desktop/picoutfit/data_and_model/zara_pics/zara_281.png"
      ]
     },
     "metadata": {},
     "output_type": "display_data"
    },
    {
     "data": {
      "text/html": [
       "<pre>Invalid PNG file\t file: /Users/juliusnagel/Desktop/picoutfit/data_and_model/zara_pics/zara_520.png</pre>"
      ],
      "text/plain": [
       "Invalid PNG file\t file: /Users/juliusnagel/Desktop/picoutfit/data_and_model/zara_pics/zara_520.png"
      ]
     },
     "metadata": {},
     "output_type": "display_data"
    },
    {
     "data": {
      "text/html": [
       "<pre>Invalid PNG file\t file: /Users/juliusnagel/Desktop/picoutfit/data_and_model/zara_pics/zara_468.png</pre>"
      ],
      "text/plain": [
       "Invalid PNG file\t file: /Users/juliusnagel/Desktop/picoutfit/data_and_model/zara_pics/zara_468.png"
      ]
     },
     "metadata": {},
     "output_type": "display_data"
    },
    {
     "data": {
      "text/html": [
       "<pre>Invalid PNG file\t file: /Users/juliusnagel/Desktop/picoutfit/data_and_model/zara_pics/zara_457.png</pre>"
      ],
      "text/plain": [
       "Invalid PNG file\t file: /Users/juliusnagel/Desktop/picoutfit/data_and_model/zara_pics/zara_457.png"
      ]
     },
     "metadata": {},
     "output_type": "display_data"
    },
    {
     "data": {
      "text/html": [
       "<pre>Invalid PNG file\t file: /Users/juliusnagel/Desktop/picoutfit/data_and_model/zara_pics/zara_265.png</pre>"
      ],
      "text/plain": [
       "Invalid PNG file\t file: /Users/juliusnagel/Desktop/picoutfit/data_and_model/zara_pics/zara_265.png"
      ]
     },
     "metadata": {},
     "output_type": "display_data"
    },
    {
     "data": {
      "text/html": [
       "<pre>Invalid PNG file\t file: /Users/juliusnagel/Desktop/picoutfit/data_and_model/zara_pics/zara_609.png</pre>"
      ],
      "text/plain": [
       "Invalid PNG file\t file: /Users/juliusnagel/Desktop/picoutfit/data_and_model/zara_pics/zara_609.png"
      ]
     },
     "metadata": {},
     "output_type": "display_data"
    },
    {
     "data": {
      "text/html": [
       "<pre>Invalid PNG file\t file: /Users/juliusnagel/Desktop/picoutfit/data_and_model/zara_pics/zara_34.png</pre>"
      ],
      "text/plain": [
       "Invalid PNG file\t file: /Users/juliusnagel/Desktop/picoutfit/data_and_model/zara_pics/zara_34.png"
      ]
     },
     "metadata": {},
     "output_type": "display_data"
    },
    {
     "data": {
      "text/html": [
       "<pre>Invalid PNG file\t file: /Users/juliusnagel/Desktop/picoutfit/data_and_model/zara_pics/zara_649.png</pre>"
      ],
      "text/plain": [
       "Invalid PNG file\t file: /Users/juliusnagel/Desktop/picoutfit/data_and_model/zara_pics/zara_649.png"
      ]
     },
     "metadata": {},
     "output_type": "display_data"
    },
    {
     "data": {
      "text/html": [
       "<pre>Invalid PNG file\t file: /Users/juliusnagel/Desktop/picoutfit/data_and_model/zara_pics/zara_773.png</pre>"
      ],
      "text/plain": [
       "Invalid PNG file\t file: /Users/juliusnagel/Desktop/picoutfit/data_and_model/zara_pics/zara_773.png"
      ]
     },
     "metadata": {},
     "output_type": "display_data"
    },
    {
     "data": {
      "text/html": [
       "<pre>Invalid PNG file\t file: /Users/juliusnagel/Desktop/picoutfit/data_and_model/zara_pics/zara_320.png</pre>"
      ],
      "text/plain": [
       "Invalid PNG file\t file: /Users/juliusnagel/Desktop/picoutfit/data_and_model/zara_pics/zara_320.png"
      ]
     },
     "metadata": {},
     "output_type": "display_data"
    },
    {
     "data": {
      "text/html": [
       "<pre>Invalid PNG file\t file: /Users/juliusnagel/Desktop/picoutfit/data_and_model/zara_pics/zara_455.png</pre>"
      ],
      "text/plain": [
       "Invalid PNG file\t file: /Users/juliusnagel/Desktop/picoutfit/data_and_model/zara_pics/zara_455.png"
      ]
     },
     "metadata": {},
     "output_type": "display_data"
    },
    {
     "data": {
      "text/html": [
       "<pre>Invalid PNG file\t file: /Users/juliusnagel/Desktop/picoutfit/data_and_model/zara_pics/zara_801.png</pre>"
      ],
      "text/plain": [
       "Invalid PNG file\t file: /Users/juliusnagel/Desktop/picoutfit/data_and_model/zara_pics/zara_801.png"
      ]
     },
     "metadata": {},
     "output_type": "display_data"
    },
    {
     "data": {
      "text/html": [
       "<pre>Invalid PNG file\t file: /Users/juliusnagel/Desktop/picoutfit/data_and_model/zara_pics/zara_446.png</pre>"
      ],
      "text/plain": [
       "Invalid PNG file\t file: /Users/juliusnagel/Desktop/picoutfit/data_and_model/zara_pics/zara_446.png"
      ]
     },
     "metadata": {},
     "output_type": "display_data"
    },
    {
     "data": {
      "text/html": [
       "<pre>Invalid PNG file\t file: /Users/juliusnagel/Desktop/picoutfit/data_and_model/zara_pics/zara_291.png</pre>"
      ],
      "text/plain": [
       "Invalid PNG file\t file: /Users/juliusnagel/Desktop/picoutfit/data_and_model/zara_pics/zara_291.png"
      ]
     },
     "metadata": {},
     "output_type": "display_data"
    },
    {
     "data": {
      "text/html": [
       "<pre>Invalid PNG file\t file: /Users/juliusnagel/Desktop/picoutfit/data_and_model/zara_pics/zara_676.png</pre>"
      ],
      "text/plain": [
       "Invalid PNG file\t file: /Users/juliusnagel/Desktop/picoutfit/data_and_model/zara_pics/zara_676.png"
      ]
     },
     "metadata": {},
     "output_type": "display_data"
    },
    {
     "data": {
      "text/html": [
       "<pre>Invalid PNG file\t file: /Users/juliusnagel/Desktop/picoutfit/data_and_model/zara_pics/zara_756.png</pre>"
      ],
      "text/plain": [
       "Invalid PNG file\t file: /Users/juliusnagel/Desktop/picoutfit/data_and_model/zara_pics/zara_756.png"
      ]
     },
     "metadata": {},
     "output_type": "display_data"
    },
    {
     "data": {
      "text/html": [
       "<pre>Invalid PNG file\t file: /Users/juliusnagel/Desktop/picoutfit/data_and_model/zara_pics/zara_435.png</pre>"
      ],
      "text/plain": [
       "Invalid PNG file\t file: /Users/juliusnagel/Desktop/picoutfit/data_and_model/zara_pics/zara_435.png"
      ]
     },
     "metadata": {},
     "output_type": "display_data"
    },
    {
     "data": {
      "text/html": [
       "<pre>Invalid PNG file\t file: /Users/juliusnagel/Desktop/picoutfit/data_and_model/zara_pics/zara_206.png</pre>"
      ],
      "text/plain": [
       "Invalid PNG file\t file: /Users/juliusnagel/Desktop/picoutfit/data_and_model/zara_pics/zara_206.png"
      ]
     },
     "metadata": {},
     "output_type": "display_data"
    },
    {
     "data": {
      "text/html": [
       "<pre>Invalid PNG file\t file: /Users/juliusnagel/Desktop/picoutfit/data_and_model/zara_pics/zara_510.png</pre>"
      ],
      "text/plain": [
       "Invalid PNG file\t file: /Users/juliusnagel/Desktop/picoutfit/data_and_model/zara_pics/zara_510.png"
      ]
     },
     "metadata": {},
     "output_type": "display_data"
    },
    {
     "data": {
      "text/html": [
       "<pre>Invalid PNG file\t file: /Users/juliusnagel/Desktop/picoutfit/data_and_model/zara_pics/zara_820.png</pre>"
      ],
      "text/plain": [
       "Invalid PNG file\t file: /Users/juliusnagel/Desktop/picoutfit/data_and_model/zara_pics/zara_820.png"
      ]
     },
     "metadata": {},
     "output_type": "display_data"
    },
    {
     "data": {
      "text/html": [
       "<pre>Invalid PNG file\t file: /Users/juliusnagel/Desktop/picoutfit/data_and_model/zara_pics/zara_267.png</pre>"
      ],
      "text/plain": [
       "Invalid PNG file\t file: /Users/juliusnagel/Desktop/picoutfit/data_and_model/zara_pics/zara_267.png"
      ]
     },
     "metadata": {},
     "output_type": "display_data"
    },
    {
     "data": {
      "text/html": [
       "<pre>Invalid PNG file\t file: /Users/juliusnagel/Desktop/picoutfit/data_and_model/zara_pics/zara_58.png</pre>"
      ],
      "text/plain": [
       "Invalid PNG file\t file: /Users/juliusnagel/Desktop/picoutfit/data_and_model/zara_pics/zara_58.png"
      ]
     },
     "metadata": {},
     "output_type": "display_data"
    },
    {
     "data": {
      "text/html": [
       "<pre>Invalid PNG file\t file: /Users/juliusnagel/Desktop/picoutfit/data_and_model/zara_pics/zara_298.png</pre>"
      ],
      "text/plain": [
       "Invalid PNG file\t file: /Users/juliusnagel/Desktop/picoutfit/data_and_model/zara_pics/zara_298.png"
      ]
     },
     "metadata": {},
     "output_type": "display_data"
    },
    {
     "data": {
      "text/html": [
       "<pre>Invalid PNG file\t file: /Users/juliusnagel/Desktop/picoutfit/data_and_model/zara_pics/zara_292.png</pre>"
      ],
      "text/plain": [
       "Invalid PNG file\t file: /Users/juliusnagel/Desktop/picoutfit/data_and_model/zara_pics/zara_292.png"
      ]
     },
     "metadata": {},
     "output_type": "display_data"
    },
    {
     "data": {
      "text/html": [
       "<pre>Invalid PNG file\t file: /Users/juliusnagel/Desktop/picoutfit/data_and_model/zara_pics/zara_181.png</pre>"
      ],
      "text/plain": [
       "Invalid PNG file\t file: /Users/juliusnagel/Desktop/picoutfit/data_and_model/zara_pics/zara_181.png"
      ]
     },
     "metadata": {},
     "output_type": "display_data"
    },
    {
     "data": {
      "text/html": [
       "<pre>Invalid PNG file\t file: /Users/juliusnagel/Desktop/picoutfit/data_and_model/zara_pics/zara_211.png</pre>"
      ],
      "text/plain": [
       "Invalid PNG file\t file: /Users/juliusnagel/Desktop/picoutfit/data_and_model/zara_pics/zara_211.png"
      ]
     },
     "metadata": {},
     "output_type": "display_data"
    },
    {
     "data": {
      "text/html": [
       "<pre>Invalid PNG file\t file: /Users/juliusnagel/Desktop/picoutfit/data_and_model/zara_pics/zara_554.png</pre>"
      ],
      "text/plain": [
       "Invalid PNG file\t file: /Users/juliusnagel/Desktop/picoutfit/data_and_model/zara_pics/zara_554.png"
      ]
     },
     "metadata": {},
     "output_type": "display_data"
    },
    {
     "data": {
      "text/html": [
       "<pre>Invalid PNG file\t file: /Users/juliusnagel/Desktop/picoutfit/data_and_model/zara_pics/zara_330.png</pre>"
      ],
      "text/plain": [
       "Invalid PNG file\t file: /Users/juliusnagel/Desktop/picoutfit/data_and_model/zara_pics/zara_330.png"
      ]
     },
     "metadata": {},
     "output_type": "display_data"
    },
    {
     "data": {
      "text/html": [
       "<pre>Invalid PNG file\t file: /Users/juliusnagel/Desktop/picoutfit/data_and_model/zara_pics/zara_570.png</pre>"
      ],
      "text/plain": [
       "Invalid PNG file\t file: /Users/juliusnagel/Desktop/picoutfit/data_and_model/zara_pics/zara_570.png"
      ]
     },
     "metadata": {},
     "output_type": "display_data"
    },
    {
     "data": {
      "text/html": [
       "<pre>Invalid PNG file\t file: /Users/juliusnagel/Desktop/picoutfit/data_and_model/zara_pics/zara_590.png</pre>"
      ],
      "text/plain": [
       "Invalid PNG file\t file: /Users/juliusnagel/Desktop/picoutfit/data_and_model/zara_pics/zara_590.png"
      ]
     },
     "metadata": {},
     "output_type": "display_data"
    },
    {
     "data": {
      "text/html": [
       "<pre>Invalid PNG file\t file: /Users/juliusnagel/Desktop/picoutfit/data_and_model/zara_pics/zara_602.png</pre>"
      ],
      "text/plain": [
       "Invalid PNG file\t file: /Users/juliusnagel/Desktop/picoutfit/data_and_model/zara_pics/zara_602.png"
      ]
     },
     "metadata": {},
     "output_type": "display_data"
    },
    {
     "data": {
      "text/html": [
       "<pre>Invalid PNG file\t file: /Users/juliusnagel/Desktop/picoutfit/data_and_model/zara_pics/zara_741.png</pre>"
      ],
      "text/plain": [
       "Invalid PNG file\t file: /Users/juliusnagel/Desktop/picoutfit/data_and_model/zara_pics/zara_741.png"
      ]
     },
     "metadata": {},
     "output_type": "display_data"
    },
    {
     "data": {
      "text/html": [
       "<pre>Invalid PNG file\t file: /Users/juliusnagel/Desktop/picoutfit/data_and_model/zara_pics/zara_555.png</pre>"
      ],
      "text/plain": [
       "Invalid PNG file\t file: /Users/juliusnagel/Desktop/picoutfit/data_and_model/zara_pics/zara_555.png"
      ]
     },
     "metadata": {},
     "output_type": "display_data"
    },
    {
     "data": {
      "text/html": [
       "<pre>Invalid PNG file\t file: /Users/juliusnagel/Desktop/picoutfit/data_and_model/zara_pics/zara_577.png</pre>"
      ],
      "text/plain": [
       "Invalid PNG file\t file: /Users/juliusnagel/Desktop/picoutfit/data_and_model/zara_pics/zara_577.png"
      ]
     },
     "metadata": {},
     "output_type": "display_data"
    },
    {
     "data": {
      "text/html": [
       "<pre>Invalid PNG file\t file: /Users/juliusnagel/Desktop/picoutfit/data_and_model/zara_pics/zara_16.png</pre>"
      ],
      "text/plain": [
       "Invalid PNG file\t file: /Users/juliusnagel/Desktop/picoutfit/data_and_model/zara_pics/zara_16.png"
      ]
     },
     "metadata": {},
     "output_type": "display_data"
    },
    {
     "data": {
      "text/html": [
       "<pre>Invalid PNG file\t file: /Users/juliusnagel/Desktop/picoutfit/data_and_model/zara_pics/zara_628.png</pre>"
      ],
      "text/plain": [
       "Invalid PNG file\t file: /Users/juliusnagel/Desktop/picoutfit/data_and_model/zara_pics/zara_628.png"
      ]
     },
     "metadata": {},
     "output_type": "display_data"
    },
    {
     "data": {
      "text/html": [
       "<pre>Invalid PNG file\t file: /Users/juliusnagel/Desktop/picoutfit/data_and_model/zara_pics/zara_729.png</pre>"
      ],
      "text/plain": [
       "Invalid PNG file\t file: /Users/juliusnagel/Desktop/picoutfit/data_and_model/zara_pics/zara_729.png"
      ]
     },
     "metadata": {},
     "output_type": "display_data"
    },
    {
     "data": {
      "text/html": [
       "<pre>Invalid PNG file\t file: /Users/juliusnagel/Desktop/picoutfit/data_and_model/zara_pics/zara_184.png</pre>"
      ],
      "text/plain": [
       "Invalid PNG file\t file: /Users/juliusnagel/Desktop/picoutfit/data_and_model/zara_pics/zara_184.png"
      ]
     },
     "metadata": {},
     "output_type": "display_data"
    },
    {
     "data": {
      "text/html": [
       "<pre>Invalid PNG file\t file: /Users/juliusnagel/Desktop/picoutfit/data_and_model/zara_pics/zara_293.png</pre>"
      ],
      "text/plain": [
       "Invalid PNG file\t file: /Users/juliusnagel/Desktop/picoutfit/data_and_model/zara_pics/zara_293.png"
      ]
     },
     "metadata": {},
     "output_type": "display_data"
    },
    {
     "data": {
      "text/html": [
       "<pre>Invalid PNG file\t file: /Users/juliusnagel/Desktop/picoutfit/data_and_model/zara_pics/zara_302.png</pre>"
      ],
      "text/plain": [
       "Invalid PNG file\t file: /Users/juliusnagel/Desktop/picoutfit/data_and_model/zara_pics/zara_302.png"
      ]
     },
     "metadata": {},
     "output_type": "display_data"
    },
    {
     "data": {
      "text/html": [
       "<pre>Invalid PNG file\t file: /Users/juliusnagel/Desktop/picoutfit/data_and_model/zara_pics/zara_279.png</pre>"
      ],
      "text/plain": [
       "Invalid PNG file\t file: /Users/juliusnagel/Desktop/picoutfit/data_and_model/zara_pics/zara_279.png"
      ]
     },
     "metadata": {},
     "output_type": "display_data"
    },
    {
     "data": {
      "text/html": [
       "<pre>Invalid PNG file\t file: /Users/juliusnagel/Desktop/picoutfit/data_and_model/zara_pics/zara_765.png</pre>"
      ],
      "text/plain": [
       "Invalid PNG file\t file: /Users/juliusnagel/Desktop/picoutfit/data_and_model/zara_pics/zara_765.png"
      ]
     },
     "metadata": {},
     "output_type": "display_data"
    },
    {
     "data": {
      "text/html": [
       "<pre>Invalid PNG file\t file: /Users/juliusnagel/Desktop/picoutfit/data_and_model/zara_pics/zara_335.png</pre>"
      ],
      "text/plain": [
       "Invalid PNG file\t file: /Users/juliusnagel/Desktop/picoutfit/data_and_model/zara_pics/zara_335.png"
      ]
     },
     "metadata": {},
     "output_type": "display_data"
    },
    {
     "data": {
      "text/html": [
       "<pre>Invalid PNG file\t file: /Users/juliusnagel/Desktop/picoutfit/data_and_model/zara_pics/zara_491.png</pre>"
      ],
      "text/plain": [
       "Invalid PNG file\t file: /Users/juliusnagel/Desktop/picoutfit/data_and_model/zara_pics/zara_491.png"
      ]
     },
     "metadata": {},
     "output_type": "display_data"
    },
    {
     "data": {
      "text/html": [
       "<pre>Invalid PNG file\t file: /Users/juliusnagel/Desktop/picoutfit/data_and_model/zara_pics/zara_581.png</pre>"
      ],
      "text/plain": [
       "Invalid PNG file\t file: /Users/juliusnagel/Desktop/picoutfit/data_and_model/zara_pics/zara_581.png"
      ]
     },
     "metadata": {},
     "output_type": "display_data"
    },
    {
     "data": {
      "text/html": [
       "<pre>Invalid PNG file\t file: /Users/juliusnagel/Desktop/picoutfit/data_and_model/zara_pics/zara_777.png</pre>"
      ],
      "text/plain": [
       "Invalid PNG file\t file: /Users/juliusnagel/Desktop/picoutfit/data_and_model/zara_pics/zara_777.png"
      ]
     },
     "metadata": {},
     "output_type": "display_data"
    },
    {
     "data": {
      "text/html": [
       "<pre>Invalid PNG file\t file: /Users/juliusnagel/Desktop/picoutfit/data_and_model/zara_pics/zara_11.png</pre>"
      ],
      "text/plain": [
       "Invalid PNG file\t file: /Users/juliusnagel/Desktop/picoutfit/data_and_model/zara_pics/zara_11.png"
      ]
     },
     "metadata": {},
     "output_type": "display_data"
    },
    {
     "data": {
      "text/html": [
       "<pre>Invalid PNG file\t file: /Users/juliusnagel/Desktop/picoutfit/data_and_model/zara_pics/zara_465.png</pre>"
      ],
      "text/plain": [
       "Invalid PNG file\t file: /Users/juliusnagel/Desktop/picoutfit/data_and_model/zara_pics/zara_465.png"
      ]
     },
     "metadata": {},
     "output_type": "display_data"
    },
    {
     "data": {
      "text/html": [
       "<pre>Invalid PNG file\t file: /Users/juliusnagel/Desktop/picoutfit/data_and_model/zara_pics/zara_572.png</pre>"
      ],
      "text/plain": [
       "Invalid PNG file\t file: /Users/juliusnagel/Desktop/picoutfit/data_and_model/zara_pics/zara_572.png"
      ]
     },
     "metadata": {},
     "output_type": "display_data"
    },
    {
     "data": {
      "text/html": [
       "<pre>Invalid PNG file\t file: /Users/juliusnagel/Desktop/picoutfit/data_and_model/zara_pics/zara_585.png</pre>"
      ],
      "text/plain": [
       "Invalid PNG file\t file: /Users/juliusnagel/Desktop/picoutfit/data_and_model/zara_pics/zara_585.png"
      ]
     },
     "metadata": {},
     "output_type": "display_data"
    },
    {
     "data": {
      "text/html": [
       "<pre>Invalid PNG file\t file: /Users/juliusnagel/Desktop/picoutfit/data_and_model/zara_pics/zara_113.png</pre>"
      ],
      "text/plain": [
       "Invalid PNG file\t file: /Users/juliusnagel/Desktop/picoutfit/data_and_model/zara_pics/zara_113.png"
      ]
     },
     "metadata": {},
     "output_type": "display_data"
    },
    {
     "data": {
      "text/html": [
       "<pre>Invalid PNG file\t file: /Users/juliusnagel/Desktop/picoutfit/data_and_model/zara_pics/zara_730.png</pre>"
      ],
      "text/plain": [
       "Invalid PNG file\t file: /Users/juliusnagel/Desktop/picoutfit/data_and_model/zara_pics/zara_730.png"
      ]
     },
     "metadata": {},
     "output_type": "display_data"
    },
    {
     "data": {
      "text/html": [
       "<pre>Invalid PNG file\t file: /Users/juliusnagel/Desktop/picoutfit/data_and_model/zara_pics/zara_504.png</pre>"
      ],
      "text/plain": [
       "Invalid PNG file\t file: /Users/juliusnagel/Desktop/picoutfit/data_and_model/zara_pics/zara_504.png"
      ]
     },
     "metadata": {},
     "output_type": "display_data"
    },
    {
     "data": {
      "text/html": [
       "<pre>Invalid PNG file\t file: /Users/juliusnagel/Desktop/picoutfit/data_and_model/zara_pics/zara_361.png</pre>"
      ],
      "text/plain": [
       "Invalid PNG file\t file: /Users/juliusnagel/Desktop/picoutfit/data_and_model/zara_pics/zara_361.png"
      ]
     },
     "metadata": {},
     "output_type": "display_data"
    },
    {
     "data": {
      "text/html": [
       "<pre>Invalid PNG file\t file: /Users/juliusnagel/Desktop/picoutfit/data_and_model/zara_pics/zara_780.png</pre>"
      ],
      "text/plain": [
       "Invalid PNG file\t file: /Users/juliusnagel/Desktop/picoutfit/data_and_model/zara_pics/zara_780.png"
      ]
     },
     "metadata": {},
     "output_type": "display_data"
    },
    {
     "data": {
      "text/html": [
       "<pre>Invalid PNG file\t file: /Users/juliusnagel/Desktop/picoutfit/data_and_model/zara_pics/zara_114.png</pre>"
      ],
      "text/plain": [
       "Invalid PNG file\t file: /Users/juliusnagel/Desktop/picoutfit/data_and_model/zara_pics/zara_114.png"
      ]
     },
     "metadata": {},
     "output_type": "display_data"
    },
    {
     "data": {
      "text/html": [
       "<pre>Invalid PNG file\t file: /Users/juliusnagel/Desktop/picoutfit/data_and_model/zara_pics/zara_835.png</pre>"
      ],
      "text/plain": [
       "Invalid PNG file\t file: /Users/juliusnagel/Desktop/picoutfit/data_and_model/zara_pics/zara_835.png"
      ]
     },
     "metadata": {},
     "output_type": "display_data"
    },
    {
     "data": {
      "text/html": [
       "<pre>Invalid PNG file\t file: /Users/juliusnagel/Desktop/picoutfit/data_and_model/zara_pics/zara_215.png</pre>"
      ],
      "text/plain": [
       "Invalid PNG file\t file: /Users/juliusnagel/Desktop/picoutfit/data_and_model/zara_pics/zara_215.png"
      ]
     },
     "metadata": {},
     "output_type": "display_data"
    },
    {
     "data": {
      "text/html": [
       "<pre>Invalid PNG file\t file: /Users/juliusnagel/Desktop/picoutfit/data_and_model/zara_pics/zara_511.png</pre>"
      ],
      "text/plain": [
       "Invalid PNG file\t file: /Users/juliusnagel/Desktop/picoutfit/data_and_model/zara_pics/zara_511.png"
      ]
     },
     "metadata": {},
     "output_type": "display_data"
    },
    {
     "data": {
      "text/html": [
       "<pre>Invalid PNG file\t file: /Users/juliusnagel/Desktop/picoutfit/data_and_model/zara_pics/zara_220.png</pre>"
      ],
      "text/plain": [
       "Invalid PNG file\t file: /Users/juliusnagel/Desktop/picoutfit/data_and_model/zara_pics/zara_220.png"
      ]
     },
     "metadata": {},
     "output_type": "display_data"
    },
    {
     "data": {
      "text/html": [
       "<pre>Invalid PNG file\t file: /Users/juliusnagel/Desktop/picoutfit/data_and_model/zara_pics/zara_583.png</pre>"
      ],
      "text/plain": [
       "Invalid PNG file\t file: /Users/juliusnagel/Desktop/picoutfit/data_and_model/zara_pics/zara_583.png"
      ]
     },
     "metadata": {},
     "output_type": "display_data"
    },
    {
     "data": {
      "text/html": [
       "<pre>Invalid PNG file\t file: /Users/juliusnagel/Desktop/picoutfit/data_and_model/zara_pics/zara_88.png</pre>"
      ],
      "text/plain": [
       "Invalid PNG file\t file: /Users/juliusnagel/Desktop/picoutfit/data_and_model/zara_pics/zara_88.png"
      ]
     },
     "metadata": {},
     "output_type": "display_data"
    },
    {
     "data": {
      "text/html": [
       "<pre>Invalid PNG file\t file: /Users/juliusnagel/Desktop/picoutfit/data_and_model/zara_pics/zara_792.png</pre>"
      ],
      "text/plain": [
       "Invalid PNG file\t file: /Users/juliusnagel/Desktop/picoutfit/data_and_model/zara_pics/zara_792.png"
      ]
     },
     "metadata": {},
     "output_type": "display_data"
    },
    {
     "data": {
      "text/html": [
       "<pre>Invalid PNG file\t file: /Users/juliusnagel/Desktop/picoutfit/data_and_model/zara_pics/zara_515.png</pre>"
      ],
      "text/plain": [
       "Invalid PNG file\t file: /Users/juliusnagel/Desktop/picoutfit/data_and_model/zara_pics/zara_515.png"
      ]
     },
     "metadata": {},
     "output_type": "display_data"
    },
    {
     "data": {
      "text/html": [
       "<pre>Invalid PNG file\t file: /Users/juliusnagel/Desktop/picoutfit/data_and_model/zara_pics/zara_165.png</pre>"
      ],
      "text/plain": [
       "Invalid PNG file\t file: /Users/juliusnagel/Desktop/picoutfit/data_and_model/zara_pics/zara_165.png"
      ]
     },
     "metadata": {},
     "output_type": "display_data"
    },
    {
     "data": {
      "text/html": [
       "<pre>Invalid PNG file\t file: /Users/juliusnagel/Desktop/picoutfit/data_and_model/zara_pics/zara_24.png</pre>"
      ],
      "text/plain": [
       "Invalid PNG file\t file: /Users/juliusnagel/Desktop/picoutfit/data_and_model/zara_pics/zara_24.png"
      ]
     },
     "metadata": {},
     "output_type": "display_data"
    },
    {
     "data": {
      "text/html": [
       "<pre>Invalid PNG file\t file: /Users/juliusnagel/Desktop/picoutfit/data_and_model/zara_pics/zara_294.png</pre>"
      ],
      "text/plain": [
       "Invalid PNG file\t file: /Users/juliusnagel/Desktop/picoutfit/data_and_model/zara_pics/zara_294.png"
      ]
     },
     "metadata": {},
     "output_type": "display_data"
    },
    {
     "data": {
      "text/html": [
       "<pre>Invalid PNG file\t file: /Users/juliusnagel/Desktop/picoutfit/data_and_model/zara_pics/zara_816.png</pre>"
      ],
      "text/plain": [
       "Invalid PNG file\t file: /Users/juliusnagel/Desktop/picoutfit/data_and_model/zara_pics/zara_816.png"
      ]
     },
     "metadata": {},
     "output_type": "display_data"
    },
    {
     "data": {
      "text/html": [
       "<pre>Invalid PNG file\t file: /Users/juliusnagel/Desktop/picoutfit/data_and_model/zara_pics/zara_798.png</pre>"
      ],
      "text/plain": [
       "Invalid PNG file\t file: /Users/juliusnagel/Desktop/picoutfit/data_and_model/zara_pics/zara_798.png"
      ]
     },
     "metadata": {},
     "output_type": "display_data"
    },
    {
     "data": {
      "text/html": [
       "<pre>Invalid PNG file\t file: /Users/juliusnagel/Desktop/picoutfit/data_and_model/zara_pics/zara_176.png</pre>"
      ],
      "text/plain": [
       "Invalid PNG file\t file: /Users/juliusnagel/Desktop/picoutfit/data_and_model/zara_pics/zara_176.png"
      ]
     },
     "metadata": {},
     "output_type": "display_data"
    },
    {
     "data": {
      "text/html": [
       "<pre>Invalid PNG file\t file: /Users/juliusnagel/Desktop/picoutfit/data_and_model/zara_pics/zara_268.png</pre>"
      ],
      "text/plain": [
       "Invalid PNG file\t file: /Users/juliusnagel/Desktop/picoutfit/data_and_model/zara_pics/zara_268.png"
      ]
     },
     "metadata": {},
     "output_type": "display_data"
    },
    {
     "data": {
      "text/html": [
       "<pre>Invalid PNG file\t file: /Users/juliusnagel/Desktop/picoutfit/data_and_model/zara_pics/zara_69.png</pre>"
      ],
      "text/plain": [
       "Invalid PNG file\t file: /Users/juliusnagel/Desktop/picoutfit/data_and_model/zara_pics/zara_69.png"
      ]
     },
     "metadata": {},
     "output_type": "display_data"
    },
    {
     "data": {
      "text/html": [
       "<pre>Invalid PNG file\t file: /Users/juliusnagel/Desktop/picoutfit/data_and_model/zara_pics/zara_608.png</pre>"
      ],
      "text/plain": [
       "Invalid PNG file\t file: /Users/juliusnagel/Desktop/picoutfit/data_and_model/zara_pics/zara_608.png"
      ]
     },
     "metadata": {},
     "output_type": "display_data"
    },
    {
     "data": {
      "text/html": [
       "<pre>Invalid PNG file\t file: /Users/juliusnagel/Desktop/picoutfit/data_and_model/zara_pics/zara_401.png</pre>"
      ],
      "text/plain": [
       "Invalid PNG file\t file: /Users/juliusnagel/Desktop/picoutfit/data_and_model/zara_pics/zara_401.png"
      ]
     },
     "metadata": {},
     "output_type": "display_data"
    },
    {
     "data": {
      "text/html": [
       "<pre>Invalid PNG file\t file: /Users/juliusnagel/Desktop/picoutfit/data_and_model/zara_pics/zara_659.png</pre>"
      ],
      "text/plain": [
       "Invalid PNG file\t file: /Users/juliusnagel/Desktop/picoutfit/data_and_model/zara_pics/zara_659.png"
      ]
     },
     "metadata": {},
     "output_type": "display_data"
    },
    {
     "data": {
      "text/html": [
       "<pre>Invalid PNG file\t file: /Users/juliusnagel/Desktop/picoutfit/data_and_model/zara_pics/zara_102.png</pre>"
      ],
      "text/plain": [
       "Invalid PNG file\t file: /Users/juliusnagel/Desktop/picoutfit/data_and_model/zara_pics/zara_102.png"
      ]
     },
     "metadata": {},
     "output_type": "display_data"
    },
    {
     "data": {
      "text/html": [
       "<pre>Invalid PNG file\t file: /Users/juliusnagel/Desktop/picoutfit/data_and_model/zara_pics/zara_213.png</pre>"
      ],
      "text/plain": [
       "Invalid PNG file\t file: /Users/juliusnagel/Desktop/picoutfit/data_and_model/zara_pics/zara_213.png"
      ]
     },
     "metadata": {},
     "output_type": "display_data"
    },
    {
     "data": {
      "text/html": [
       "<pre>Invalid PNG file\t file: /Users/juliusnagel/Desktop/picoutfit/data_and_model/zara_pics/zara_345.png</pre>"
      ],
      "text/plain": [
       "Invalid PNG file\t file: /Users/juliusnagel/Desktop/picoutfit/data_and_model/zara_pics/zara_345.png"
      ]
     },
     "metadata": {},
     "output_type": "display_data"
    },
    {
     "data": {
      "text/html": [
       "<pre>Invalid PNG file\t file: /Users/juliusnagel/Desktop/picoutfit/data_and_model/zara_pics/zara_632.png</pre>"
      ],
      "text/plain": [
       "Invalid PNG file\t file: /Users/juliusnagel/Desktop/picoutfit/data_and_model/zara_pics/zara_632.png"
      ]
     },
     "metadata": {},
     "output_type": "display_data"
    },
    {
     "data": {
      "text/html": [
       "<pre>Invalid PNG file\t file: /Users/juliusnagel/Desktop/picoutfit/data_and_model/zara_pics/zara_637.png</pre>"
      ],
      "text/plain": [
       "Invalid PNG file\t file: /Users/juliusnagel/Desktop/picoutfit/data_and_model/zara_pics/zara_637.png"
      ]
     },
     "metadata": {},
     "output_type": "display_data"
    },
    {
     "data": {
      "text/html": [
       "<pre>Invalid PNG file\t file: /Users/juliusnagel/Desktop/picoutfit/data_and_model/zara_pics/zara_742.png</pre>"
      ],
      "text/plain": [
       "Invalid PNG file\t file: /Users/juliusnagel/Desktop/picoutfit/data_and_model/zara_pics/zara_742.png"
      ]
     },
     "metadata": {},
     "output_type": "display_data"
    },
    {
     "data": {
      "text/html": [
       "<pre>Invalid PNG file\t file: /Users/juliusnagel/Desktop/picoutfit/data_and_model/zara_pics/zara_282.png</pre>"
      ],
      "text/plain": [
       "Invalid PNG file\t file: /Users/juliusnagel/Desktop/picoutfit/data_and_model/zara_pics/zara_282.png"
      ]
     },
     "metadata": {},
     "output_type": "display_data"
    },
    {
     "data": {
      "text/html": [
       "<pre>Invalid PNG file\t file: /Users/juliusnagel/Desktop/picoutfit/data_and_model/zara_pics/zara_781.png</pre>"
      ],
      "text/plain": [
       "Invalid PNG file\t file: /Users/juliusnagel/Desktop/picoutfit/data_and_model/zara_pics/zara_781.png"
      ]
     },
     "metadata": {},
     "output_type": "display_data"
    },
    {
     "data": {
      "text/html": [
       "<pre>Invalid PNG file\t file: /Users/juliusnagel/Desktop/picoutfit/data_and_model/zara_pics/zara_378.png</pre>"
      ],
      "text/plain": [
       "Invalid PNG file\t file: /Users/juliusnagel/Desktop/picoutfit/data_and_model/zara_pics/zara_378.png"
      ]
     },
     "metadata": {},
     "output_type": "display_data"
    },
    {
     "data": {
      "text/html": [
       "<pre>Invalid PNG file\t file: /Users/juliusnagel/Desktop/picoutfit/data_and_model/zara_pics/zara_246.png</pre>"
      ],
      "text/plain": [
       "Invalid PNG file\t file: /Users/juliusnagel/Desktop/picoutfit/data_and_model/zara_pics/zara_246.png"
      ]
     },
     "metadata": {},
     "output_type": "display_data"
    },
    {
     "data": {
      "text/html": [
       "<pre>Invalid PNG file\t file: /Users/juliusnagel/Desktop/picoutfit/data_and_model/zara_pics/zara_803.png</pre>"
      ],
      "text/plain": [
       "Invalid PNG file\t file: /Users/juliusnagel/Desktop/picoutfit/data_and_model/zara_pics/zara_803.png"
      ]
     },
     "metadata": {},
     "output_type": "display_data"
    },
    {
     "data": {
      "text/html": [
       "<pre>Invalid PNG file\t file: /Users/juliusnagel/Desktop/picoutfit/data_and_model/zara_pics/zara_419.png</pre>"
      ],
      "text/plain": [
       "Invalid PNG file\t file: /Users/juliusnagel/Desktop/picoutfit/data_and_model/zara_pics/zara_419.png"
      ]
     },
     "metadata": {},
     "output_type": "display_data"
    },
    {
     "data": {
      "text/html": [
       "<pre>Invalid PNG file\t file: /Users/juliusnagel/Desktop/picoutfit/data_and_model/zara_pics/zara_33.png</pre>"
      ],
      "text/plain": [
       "Invalid PNG file\t file: /Users/juliusnagel/Desktop/picoutfit/data_and_model/zara_pics/zara_33.png"
      ]
     },
     "metadata": {},
     "output_type": "display_data"
    },
    {
     "data": {
      "text/html": [
       "<pre>Invalid PNG file\t file: /Users/juliusnagel/Desktop/picoutfit/data_and_model/zara_pics/zara_417.png</pre>"
      ],
      "text/plain": [
       "Invalid PNG file\t file: /Users/juliusnagel/Desktop/picoutfit/data_and_model/zara_pics/zara_417.png"
      ]
     },
     "metadata": {},
     "output_type": "display_data"
    },
    {
     "data": {
      "text/html": [
       "<pre>Invalid PNG file\t file: /Users/juliusnagel/Desktop/picoutfit/data_and_model/zara_pics/zara_642.png</pre>"
      ],
      "text/plain": [
       "Invalid PNG file\t file: /Users/juliusnagel/Desktop/picoutfit/data_and_model/zara_pics/zara_642.png"
      ]
     },
     "metadata": {},
     "output_type": "display_data"
    },
    {
     "data": {
      "text/html": [
       "<pre>Invalid PNG file\t file: /Users/juliusnagel/Desktop/picoutfit/data_and_model/zara_pics/zara_197.png</pre>"
      ],
      "text/plain": [
       "Invalid PNG file\t file: /Users/juliusnagel/Desktop/picoutfit/data_and_model/zara_pics/zara_197.png"
      ]
     },
     "metadata": {},
     "output_type": "display_data"
    },
    {
     "data": {
      "text/html": [
       "<pre>Invalid PNG file\t file: /Users/juliusnagel/Desktop/picoutfit/data_and_model/zara_pics/zara_365.png</pre>"
      ],
      "text/plain": [
       "Invalid PNG file\t file: /Users/juliusnagel/Desktop/picoutfit/data_and_model/zara_pics/zara_365.png"
      ]
     },
     "metadata": {},
     "output_type": "display_data"
    },
    {
     "data": {
      "text/html": [
       "<pre>Invalid PNG file\t file: /Users/juliusnagel/Desktop/picoutfit/data_and_model/zara_pics/zara_57.png</pre>"
      ],
      "text/plain": [
       "Invalid PNG file\t file: /Users/juliusnagel/Desktop/picoutfit/data_and_model/zara_pics/zara_57.png"
      ]
     },
     "metadata": {},
     "output_type": "display_data"
    },
    {
     "data": {
      "text/html": [
       "<pre>Invalid PNG file\t file: /Users/juliusnagel/Desktop/picoutfit/data_and_model/zara_pics/zara_790.png</pre>"
      ],
      "text/plain": [
       "Invalid PNG file\t file: /Users/juliusnagel/Desktop/picoutfit/data_and_model/zara_pics/zara_790.png"
      ]
     },
     "metadata": {},
     "output_type": "display_data"
    },
    {
     "data": {
      "text/html": [
       "<pre>Invalid PNG file\t file: /Users/juliusnagel/Desktop/picoutfit/data_and_model/zara_pics/zara_36.png</pre>"
      ],
      "text/plain": [
       "Invalid PNG file\t file: /Users/juliusnagel/Desktop/picoutfit/data_and_model/zara_pics/zara_36.png"
      ]
     },
     "metadata": {},
     "output_type": "display_data"
    },
    {
     "data": {
      "text/html": [
       "<pre>Invalid PNG file\t file: /Users/juliusnagel/Desktop/picoutfit/data_and_model/zara_pics/zara_487.png</pre>"
      ],
      "text/plain": [
       "Invalid PNG file\t file: /Users/juliusnagel/Desktop/picoutfit/data_and_model/zara_pics/zara_487.png"
      ]
     },
     "metadata": {},
     "output_type": "display_data"
    },
    {
     "data": {
      "text/html": [
       "<pre>Invalid PNG file\t file: /Users/juliusnagel/Desktop/picoutfit/data_and_model/zara_pics/zara_238.png</pre>"
      ],
      "text/plain": [
       "Invalid PNG file\t file: /Users/juliusnagel/Desktop/picoutfit/data_and_model/zara_pics/zara_238.png"
      ]
     },
     "metadata": {},
     "output_type": "display_data"
    },
    {
     "data": {
      "text/html": [
       "<pre>Invalid PNG file\t file: /Users/juliusnagel/Desktop/picoutfit/data_and_model/zara_pics/zara_289.png</pre>"
      ],
      "text/plain": [
       "Invalid PNG file\t file: /Users/juliusnagel/Desktop/picoutfit/data_and_model/zara_pics/zara_289.png"
      ]
     },
     "metadata": {},
     "output_type": "display_data"
    },
    {
     "data": {
      "text/html": [
       "<pre>Invalid PNG file\t file: /Users/juliusnagel/Desktop/picoutfit/data_and_model/zara_pics/zara_612.png</pre>"
      ],
      "text/plain": [
       "Invalid PNG file\t file: /Users/juliusnagel/Desktop/picoutfit/data_and_model/zara_pics/zara_612.png"
      ]
     },
     "metadata": {},
     "output_type": "display_data"
    },
    {
     "data": {
      "text/html": [
       "<pre>Invalid PNG file\t file: /Users/juliusnagel/Desktop/picoutfit/data_and_model/zara_pics/zara_54.png</pre>"
      ],
      "text/plain": [
       "Invalid PNG file\t file: /Users/juliusnagel/Desktop/picoutfit/data_and_model/zara_pics/zara_54.png"
      ]
     },
     "metadata": {},
     "output_type": "display_data"
    },
    {
     "data": {
      "text/html": [
       "<pre>Invalid PNG file\t file: /Users/juliusnagel/Desktop/picoutfit/data_and_model/zara_pics/zara_369.png</pre>"
      ],
      "text/plain": [
       "Invalid PNG file\t file: /Users/juliusnagel/Desktop/picoutfit/data_and_model/zara_pics/zara_369.png"
      ]
     },
     "metadata": {},
     "output_type": "display_data"
    },
    {
     "data": {
      "text/html": [
       "<pre>Invalid PNG file\t file: /Users/juliusnagel/Desktop/picoutfit/data_and_model/zara_pics/zara_534.png</pre>"
      ],
      "text/plain": [
       "Invalid PNG file\t file: /Users/juliusnagel/Desktop/picoutfit/data_and_model/zara_pics/zara_534.png"
      ]
     },
     "metadata": {},
     "output_type": "display_data"
    },
    {
     "data": {
      "text/html": [
       "<pre>Invalid PNG file\t file: /Users/juliusnagel/Desktop/picoutfit/data_and_model/zara_pics/zara_258.png</pre>"
      ],
      "text/plain": [
       "Invalid PNG file\t file: /Users/juliusnagel/Desktop/picoutfit/data_and_model/zara_pics/zara_258.png"
      ]
     },
     "metadata": {},
     "output_type": "display_data"
    },
    {
     "data": {
      "text/html": [
       "<pre>Invalid PNG file\t file: /Users/juliusnagel/Desktop/picoutfit/data_and_model/zara_pics/zara_805.png</pre>"
      ],
      "text/plain": [
       "Invalid PNG file\t file: /Users/juliusnagel/Desktop/picoutfit/data_and_model/zara_pics/zara_805.png"
      ]
     },
     "metadata": {},
     "output_type": "display_data"
    },
    {
     "data": {
      "text/html": [
       "<pre>Invalid PNG file\t file: /Users/juliusnagel/Desktop/picoutfit/data_and_model/zara_pics/zara_375.png</pre>"
      ],
      "text/plain": [
       "Invalid PNG file\t file: /Users/juliusnagel/Desktop/picoutfit/data_and_model/zara_pics/zara_375.png"
      ]
     },
     "metadata": {},
     "output_type": "display_data"
    },
    {
     "data": {
      "text/html": [
       "<pre>Invalid PNG file\t file: /Users/juliusnagel/Desktop/picoutfit/data_and_model/zara_pics/zara_452.png</pre>"
      ],
      "text/plain": [
       "Invalid PNG file\t file: /Users/juliusnagel/Desktop/picoutfit/data_and_model/zara_pics/zara_452.png"
      ]
     },
     "metadata": {},
     "output_type": "display_data"
    },
    {
     "data": {
      "text/html": [
       "<pre>Invalid PNG file\t file: /Users/juliusnagel/Desktop/picoutfit/data_and_model/zara_pics/zara_240.png</pre>"
      ],
      "text/plain": [
       "Invalid PNG file\t file: /Users/juliusnagel/Desktop/picoutfit/data_and_model/zara_pics/zara_240.png"
      ]
     },
     "metadata": {},
     "output_type": "display_data"
    },
    {
     "data": {
      "text/html": [
       "<pre>Invalid PNG file\t file: /Users/juliusnagel/Desktop/picoutfit/data_and_model/zara_pics/zara_698.png</pre>"
      ],
      "text/plain": [
       "Invalid PNG file\t file: /Users/juliusnagel/Desktop/picoutfit/data_and_model/zara_pics/zara_698.png"
      ]
     },
     "metadata": {},
     "output_type": "display_data"
    },
    {
     "data": {
      "text/html": [
       "<pre>Invalid PNG file\t file: /Users/juliusnagel/Desktop/picoutfit/data_and_model/zara_pics/zara_695.png</pre>"
      ],
      "text/plain": [
       "Invalid PNG file\t file: /Users/juliusnagel/Desktop/picoutfit/data_and_model/zara_pics/zara_695.png"
      ]
     },
     "metadata": {},
     "output_type": "display_data"
    },
    {
     "data": {
      "text/html": [
       "<pre>Invalid PNG file\t file: /Users/juliusnagel/Desktop/picoutfit/data_and_model/zara_pics/zara_263.png</pre>"
      ],
      "text/plain": [
       "Invalid PNG file\t file: /Users/juliusnagel/Desktop/picoutfit/data_and_model/zara_pics/zara_263.png"
      ]
     },
     "metadata": {},
     "output_type": "display_data"
    },
    {
     "data": {
      "text/html": [
       "<pre>Invalid PNG file\t file: /Users/juliusnagel/Desktop/picoutfit/data_and_model/zara_pics/zara_290.png</pre>"
      ],
      "text/plain": [
       "Invalid PNG file\t file: /Users/juliusnagel/Desktop/picoutfit/data_and_model/zara_pics/zara_290.png"
      ]
     },
     "metadata": {},
     "output_type": "display_data"
    },
    {
     "data": {
      "text/html": [
       "<pre>Invalid PNG file\t file: /Users/juliusnagel/Desktop/picoutfit/data_and_model/zara_pics/zara_426.png</pre>"
      ],
      "text/plain": [
       "Invalid PNG file\t file: /Users/juliusnagel/Desktop/picoutfit/data_and_model/zara_pics/zara_426.png"
      ]
     },
     "metadata": {},
     "output_type": "display_data"
    },
    {
     "data": {
      "text/html": [
       "<pre>Invalid PNG file\t file: /Users/juliusnagel/Desktop/picoutfit/data_and_model/zara_pics/zara_668.png</pre>"
      ],
      "text/plain": [
       "Invalid PNG file\t file: /Users/juliusnagel/Desktop/picoutfit/data_and_model/zara_pics/zara_668.png"
      ]
     },
     "metadata": {},
     "output_type": "display_data"
    },
    {
     "data": {
      "text/html": [
       "<pre>Invalid PNG file\t file: /Users/juliusnagel/Desktop/picoutfit/data_and_model/zara_pics/zara_670.png</pre>"
      ],
      "text/plain": [
       "Invalid PNG file\t file: /Users/juliusnagel/Desktop/picoutfit/data_and_model/zara_pics/zara_670.png"
      ]
     },
     "metadata": {},
     "output_type": "display_data"
    },
    {
     "data": {
      "text/html": [
       "<pre>Invalid PNG file\t file: /Users/juliusnagel/Desktop/picoutfit/data_and_model/zara_pics/zara_759.png</pre>"
      ],
      "text/plain": [
       "Invalid PNG file\t file: /Users/juliusnagel/Desktop/picoutfit/data_and_model/zara_pics/zara_759.png"
      ]
     },
     "metadata": {},
     "output_type": "display_data"
    },
    {
     "data": {
      "text/html": [
       "<pre>Invalid PNG file\t file: /Users/juliusnagel/Desktop/picoutfit/data_and_model/zara_pics/zara_56.png</pre>"
      ],
      "text/plain": [
       "Invalid PNG file\t file: /Users/juliusnagel/Desktop/picoutfit/data_and_model/zara_pics/zara_56.png"
      ]
     },
     "metadata": {},
     "output_type": "display_data"
    },
    {
     "data": {
      "text/html": [
       "<pre>Invalid PNG file\t file: /Users/juliusnagel/Desktop/picoutfit/data_and_model/zara_pics/zara_71.png</pre>"
      ],
      "text/plain": [
       "Invalid PNG file\t file: /Users/juliusnagel/Desktop/picoutfit/data_and_model/zara_pics/zara_71.png"
      ]
     },
     "metadata": {},
     "output_type": "display_data"
    },
    {
     "data": {
      "text/html": [
       "<pre>Invalid PNG file\t file: /Users/juliusnagel/Desktop/picoutfit/data_and_model/zara_pics/zara_680.png</pre>"
      ],
      "text/plain": [
       "Invalid PNG file\t file: /Users/juliusnagel/Desktop/picoutfit/data_and_model/zara_pics/zara_680.png"
      ]
     },
     "metadata": {},
     "output_type": "display_data"
    },
    {
     "data": {
      "text/html": [
       "<pre>Invalid PNG file\t file: /Users/juliusnagel/Desktop/picoutfit/data_and_model/zara_pics/zara_518.png</pre>"
      ],
      "text/plain": [
       "Invalid PNG file\t file: /Users/juliusnagel/Desktop/picoutfit/data_and_model/zara_pics/zara_518.png"
      ]
     },
     "metadata": {},
     "output_type": "display_data"
    },
    {
     "data": {
      "text/html": [
       "<pre>Invalid PNG file\t file: /Users/juliusnagel/Desktop/picoutfit/data_and_model/zara_pics/zara_394.png</pre>"
      ],
      "text/plain": [
       "Invalid PNG file\t file: /Users/juliusnagel/Desktop/picoutfit/data_and_model/zara_pics/zara_394.png"
      ]
     },
     "metadata": {},
     "output_type": "display_data"
    },
    {
     "data": {
      "text/html": [
       "<pre>Invalid PNG file\t file: /Users/juliusnagel/Desktop/picoutfit/data_and_model/zara_pics/zara_40.png</pre>"
      ],
      "text/plain": [
       "Invalid PNG file\t file: /Users/juliusnagel/Desktop/picoutfit/data_and_model/zara_pics/zara_40.png"
      ]
     },
     "metadata": {},
     "output_type": "display_data"
    },
    {
     "data": {
      "text/html": [
       "<pre>Invalid PNG file\t file: /Users/juliusnagel/Desktop/picoutfit/data_and_model/zara_pics/zara_313.png</pre>"
      ],
      "text/plain": [
       "Invalid PNG file\t file: /Users/juliusnagel/Desktop/picoutfit/data_and_model/zara_pics/zara_313.png"
      ]
     },
     "metadata": {},
     "output_type": "display_data"
    },
    {
     "data": {
      "text/html": [
       "<pre>Invalid PNG file\t file: /Users/juliusnagel/Desktop/picoutfit/data_and_model/zara_pics/zara_327.png</pre>"
      ],
      "text/plain": [
       "Invalid PNG file\t file: /Users/juliusnagel/Desktop/picoutfit/data_and_model/zara_pics/zara_327.png"
      ]
     },
     "metadata": {},
     "output_type": "display_data"
    },
    {
     "data": {
      "text/html": [
       "<pre>Invalid PNG file\t file: /Users/juliusnagel/Desktop/picoutfit/data_and_model/zara_pics/zara_811.png</pre>"
      ],
      "text/plain": [
       "Invalid PNG file\t file: /Users/juliusnagel/Desktop/picoutfit/data_and_model/zara_pics/zara_811.png"
      ]
     },
     "metadata": {},
     "output_type": "display_data"
    },
    {
     "data": {
      "text/html": [
       "<pre>Invalid PNG file\t file: /Users/juliusnagel/Desktop/picoutfit/data_and_model/zara_pics/zara_178.png</pre>"
      ],
      "text/plain": [
       "Invalid PNG file\t file: /Users/juliusnagel/Desktop/picoutfit/data_and_model/zara_pics/zara_178.png"
      ]
     },
     "metadata": {},
     "output_type": "display_data"
    },
    {
     "data": {
      "text/html": [
       "<pre>Invalid PNG file\t file: /Users/juliusnagel/Desktop/picoutfit/data_and_model/zara_pics/zara_191.png</pre>"
      ],
      "text/plain": [
       "Invalid PNG file\t file: /Users/juliusnagel/Desktop/picoutfit/data_and_model/zara_pics/zara_191.png"
      ]
     },
     "metadata": {},
     "output_type": "display_data"
    },
    {
     "data": {
      "text/html": [
       "<pre>Invalid PNG file\t file: /Users/juliusnagel/Desktop/picoutfit/data_and_model/zara_pics/zara_569.png</pre>"
      ],
      "text/plain": [
       "Invalid PNG file\t file: /Users/juliusnagel/Desktop/picoutfit/data_and_model/zara_pics/zara_569.png"
      ]
     },
     "metadata": {},
     "output_type": "display_data"
    },
    {
     "data": {
      "text/html": [
       "<pre>Invalid PNG file\t file: /Users/juliusnagel/Desktop/picoutfit/data_and_model/zara_pics/zara_205.png</pre>"
      ],
      "text/plain": [
       "Invalid PNG file\t file: /Users/juliusnagel/Desktop/picoutfit/data_and_model/zara_pics/zara_205.png"
      ]
     },
     "metadata": {},
     "output_type": "display_data"
    },
    {
     "data": {
      "text/html": [
       "<pre>Invalid PNG file\t file: /Users/juliusnagel/Desktop/picoutfit/data_and_model/zara_pics/zara_517.png</pre>"
      ],
      "text/plain": [
       "Invalid PNG file\t file: /Users/juliusnagel/Desktop/picoutfit/data_and_model/zara_pics/zara_517.png"
      ]
     },
     "metadata": {},
     "output_type": "display_data"
    },
    {
     "data": {
      "text/html": [
       "<pre>Invalid PNG file\t file: /Users/juliusnagel/Desktop/picoutfit/data_and_model/zara_pics/zara_266.png</pre>"
      ],
      "text/plain": [
       "Invalid PNG file\t file: /Users/juliusnagel/Desktop/picoutfit/data_and_model/zara_pics/zara_266.png"
      ]
     },
     "metadata": {},
     "output_type": "display_data"
    },
    {
     "data": {
      "text/html": [
       "<pre>Invalid PNG file\t file: /Users/juliusnagel/Desktop/picoutfit/data_and_model/zara_pics/zara_23.png</pre>"
      ],
      "text/plain": [
       "Invalid PNG file\t file: /Users/juliusnagel/Desktop/picoutfit/data_and_model/zara_pics/zara_23.png"
      ]
     },
     "metadata": {},
     "output_type": "display_data"
    },
    {
     "data": {
      "text/html": [
       "<pre>Invalid PNG file\t file: /Users/juliusnagel/Desktop/picoutfit/data_and_model/zara_pics/zara_43.png</pre>"
      ],
      "text/plain": [
       "Invalid PNG file\t file: /Users/juliusnagel/Desktop/picoutfit/data_and_model/zara_pics/zara_43.png"
      ]
     },
     "metadata": {},
     "output_type": "display_data"
    },
    {
     "data": {
      "text/html": [
       "<pre>Invalid PNG file\t file: /Users/juliusnagel/Desktop/picoutfit/data_and_model/zara_pics/zara_836.png</pre>"
      ],
      "text/plain": [
       "Invalid PNG file\t file: /Users/juliusnagel/Desktop/picoutfit/data_and_model/zara_pics/zara_836.png"
      ]
     },
     "metadata": {},
     "output_type": "display_data"
    },
    {
     "data": {
      "text/html": [
       "<pre>Invalid PNG file\t file: /Users/juliusnagel/Desktop/picoutfit/data_and_model/zara_pics/zara_188.png</pre>"
      ],
      "text/plain": [
       "Invalid PNG file\t file: /Users/juliusnagel/Desktop/picoutfit/data_and_model/zara_pics/zara_188.png"
      ]
     },
     "metadata": {},
     "output_type": "display_data"
    },
    {
     "data": {
      "text/html": [
       "<pre>Invalid PNG file\t file: /Users/juliusnagel/Desktop/picoutfit/data_and_model/zara_pics/zara_545.png</pre>"
      ],
      "text/plain": [
       "Invalid PNG file\t file: /Users/juliusnagel/Desktop/picoutfit/data_and_model/zara_pics/zara_545.png"
      ]
     },
     "metadata": {},
     "output_type": "display_data"
    },
    {
     "data": {
      "text/html": [
       "<pre>Invalid PNG file\t file: /Users/juliusnagel/Desktop/picoutfit/data_and_model/zara_pics/zara_274.png</pre>"
      ],
      "text/plain": [
       "Invalid PNG file\t file: /Users/juliusnagel/Desktop/picoutfit/data_and_model/zara_pics/zara_274.png"
      ]
     },
     "metadata": {},
     "output_type": "display_data"
    },
    {
     "data": {
      "text/html": [
       "<pre>Invalid PNG file\t file: /Users/juliusnagel/Desktop/picoutfit/data_and_model/zara_pics/zara_244.png</pre>"
      ],
      "text/plain": [
       "Invalid PNG file\t file: /Users/juliusnagel/Desktop/picoutfit/data_and_model/zara_pics/zara_244.png"
      ]
     },
     "metadata": {},
     "output_type": "display_data"
    },
    {
     "data": {
      "text/html": [
       "<pre>Invalid PNG file\t file: /Users/juliusnagel/Desktop/picoutfit/data_and_model/zara_pics/zara_7.png</pre>"
      ],
      "text/plain": [
       "Invalid PNG file\t file: /Users/juliusnagel/Desktop/picoutfit/data_and_model/zara_pics/zara_7.png"
      ]
     },
     "metadata": {},
     "output_type": "display_data"
    },
    {
     "data": {
      "text/html": [
       "<pre>Invalid PNG file\t file: /Users/juliusnagel/Desktop/picoutfit/data_and_model/zara_pics/zara_348.png</pre>"
      ],
      "text/plain": [
       "Invalid PNG file\t file: /Users/juliusnagel/Desktop/picoutfit/data_and_model/zara_pics/zara_348.png"
      ]
     },
     "metadata": {},
     "output_type": "display_data"
    },
    {
     "data": {
      "text/html": [
       "<pre>Invalid PNG file\t file: /Users/juliusnagel/Desktop/picoutfit/data_and_model/zara_pics/zara_286.png</pre>"
      ],
      "text/plain": [
       "Invalid PNG file\t file: /Users/juliusnagel/Desktop/picoutfit/data_and_model/zara_pics/zara_286.png"
      ]
     },
     "metadata": {},
     "output_type": "display_data"
    },
    {
     "data": {
      "text/html": [
       "<pre>Invalid PNG file\t file: /Users/juliusnagel/Desktop/picoutfit/data_and_model/zara_pics/zara_574.png</pre>"
      ],
      "text/plain": [
       "Invalid PNG file\t file: /Users/juliusnagel/Desktop/picoutfit/data_and_model/zara_pics/zara_574.png"
      ]
     },
     "metadata": {},
     "output_type": "display_data"
    },
    {
     "data": {
      "text/html": [
       "<pre>Invalid PNG file\t file: /Users/juliusnagel/Desktop/picoutfit/data_and_model/zara_pics/zara_234.png</pre>"
      ],
      "text/plain": [
       "Invalid PNG file\t file: /Users/juliusnagel/Desktop/picoutfit/data_and_model/zara_pics/zara_234.png"
      ]
     },
     "metadata": {},
     "output_type": "display_data"
    },
    {
     "data": {
      "text/html": [
       "<pre>Invalid PNG file\t file: /Users/juliusnagel/Desktop/picoutfit/data_and_model/zara_pics/zara_505.png</pre>"
      ],
      "text/plain": [
       "Invalid PNG file\t file: /Users/juliusnagel/Desktop/picoutfit/data_and_model/zara_pics/zara_505.png"
      ]
     },
     "metadata": {},
     "output_type": "display_data"
    },
    {
     "data": {
      "text/html": [
       "<pre>Invalid PNG file\t file: /Users/juliusnagel/Desktop/picoutfit/data_and_model/zara_pics/zara_690.png</pre>"
      ],
      "text/plain": [
       "Invalid PNG file\t file: /Users/juliusnagel/Desktop/picoutfit/data_and_model/zara_pics/zara_690.png"
      ]
     },
     "metadata": {},
     "output_type": "display_data"
    },
    {
     "data": {
      "text/html": [
       "<pre>Invalid PNG file\t file: /Users/juliusnagel/Desktop/picoutfit/data_and_model/zara_pics/zara_448.png</pre>"
      ],
      "text/plain": [
       "Invalid PNG file\t file: /Users/juliusnagel/Desktop/picoutfit/data_and_model/zara_pics/zara_448.png"
      ]
     },
     "metadata": {},
     "output_type": "display_data"
    },
    {
     "data": {
      "text/html": [
       "<pre>Invalid PNG file\t file: /Users/juliusnagel/Desktop/picoutfit/data_and_model/zara_pics/zara_817.png</pre>"
      ],
      "text/plain": [
       "Invalid PNG file\t file: /Users/juliusnagel/Desktop/picoutfit/data_and_model/zara_pics/zara_817.png"
      ]
     },
     "metadata": {},
     "output_type": "display_data"
    },
    {
     "data": {
      "text/html": [
       "<pre>Invalid PNG file\t file: /Users/juliusnagel/Desktop/picoutfit/data_and_model/zara_pics/zara_269.png</pre>"
      ],
      "text/plain": [
       "Invalid PNG file\t file: /Users/juliusnagel/Desktop/picoutfit/data_and_model/zara_pics/zara_269.png"
      ]
     },
     "metadata": {},
     "output_type": "display_data"
    },
    {
     "data": {
      "text/html": [
       "<pre>Invalid PNG file\t file: /Users/juliusnagel/Desktop/picoutfit/data_and_model/zara_pics/zara_353.png</pre>"
      ],
      "text/plain": [
       "Invalid PNG file\t file: /Users/juliusnagel/Desktop/picoutfit/data_and_model/zara_pics/zara_353.png"
      ]
     },
     "metadata": {},
     "output_type": "display_data"
    },
    {
     "data": {
      "text/html": [
       "<pre>Invalid PNG file\t file: /Users/juliusnagel/Desktop/picoutfit/data_and_model/zara_pics/zara_539.png</pre>"
      ],
      "text/plain": [
       "Invalid PNG file\t file: /Users/juliusnagel/Desktop/picoutfit/data_and_model/zara_pics/zara_539.png"
      ]
     },
     "metadata": {},
     "output_type": "display_data"
    },
    {
     "data": {
      "text/html": [
       "<pre>Invalid PNG file\t file: /Users/juliusnagel/Desktop/picoutfit/data_and_model/zara_pics/zara_430.png</pre>"
      ],
      "text/plain": [
       "Invalid PNG file\t file: /Users/juliusnagel/Desktop/picoutfit/data_and_model/zara_pics/zara_430.png"
      ]
     },
     "metadata": {},
     "output_type": "display_data"
    },
    {
     "data": {
      "text/html": [
       "<pre>Invalid PNG file\t file: /Users/juliusnagel/Desktop/picoutfit/data_and_model/zara_pics/zara_169.png</pre>"
      ],
      "text/plain": [
       "Invalid PNG file\t file: /Users/juliusnagel/Desktop/picoutfit/data_and_model/zara_pics/zara_169.png"
      ]
     },
     "metadata": {},
     "output_type": "display_data"
    },
    {
     "data": {
      "text/html": [
       "<pre>Invalid PNG file\t file: /Users/juliusnagel/Desktop/picoutfit/data_and_model/zara_pics/zara_527.png</pre>"
      ],
      "text/plain": [
       "Invalid PNG file\t file: /Users/juliusnagel/Desktop/picoutfit/data_and_model/zara_pics/zara_527.png"
      ]
     },
     "metadata": {},
     "output_type": "display_data"
    },
    {
     "data": {
      "text/html": [
       "<pre>Invalid PNG file\t file: /Users/juliusnagel/Desktop/picoutfit/data_and_model/zara_pics/zara_671.png</pre>"
      ],
      "text/plain": [
       "Invalid PNG file\t file: /Users/juliusnagel/Desktop/picoutfit/data_and_model/zara_pics/zara_671.png"
      ]
     },
     "metadata": {},
     "output_type": "display_data"
    },
    {
     "data": {
      "text/html": [
       "<pre>Invalid PNG file\t file: /Users/juliusnagel/Desktop/picoutfit/data_and_model/zara_pics/zara_342.png</pre>"
      ],
      "text/plain": [
       "Invalid PNG file\t file: /Users/juliusnagel/Desktop/picoutfit/data_and_model/zara_pics/zara_342.png"
      ]
     },
     "metadata": {},
     "output_type": "display_data"
    },
    {
     "data": {
      "text/html": [
       "<pre>Invalid PNG file\t file: /Users/juliusnagel/Desktop/picoutfit/data_and_model/zara_pics/zara_731.png</pre>"
      ],
      "text/plain": [
       "Invalid PNG file\t file: /Users/juliusnagel/Desktop/picoutfit/data_and_model/zara_pics/zara_731.png"
      ]
     },
     "metadata": {},
     "output_type": "display_data"
    },
    {
     "data": {
      "text/html": [
       "<pre>Invalid PNG file\t file: /Users/juliusnagel/Desktop/picoutfit/data_and_model/zara_pics/zara_340.png</pre>"
      ],
      "text/plain": [
       "Invalid PNG file\t file: /Users/juliusnagel/Desktop/picoutfit/data_and_model/zara_pics/zara_340.png"
      ]
     },
     "metadata": {},
     "output_type": "display_data"
    },
    {
     "data": {
      "text/html": [
       "<pre>Invalid PNG file\t file: /Users/juliusnagel/Desktop/picoutfit/data_and_model/zara_pics/zara_613.png</pre>"
      ],
      "text/plain": [
       "Invalid PNG file\t file: /Users/juliusnagel/Desktop/picoutfit/data_and_model/zara_pics/zara_613.png"
      ]
     },
     "metadata": {},
     "output_type": "display_data"
    },
    {
     "data": {
      "text/html": [
       "<pre>Invalid PNG file\t file: /Users/juliusnagel/Desktop/picoutfit/data_and_model/zara_pics/zara_472.png</pre>"
      ],
      "text/plain": [
       "Invalid PNG file\t file: /Users/juliusnagel/Desktop/picoutfit/data_and_model/zara_pics/zara_472.png"
      ]
     },
     "metadata": {},
     "output_type": "display_data"
    },
    {
     "data": {
      "text/html": [
       "<pre>Invalid PNG file\t file: /Users/juliusnagel/Desktop/picoutfit/data_and_model/zara_pics/zara_168.png</pre>"
      ],
      "text/plain": [
       "Invalid PNG file\t file: /Users/juliusnagel/Desktop/picoutfit/data_and_model/zara_pics/zara_168.png"
      ]
     },
     "metadata": {},
     "output_type": "display_data"
    },
    {
     "data": {
      "text/html": [
       "<pre>Invalid PNG file\t file: /Users/juliusnagel/Desktop/picoutfit/data_and_model/zara_pics/zara_344.png</pre>"
      ],
      "text/plain": [
       "Invalid PNG file\t file: /Users/juliusnagel/Desktop/picoutfit/data_and_model/zara_pics/zara_344.png"
      ]
     },
     "metadata": {},
     "output_type": "display_data"
    },
    {
     "data": {
      "text/html": [
       "<pre>Invalid PNG file\t file: /Users/juliusnagel/Desktop/picoutfit/data_and_model/zara_pics/zara_193.png</pre>"
      ],
      "text/plain": [
       "Invalid PNG file\t file: /Users/juliusnagel/Desktop/picoutfit/data_and_model/zara_pics/zara_193.png"
      ]
     },
     "metadata": {},
     "output_type": "display_data"
    },
    {
     "data": {
      "text/html": [
       "<pre>Invalid PNG file\t file: /Users/juliusnagel/Desktop/picoutfit/data_and_model/zara_pics/zara_616.png</pre>"
      ],
      "text/plain": [
       "Invalid PNG file\t file: /Users/juliusnagel/Desktop/picoutfit/data_and_model/zara_pics/zara_616.png"
      ]
     },
     "metadata": {},
     "output_type": "display_data"
    },
    {
     "data": {
      "text/html": [
       "<pre>Invalid PNG file\t file: /Users/juliusnagel/Desktop/picoutfit/data_and_model/zara_pics/zara_412.png</pre>"
      ],
      "text/plain": [
       "Invalid PNG file\t file: /Users/juliusnagel/Desktop/picoutfit/data_and_model/zara_pics/zara_412.png"
      ]
     },
     "metadata": {},
     "output_type": "display_data"
    },
    {
     "data": {
      "text/html": [
       "<pre>Invalid PNG file\t file: /Users/juliusnagel/Desktop/picoutfit/data_and_model/zara_pics/zara_796.png</pre>"
      ],
      "text/plain": [
       "Invalid PNG file\t file: /Users/juliusnagel/Desktop/picoutfit/data_and_model/zara_pics/zara_796.png"
      ]
     },
     "metadata": {},
     "output_type": "display_data"
    },
    {
     "data": {
      "text/html": [
       "<pre>Invalid PNG file\t file: /Users/juliusnagel/Desktop/picoutfit/data_and_model/zara_pics/zara_622.png</pre>"
      ],
      "text/plain": [
       "Invalid PNG file\t file: /Users/juliusnagel/Desktop/picoutfit/data_and_model/zara_pics/zara_622.png"
      ]
     },
     "metadata": {},
     "output_type": "display_data"
    },
    {
     "data": {
      "text/html": [
       "<pre>Invalid PNG file\t file: /Users/juliusnagel/Desktop/picoutfit/data_and_model/zara_pics/zara_204.png</pre>"
      ],
      "text/plain": [
       "Invalid PNG file\t file: /Users/juliusnagel/Desktop/picoutfit/data_and_model/zara_pics/zara_204.png"
      ]
     },
     "metadata": {},
     "output_type": "display_data"
    },
    {
     "data": {
      "text/html": [
       "<pre>Invalid PNG file\t file: /Users/juliusnagel/Desktop/picoutfit/data_and_model/zara_pics/zara_763.png</pre>"
      ],
      "text/plain": [
       "Invalid PNG file\t file: /Users/juliusnagel/Desktop/picoutfit/data_and_model/zara_pics/zara_763.png"
      ]
     },
     "metadata": {},
     "output_type": "display_data"
    },
    {
     "data": {
      "text/html": [
       "<pre>Invalid PNG file\t file: /Users/juliusnagel/Desktop/picoutfit/data_and_model/zara_pics/zara_339.png</pre>"
      ],
      "text/plain": [
       "Invalid PNG file\t file: /Users/juliusnagel/Desktop/picoutfit/data_and_model/zara_pics/zara_339.png"
      ]
     },
     "metadata": {},
     "output_type": "display_data"
    },
    {
     "data": {
      "text/html": [
       "<pre>Invalid PNG file\t file: /Users/juliusnagel/Desktop/picoutfit/data_and_model/zara_pics/zara_9.png</pre>"
      ],
      "text/plain": [
       "Invalid PNG file\t file: /Users/juliusnagel/Desktop/picoutfit/data_and_model/zara_pics/zara_9.png"
      ]
     },
     "metadata": {},
     "output_type": "display_data"
    },
    {
     "data": {
      "text/html": [
       "<pre>Invalid PNG file\t file: /Users/juliusnagel/Desktop/picoutfit/data_and_model/zara_pics/zara_469.png</pre>"
      ],
      "text/plain": [
       "Invalid PNG file\t file: /Users/juliusnagel/Desktop/picoutfit/data_and_model/zara_pics/zara_469.png"
      ]
     },
     "metadata": {},
     "output_type": "display_data"
    },
    {
     "data": {
      "text/html": [
       "<pre>Invalid PNG file\t file: /Users/juliusnagel/Desktop/picoutfit/data_and_model/zara_pics/zara_786.png</pre>"
      ],
      "text/plain": [
       "Invalid PNG file\t file: /Users/juliusnagel/Desktop/picoutfit/data_and_model/zara_pics/zara_786.png"
      ]
     },
     "metadata": {},
     "output_type": "display_data"
    },
    {
     "data": {
      "text/html": [
       "<pre>Invalid PNG file\t file: /Users/juliusnagel/Desktop/picoutfit/data_and_model/zara_pics/zara_482.png</pre>"
      ],
      "text/plain": [
       "Invalid PNG file\t file: /Users/juliusnagel/Desktop/picoutfit/data_and_model/zara_pics/zara_482.png"
      ]
     },
     "metadata": {},
     "output_type": "display_data"
    },
    {
     "data": {
      "text/html": [
       "<pre>Invalid PNG file\t file: /Users/juliusnagel/Desktop/picoutfit/data_and_model/zara_pics/zara_703.png</pre>"
      ],
      "text/plain": [
       "Invalid PNG file\t file: /Users/juliusnagel/Desktop/picoutfit/data_and_model/zara_pics/zara_703.png"
      ]
     },
     "metadata": {},
     "output_type": "display_data"
    },
    {
     "data": {
      "text/html": [
       "<pre>Invalid PNG file\t file: /Users/juliusnagel/Desktop/picoutfit/data_and_model/zara_pics/zara_579.png</pre>"
      ],
      "text/plain": [
       "Invalid PNG file\t file: /Users/juliusnagel/Desktop/picoutfit/data_and_model/zara_pics/zara_579.png"
      ]
     },
     "metadata": {},
     "output_type": "display_data"
    },
    {
     "data": {
      "text/html": [
       "<pre>Invalid PNG file\t file: /Users/juliusnagel/Desktop/picoutfit/data_and_model/zara_pics/zara_226.png</pre>"
      ],
      "text/plain": [
       "Invalid PNG file\t file: /Users/juliusnagel/Desktop/picoutfit/data_and_model/zara_pics/zara_226.png"
      ]
     },
     "metadata": {},
     "output_type": "display_data"
    },
    {
     "data": {
      "text/html": [
       "<pre>Invalid PNG file\t file: /Users/juliusnagel/Desktop/picoutfit/data_and_model/zara_pics/zara_669.png</pre>"
      ],
      "text/plain": [
       "Invalid PNG file\t file: /Users/juliusnagel/Desktop/picoutfit/data_and_model/zara_pics/zara_669.png"
      ]
     },
     "metadata": {},
     "output_type": "display_data"
    },
    {
     "data": {
      "text/html": [
       "<pre>Invalid PNG file\t file: /Users/juliusnagel/Desktop/picoutfit/data_and_model/zara_pics/zara_132.png</pre>"
      ],
      "text/plain": [
       "Invalid PNG file\t file: /Users/juliusnagel/Desktop/picoutfit/data_and_model/zara_pics/zara_132.png"
      ]
     },
     "metadata": {},
     "output_type": "display_data"
    },
    {
     "data": {
      "text/html": [
       "<pre>Invalid PNG file\t file: /Users/juliusnagel/Desktop/picoutfit/data_and_model/zara_pics/zara_601.png</pre>"
      ],
      "text/plain": [
       "Invalid PNG file\t file: /Users/juliusnagel/Desktop/picoutfit/data_and_model/zara_pics/zara_601.png"
      ]
     },
     "metadata": {},
     "output_type": "display_data"
    },
    {
     "data": {
      "text/html": [
       "<pre>Invalid PNG file\t file: /Users/juliusnagel/Desktop/picoutfit/data_and_model/zara_pics/zara_523.png</pre>"
      ],
      "text/plain": [
       "Invalid PNG file\t file: /Users/juliusnagel/Desktop/picoutfit/data_and_model/zara_pics/zara_523.png"
      ]
     },
     "metadata": {},
     "output_type": "display_data"
    },
    {
     "data": {
      "text/html": [
       "<pre>Invalid PNG file\t file: /Users/juliusnagel/Desktop/picoutfit/data_and_model/zara_pics/zara_84.png</pre>"
      ],
      "text/plain": [
       "Invalid PNG file\t file: /Users/juliusnagel/Desktop/picoutfit/data_and_model/zara_pics/zara_84.png"
      ]
     },
     "metadata": {},
     "output_type": "display_data"
    },
    {
     "data": {
      "text/html": [
       "<pre>Invalid PNG file\t file: /Users/juliusnagel/Desktop/picoutfit/data_and_model/zara_pics/zara_13.png</pre>"
      ],
      "text/plain": [
       "Invalid PNG file\t file: /Users/juliusnagel/Desktop/picoutfit/data_and_model/zara_pics/zara_13.png"
      ]
     },
     "metadata": {},
     "output_type": "display_data"
    },
    {
     "data": {
      "text/html": [
       "<pre>Invalid PNG file\t file: /Users/juliusnagel/Desktop/picoutfit/data_and_model/zara_pics/zara_27.png</pre>"
      ],
      "text/plain": [
       "Invalid PNG file\t file: /Users/juliusnagel/Desktop/picoutfit/data_and_model/zara_pics/zara_27.png"
      ]
     },
     "metadata": {},
     "output_type": "display_data"
    },
    {
     "data": {
      "text/html": [
       "<pre>Invalid PNG file\t file: /Users/juliusnagel/Desktop/picoutfit/data_and_model/zara_pics/zara_550.png</pre>"
      ],
      "text/plain": [
       "Invalid PNG file\t file: /Users/juliusnagel/Desktop/picoutfit/data_and_model/zara_pics/zara_550.png"
      ]
     },
     "metadata": {},
     "output_type": "display_data"
    },
    {
     "data": {
      "text/html": [
       "<pre>Invalid PNG file\t file: /Users/juliusnagel/Desktop/picoutfit/data_and_model/zara_pics/zara_127.png</pre>"
      ],
      "text/plain": [
       "Invalid PNG file\t file: /Users/juliusnagel/Desktop/picoutfit/data_and_model/zara_pics/zara_127.png"
      ]
     },
     "metadata": {},
     "output_type": "display_data"
    },
    {
     "data": {
      "text/html": [
       "<pre>Invalid PNG file\t file: /Users/juliusnagel/Desktop/picoutfit/data_and_model/zara_pics/zara_307.png</pre>"
      ],
      "text/plain": [
       "Invalid PNG file\t file: /Users/juliusnagel/Desktop/picoutfit/data_and_model/zara_pics/zara_307.png"
      ]
     },
     "metadata": {},
     "output_type": "display_data"
    },
    {
     "data": {
      "text/html": [
       "<pre>Invalid PNG file\t file: /Users/juliusnagel/Desktop/picoutfit/data_and_model/zara_pics/zara_566.png</pre>"
      ],
      "text/plain": [
       "Invalid PNG file\t file: /Users/juliusnagel/Desktop/picoutfit/data_and_model/zara_pics/zara_566.png"
      ]
     },
     "metadata": {},
     "output_type": "display_data"
    },
    {
     "data": {
      "text/html": [
       "<pre>Invalid PNG file\t file: /Users/juliusnagel/Desktop/picoutfit/data_and_model/zara_pics/zara_363.png</pre>"
      ],
      "text/plain": [
       "Invalid PNG file\t file: /Users/juliusnagel/Desktop/picoutfit/data_and_model/zara_pics/zara_363.png"
      ]
     },
     "metadata": {},
     "output_type": "display_data"
    },
    {
     "data": {
      "text/html": [
       "<pre>Invalid PNG file\t file: /Users/juliusnagel/Desktop/picoutfit/data_and_model/zara_pics/zara_131.png</pre>"
      ],
      "text/plain": [
       "Invalid PNG file\t file: /Users/juliusnagel/Desktop/picoutfit/data_and_model/zara_pics/zara_131.png"
      ]
     },
     "metadata": {},
     "output_type": "display_data"
    },
    {
     "data": {
      "text/html": [
       "<pre>Invalid PNG file\t file: /Users/juliusnagel/Desktop/picoutfit/data_and_model/zara_pics/zara_337.png</pre>"
      ],
      "text/plain": [
       "Invalid PNG file\t file: /Users/juliusnagel/Desktop/picoutfit/data_and_model/zara_pics/zara_337.png"
      ]
     },
     "metadata": {},
     "output_type": "display_data"
    },
    {
     "data": {
      "text/html": [
       "<pre>Invalid PNG file\t file: /Users/juliusnagel/Desktop/picoutfit/data_and_model/zara_pics/zara_696.png</pre>"
      ],
      "text/plain": [
       "Invalid PNG file\t file: /Users/juliusnagel/Desktop/picoutfit/data_and_model/zara_pics/zara_696.png"
      ]
     },
     "metadata": {},
     "output_type": "display_data"
    },
    {
     "data": {
      "text/html": [
       "<pre>Invalid PNG file\t file: /Users/juliusnagel/Desktop/picoutfit/data_and_model/zara_pics/zara_819.png</pre>"
      ],
      "text/plain": [
       "Invalid PNG file\t file: /Users/juliusnagel/Desktop/picoutfit/data_and_model/zara_pics/zara_819.png"
      ]
     },
     "metadata": {},
     "output_type": "display_data"
    },
    {
     "data": {
      "text/html": [
       "<pre>Invalid PNG file\t file: /Users/juliusnagel/Desktop/picoutfit/data_and_model/zara_pics/zara_475.png</pre>"
      ],
      "text/plain": [
       "Invalid PNG file\t file: /Users/juliusnagel/Desktop/picoutfit/data_and_model/zara_pics/zara_475.png"
      ]
     },
     "metadata": {},
     "output_type": "display_data"
    },
    {
     "data": {
      "text/html": [
       "<pre>Invalid PNG file\t file: /Users/juliusnagel/Desktop/picoutfit/data_and_model/zara_pics/zara_222.png</pre>"
      ],
      "text/plain": [
       "Invalid PNG file\t file: /Users/juliusnagel/Desktop/picoutfit/data_and_model/zara_pics/zara_222.png"
      ]
     },
     "metadata": {},
     "output_type": "display_data"
    },
    {
     "data": {
      "text/html": [
       "<pre>Invalid PNG file\t file: /Users/juliusnagel/Desktop/picoutfit/data_and_model/zara_pics/zara_331.png</pre>"
      ],
      "text/plain": [
       "Invalid PNG file\t file: /Users/juliusnagel/Desktop/picoutfit/data_and_model/zara_pics/zara_331.png"
      ]
     },
     "metadata": {},
     "output_type": "display_data"
    },
    {
     "data": {
      "text/html": [
       "<pre>Invalid PNG file\t file: /Users/juliusnagel/Desktop/picoutfit/data_and_model/zara_pics/zara_271.png</pre>"
      ],
      "text/plain": [
       "Invalid PNG file\t file: /Users/juliusnagel/Desktop/picoutfit/data_and_model/zara_pics/zara_271.png"
      ]
     },
     "metadata": {},
     "output_type": "display_data"
    },
    {
     "data": {
      "text/html": [
       "<pre>Invalid PNG file\t file: /Users/juliusnagel/Desktop/picoutfit/data_and_model/zara_pics/zara_806.png</pre>"
      ],
      "text/plain": [
       "Invalid PNG file\t file: /Users/juliusnagel/Desktop/picoutfit/data_and_model/zara_pics/zara_806.png"
      ]
     },
     "metadata": {},
     "output_type": "display_data"
    },
    {
     "data": {
      "text/html": [
       "<pre>Invalid PNG file\t file: /Users/juliusnagel/Desktop/picoutfit/data_and_model/zara_pics/zara_159.png</pre>"
      ],
      "text/plain": [
       "Invalid PNG file\t file: /Users/juliusnagel/Desktop/picoutfit/data_and_model/zara_pics/zara_159.png"
      ]
     },
     "metadata": {},
     "output_type": "display_data"
    },
    {
     "data": {
      "text/html": [
       "<pre>Invalid PNG file\t file: /Users/juliusnagel/Desktop/picoutfit/data_and_model/zara_pics/zara_287.png</pre>"
      ],
      "text/plain": [
       "Invalid PNG file\t file: /Users/juliusnagel/Desktop/picoutfit/data_and_model/zara_pics/zara_287.png"
      ]
     },
     "metadata": {},
     "output_type": "display_data"
    },
    {
     "data": {
      "text/html": [
       "<pre>Invalid PNG file\t file: /Users/juliusnagel/Desktop/picoutfit/data_and_model/zara_pics/zara_55.png</pre>"
      ],
      "text/plain": [
       "Invalid PNG file\t file: /Users/juliusnagel/Desktop/picoutfit/data_and_model/zara_pics/zara_55.png"
      ]
     },
     "metadata": {},
     "output_type": "display_data"
    },
    {
     "data": {
      "text/html": [
       "<pre>Invalid PNG file\t file: /Users/juliusnagel/Desktop/picoutfit/data_and_model/zara_pics/zara_493.png</pre>"
      ],
      "text/plain": [
       "Invalid PNG file\t file: /Users/juliusnagel/Desktop/picoutfit/data_and_model/zara_pics/zara_493.png"
      ]
     },
     "metadata": {},
     "output_type": "display_data"
    },
    {
     "data": {
      "text/html": [
       "<pre>Invalid PNG file\t file: /Users/juliusnagel/Desktop/picoutfit/data_and_model/zara_pics/zara_64.png</pre>"
      ],
      "text/plain": [
       "Invalid PNG file\t file: /Users/juliusnagel/Desktop/picoutfit/data_and_model/zara_pics/zara_64.png"
      ]
     },
     "metadata": {},
     "output_type": "display_data"
    },
    {
     "data": {
      "text/html": [
       "<pre>Invalid PNG file\t file: /Users/juliusnagel/Desktop/picoutfit/data_and_model/zara_pics/zara_809.png</pre>"
      ],
      "text/plain": [
       "Invalid PNG file\t file: /Users/juliusnagel/Desktop/picoutfit/data_and_model/zara_pics/zara_809.png"
      ]
     },
     "metadata": {},
     "output_type": "display_data"
    },
    {
     "data": {
      "text/html": [
       "<pre>Invalid PNG file\t file: /Users/juliusnagel/Desktop/picoutfit/data_and_model/zara_pics/zara_747.png</pre>"
      ],
      "text/plain": [
       "Invalid PNG file\t file: /Users/juliusnagel/Desktop/picoutfit/data_and_model/zara_pics/zara_747.png"
      ]
     },
     "metadata": {},
     "output_type": "display_data"
    },
    {
     "data": {
      "text/html": [
       "<pre>Invalid PNG file\t file: /Users/juliusnagel/Desktop/picoutfit/data_and_model/zara_pics/zara_305.png</pre>"
      ],
      "text/plain": [
       "Invalid PNG file\t file: /Users/juliusnagel/Desktop/picoutfit/data_and_model/zara_pics/zara_305.png"
      ]
     },
     "metadata": {},
     "output_type": "display_data"
    },
    {
     "data": {
      "text/html": [
       "<pre>Invalid PNG file\t file: /Users/juliusnagel/Desktop/picoutfit/data_and_model/zara_pics/zara_702.png</pre>"
      ],
      "text/plain": [
       "Invalid PNG file\t file: /Users/juliusnagel/Desktop/picoutfit/data_and_model/zara_pics/zara_702.png"
      ]
     },
     "metadata": {},
     "output_type": "display_data"
    },
    {
     "data": {
      "text/html": [
       "<pre>Invalid PNG file\t file: /Users/juliusnagel/Desktop/picoutfit/data_and_model/zara_pics/zara_502.png</pre>"
      ],
      "text/plain": [
       "Invalid PNG file\t file: /Users/juliusnagel/Desktop/picoutfit/data_and_model/zara_pics/zara_502.png"
      ]
     },
     "metadata": {},
     "output_type": "display_data"
    },
    {
     "data": {
      "text/html": [
       "<pre>Invalid PNG file\t file: /Users/juliusnagel/Desktop/picoutfit/data_and_model/zara_pics/zara_476.png</pre>"
      ],
      "text/plain": [
       "Invalid PNG file\t file: /Users/juliusnagel/Desktop/picoutfit/data_and_model/zara_pics/zara_476.png"
      ]
     },
     "metadata": {},
     "output_type": "display_data"
    },
    {
     "data": {
      "text/html": [
       "<pre>Invalid PNG file\t file: /Users/juliusnagel/Desktop/picoutfit/data_and_model/zara_pics/zara_645.png</pre>"
      ],
      "text/plain": [
       "Invalid PNG file\t file: /Users/juliusnagel/Desktop/picoutfit/data_and_model/zara_pics/zara_645.png"
      ]
     },
     "metadata": {},
     "output_type": "display_data"
    },
    {
     "data": {
      "text/html": [
       "<pre>Invalid PNG file\t file: /Users/juliusnagel/Desktop/picoutfit/data_and_model/zara_pics/zara_498.png</pre>"
      ],
      "text/plain": [
       "Invalid PNG file\t file: /Users/juliusnagel/Desktop/picoutfit/data_and_model/zara_pics/zara_498.png"
      ]
     },
     "metadata": {},
     "output_type": "display_data"
    },
    {
     "data": {
      "text/html": [
       "<pre>Invalid PNG file\t file: /Users/juliusnagel/Desktop/picoutfit/data_and_model/zara_pics/zara_128.png</pre>"
      ],
      "text/plain": [
       "Invalid PNG file\t file: /Users/juliusnagel/Desktop/picoutfit/data_and_model/zara_pics/zara_128.png"
      ]
     },
     "metadata": {},
     "output_type": "display_data"
    },
    {
     "data": {
      "text/html": [
       "<pre>Invalid PNG file\t file: /Users/juliusnagel/Desktop/picoutfit/data_and_model/zara_pics/zara_647.png</pre>"
      ],
      "text/plain": [
       "Invalid PNG file\t file: /Users/juliusnagel/Desktop/picoutfit/data_and_model/zara_pics/zara_647.png"
      ]
     },
     "metadata": {},
     "output_type": "display_data"
    },
    {
     "data": {
      "text/html": [
       "<pre>Invalid PNG file\t file: /Users/juliusnagel/Desktop/picoutfit/data_and_model/zara_pics/zara_101.png</pre>"
      ],
      "text/plain": [
       "Invalid PNG file\t file: /Users/juliusnagel/Desktop/picoutfit/data_and_model/zara_pics/zara_101.png"
      ]
     },
     "metadata": {},
     "output_type": "display_data"
    },
    {
     "data": {
      "text/html": [
       "<pre>Invalid PNG file\t file: /Users/juliusnagel/Desktop/picoutfit/data_and_model/zara_pics/zara_66.png</pre>"
      ],
      "text/plain": [
       "Invalid PNG file\t file: /Users/juliusnagel/Desktop/picoutfit/data_and_model/zara_pics/zara_66.png"
      ]
     },
     "metadata": {},
     "output_type": "display_data"
    },
    {
     "data": {
      "text/html": [
       "<pre>Invalid PNG file\t file: /Users/juliusnagel/Desktop/picoutfit/data_and_model/zara_pics/zara_725.png</pre>"
      ],
      "text/plain": [
       "Invalid PNG file\t file: /Users/juliusnagel/Desktop/picoutfit/data_and_model/zara_pics/zara_725.png"
      ]
     },
     "metadata": {},
     "output_type": "display_data"
    },
    {
     "data": {
      "text/html": [
       "<pre>Invalid PNG file\t file: /Users/juliusnagel/Desktop/picoutfit/data_and_model/zara_pics/zara_793.png</pre>"
      ],
      "text/plain": [
       "Invalid PNG file\t file: /Users/juliusnagel/Desktop/picoutfit/data_and_model/zara_pics/zara_793.png"
      ]
     },
     "metadata": {},
     "output_type": "display_data"
    },
    {
     "data": {
      "text/html": [
       "<pre>Invalid PNG file\t file: /Users/juliusnagel/Desktop/picoutfit/data_and_model/zara_pics/zara_30.png</pre>"
      ],
      "text/plain": [
       "Invalid PNG file\t file: /Users/juliusnagel/Desktop/picoutfit/data_and_model/zara_pics/zara_30.png"
      ]
     },
     "metadata": {},
     "output_type": "display_data"
    },
    {
     "data": {
      "text/html": [
       "<pre>Invalid PNG file\t file: /Users/juliusnagel/Desktop/picoutfit/data_and_model/zara_pics/zara_96.png</pre>"
      ],
      "text/plain": [
       "Invalid PNG file\t file: /Users/juliusnagel/Desktop/picoutfit/data_and_model/zara_pics/zara_96.png"
      ]
     },
     "metadata": {},
     "output_type": "display_data"
    },
    {
     "data": {
      "text/html": [
       "<pre>Invalid PNG file\t file: /Users/juliusnagel/Desktop/picoutfit/data_and_model/zara_pics/zara_126.png</pre>"
      ],
      "text/plain": [
       "Invalid PNG file\t file: /Users/juliusnagel/Desktop/picoutfit/data_and_model/zara_pics/zara_126.png"
      ]
     },
     "metadata": {},
     "output_type": "display_data"
    },
    {
     "data": {
      "text/html": [
       "<pre>Invalid PNG file\t file: /Users/juliusnagel/Desktop/picoutfit/data_and_model/zara_pics/zara_617.png</pre>"
      ],
      "text/plain": [
       "Invalid PNG file\t file: /Users/juliusnagel/Desktop/picoutfit/data_and_model/zara_pics/zara_617.png"
      ]
     },
     "metadata": {},
     "output_type": "display_data"
    },
    {
     "data": {
      "text/html": [
       "<pre>Invalid PNG file\t file: /Users/juliusnagel/Desktop/picoutfit/data_and_model/zara_pics/zara_540.png</pre>"
      ],
      "text/plain": [
       "Invalid PNG file\t file: /Users/juliusnagel/Desktop/picoutfit/data_and_model/zara_pics/zara_540.png"
      ]
     },
     "metadata": {},
     "output_type": "display_data"
    },
    {
     "data": {
      "text/html": [
       "<pre>Invalid PNG file\t file: /Users/juliusnagel/Desktop/picoutfit/data_and_model/zara_pics/zara_312.png</pre>"
      ],
      "text/plain": [
       "Invalid PNG file\t file: /Users/juliusnagel/Desktop/picoutfit/data_and_model/zara_pics/zara_312.png"
      ]
     },
     "metadata": {},
     "output_type": "display_data"
    }
   ],
   "source": [
    "#image preprocessing\n",
    "\n",
    "image_sarray = gl.image_analysis.load_images(path1, \"auto\", with_path=False, ignore_failure=True)\n",
    "#resized_images = graphlab.image_analysis.resize(image_sarray, 256, 256, 3)\n",
    "    \n",
    "#image_sf = graphlab.SFrame()"
   ]
  },
  {
   "cell_type": "code",
   "execution_count": null,
   "metadata": {
    "collapsed": true
   },
   "outputs": [],
   "source": []
  },
  {
   "cell_type": "code",
   "execution_count": null,
   "metadata": {
    "collapsed": true
   },
   "outputs": [],
   "source": []
  },
  {
   "cell_type": "code",
   "execution_count": null,
   "metadata": {
    "collapsed": true
   },
   "outputs": [],
   "source": [
    "image_sf = gl.SFrame(path_to_dir + \n",
    "                     'zara_pics'\n",
    "                    )\n",
    "\n",
    "image_sf"
   ]
  },
  {
   "cell_type": "code",
   "execution_count": 32,
   "metadata": {
    "collapsed": false
   },
   "outputs": [
    {
     "name": "stderr",
     "output_type": "stream",
     "text": [
      "2016-03-21 10:25:31,066 [INFO] graphlab.cython.cy_server, 176: GraphLab Create v1.8.5 started. Logging: /tmp/graphlab_server_1458552328.log\n"
     ]
    },
    {
     "name": "stdout",
     "output_type": "stream",
     "text": [
      "This trial license of GraphLab Create is assigned to juliusnagel.n@gmail.com and will expire on April 16, 2016. Please contact trial@dato.com for licensing options or to request a free non-commercial license for personal or academic use.\n"
     ]
    },
    {
     "data": {
      "text/plain": [
       "\n",
       "### network layers ###\n",
       "layer[0]: ConvolutionLayer\n",
       "  init_random = gaussian\n",
       "  padding = 0\n",
       "  stride = 4\n",
       "  num_channels = 96\n",
       "  num_groups = 1\n",
       "  kernel_size = 11\n",
       "layer[1]: RectifiedLinearLayer\n",
       "layer[2]: MaxPoolingLayer\n",
       "  padding = 0\n",
       "  stride = 2\n",
       "  kernel_size = 3\n",
       "layer[3]: LocalResponseNormalizationLayer\n",
       "  alpha = 0.001\n",
       "  beta = 0.75\n",
       "  knorm = 1\n",
       "  local_size = 5\n",
       "layer[4]: ConvolutionLayer\n",
       "  init_random = gaussian\n",
       "  padding = 2\n",
       "  stride = 1\n",
       "  num_channels = 256\n",
       "  num_groups = 2\n",
       "  kernel_size = 5\n",
       "layer[5]: RectifiedLinearLayer\n",
       "layer[6]: MaxPoolingLayer\n",
       "  padding = 0\n",
       "  stride = 2\n",
       "  kernel_size = 3\n",
       "layer[7]: LocalResponseNormalizationLayer\n",
       "  alpha = 0.001\n",
       "  beta = 0.75\n",
       "  knorm = 1\n",
       "  local_size = 5\n",
       "layer[8]: ConvolutionLayer\n",
       "  init_random = gaussian\n",
       "  padding = 1\n",
       "  stride = 1\n",
       "  num_channels = 384\n",
       "  num_groups = 1\n",
       "  kernel_size = 3\n",
       "layer[9]: RectifiedLinearLayer\n",
       "layer[10]: ConvolutionLayer\n",
       "  init_random = gaussian\n",
       "  padding = 1\n",
       "  stride = 1\n",
       "  num_channels = 384\n",
       "  num_groups = 2\n",
       "  kernel_size = 3\n",
       "layer[11]: RectifiedLinearLayer\n",
       "layer[12]: ConvolutionLayer\n",
       "  init_random = gaussian\n",
       "  padding = 1\n",
       "  stride = 1\n",
       "  init_bias = 1.0\n",
       "  num_channels = 256\n",
       "  num_groups = 2\n",
       "  kernel_size = 3\n",
       "layer[13]: RectifiedLinearLayer\n",
       "layer[14]: MaxPoolingLayer\n",
       "  padding = 0\n",
       "  stride = 2\n",
       "  kernel_size = 3\n",
       "layer[15]: FlattenLayer\n",
       "layer[16]: FullConnectionLayer\n",
       "  init_sigma = 0.005\n",
       "  init_random = gaussian\n",
       "  init_bias = 1.0\n",
       "  num_hidden_units = 4096\n",
       "layer[17]: RectifiedLinearLayer\n",
       "layer[18]: DropoutLayer\n",
       "  threshold = 0.5\n",
       "layer[19]: FullConnectionLayer\n",
       "  init_sigma = 0.005\n",
       "  init_random = gaussian\n",
       "  init_bias = 1.0\n",
       "  num_hidden_units = 4096\n",
       "layer[20]: RectifiedLinearLayer\n",
       "layer[21]: DropoutLayer\n",
       "  threshold = 0.5\n",
       "layer[22]: FullConnectionLayer\n",
       "  init_sigma = 0.01\n",
       "  init_random = gaussian\n",
       "  init_bias = 0\n",
       "  num_hidden_units = 1000\n",
       "layer[23]: SoftmaxLayer\n",
       "### end network layers ###\n",
       "\n",
       "### network parameters ###\n",
       "model_checkpoint_path = /data/imagenet/result/model_checkpoint\n",
       "learning_rate = 0.01\n",
       "random_type = gaussian\n",
       "input_shape = 3,227,227\n",
       "learning_rate_gamma = 0.1\n",
       "bias_learning_rate = 0.02\n",
       "model_checkpoint_interval = 5\n",
       "random_mirror = 1\n",
       "batch_size = 200\n",
       "learning_rate_step = 100000\n",
       "random_crop = 1\n",
       "learning_rate_schedule = exponential_decay\n",
       "l2_regularization = 0.0005\n",
       "metric = accuracy,recall@5\n",
       "momentum = 0.9\n",
       "init_sigma = 0.01\n",
       "### end network parameters ###"
      ]
     },
     "execution_count": 32,
     "metadata": {},
     "output_type": "execute_result"
    }
   ],
   "source": [
    "pretrained_model = gl.load_model(path_to_dir + \n",
    "                                 'imagenet_model')\n",
    "\n",
    "#show network structure of model\n",
    "pretrained_model['network']"
   ]
  },
  {
   "cell_type": "code",
   "execution_count": 10,
   "metadata": {
    "collapsed": false
   },
   "outputs": [
    {
     "ename": "SyntaxError",
     "evalue": "invalid syntax (<ipython-input-10-8a5a25fdccc1>, line 1)",
     "output_type": "error",
     "traceback": [
      "\u001b[0;36m  File \u001b[0;32m\"<ipython-input-10-8a5a25fdccc1>\"\u001b[0;36m, line \u001b[0;32m1\u001b[0m\n\u001b[0;31m    <img src=\"Image/AlexNet.png\"></img>\u001b[0m\n\u001b[0m    ^\u001b[0m\n\u001b[0;31mSyntaxError\u001b[0m\u001b[0;31m:\u001b[0m invalid syntax\n"
     ]
    }
   ],
   "source": [
    "<img src=\"Image/AlexNet.png\"></img>"
   ]
  },
  {
   "cell_type": "code",
   "execution_count": null,
   "metadata": {
    "collapsed": true
   },
   "outputs": [],
   "source": [
    "extracted_features = pretrained_model.extract_features(image_sf[['image']]) #may take a while\n",
    "image_sf['features'] = extracted_features #adding the extracted_features to the SFrame"
   ]
  },
  {
   "cell_type": "code",
   "execution_count": null,
   "metadata": {
    "collapsed": true
   },
   "outputs": [],
   "source": [
    "nn_model = gl.nearest_neighbors.create(image_sf, \n",
    "                                       features=['features']) "
   ]
  },
  {
   "cell_type": "code",
   "execution_count": null,
   "metadata": {
    "collapsed": true
   },
   "outputs": [],
   "source": [
    "pic = image_sf[xxxx]\n",
    "pic['image'].show()"
   ]
  },
  {
   "cell_type": "code",
   "execution_count": null,
   "metadata": {
    "collapsed": true
   },
   "outputs": [],
   "source": [
    "similar_to_pic = nn_model.query(pic, k=10, verbose=True)\n",
    "similar_to_pic"
   ]
  },
  {
   "cell_type": "code",
   "execution_count": null,
   "metadata": {
    "collapsed": true
   },
   "outputs": [],
   "source": [
    "pic_images = image_sf.join(similar_to_pic, \n",
    "                                   on={'_id':'reference_label'}\n",
    "                                  ).sort('distance')\n",
    "\n",
    "##show first 10 nearest neighbors\n",
    "pic_images['image'][0:10].show()"
   ]
  }
 ],
 "metadata": {
  "kernelspec": {
   "display_name": "Python 2",
   "language": "python",
   "name": "python2"
  },
  "language_info": {
   "codemirror_mode": {
    "name": "ipython",
    "version": 2
   },
   "file_extension": ".py",
   "mimetype": "text/x-python",
   "name": "python",
   "nbconvert_exporter": "python",
   "pygments_lexer": "ipython2",
   "version": "2.7.11"
  }
 },
 "nbformat": 4,
 "nbformat_minor": 0
}
