{
 "cells": [
  {
   "cell_type": "markdown",
   "metadata": {},
   "source": [
    "# Image Similarity using *AlexNet* and *knn classifier*"
   ]
  },
  {
   "cell_type": "markdown",
   "metadata": {},
   "source": [
    "## Imalytix "
   ]
  },
  {
   "cell_type": "code",
   "execution_count": null,
   "metadata": {
    "collapsed": true
   },
   "outputs": [],
   "source": [
    "import graphlab as gl\n",
    "import os\n",
    "from IPython.display import Image\n",
    "from IPython.display import display"
   ]
  },
  {
   "cell_type": "markdown",
   "metadata": {},
   "source": [
    "\n",
    "Set path to directory where model and data is stored:"
   ]
  },
  {
   "cell_type": "code",
   "execution_count": null,
   "metadata": {
    "collapsed": true
   },
   "outputs": [],
   "source": [
    "#for example\n",
    "\n",
    "path_to_dir = \"../data_and_model/\" "
   ]
  },
  {
   "cell_type": "markdown",
   "metadata": {},
   "source": [
    "## Different code depending on if you have to extract features from dataset or you have an existing SFrame with extracted features stored \n",
    "\n",
    "+ 1) Loading existing SFrame \n",
    "+ 2) Extracting features and saving SFrame"
   ]
  },
  {
   "cell_type": "markdown",
   "metadata": {},
   "source": [
    "1) Loading pre-trained SFrame and displaying sample image:"
   ]
  },
  {
   "cell_type": "code",
   "execution_count": null,
   "metadata": {
    "collapsed": true
   },
   "outputs": [],
   "source": [
    "image_sf = gl.load_sframe(path_to_dir + \"Name_of_directory\")\n",
    "image_sf[1]"
   ]
  },
  {
   "cell_type": "markdown",
   "metadata": {},
   "source": [
    "\n",
    "2) Store new data in SFrame and extract features:"
   ]
  },
  {
   "cell_type": "code",
   "execution_count": null,
   "metadata": {
    "collapsed": true
   },
   "outputs": [],
   "source": [
    "#add name of directory containing the images\n",
    "path1 = path_to_dir + \"Neues_Set\" "
   ]
  },
  {
   "cell_type": "code",
   "execution_count": null,
   "metadata": {
    "collapsed": true
   },
   "outputs": [],
   "source": [
    "image_sarray = gl.image_analysis.load_images(path1, \"auto\", with_path=False, ignore_failure=True)\n",
    "\n",
    "#convert sarray into SFrame \n",
    "image_sf = gl.SFrame(image_sarray)"
   ]
  },
  {
   "cell_type": "code",
   "execution_count": null,
   "metadata": {
    "collapsed": true
   },
   "outputs": [],
   "source": [
    "#Add 'id' column to SFrame, which is needed if we want to display knn with graphlab canvas:\n",
    "\n",
    "id = list(range(0, len(image_sf), 1))\n",
    "id\n",
    "\n",
    "image_sf['id'] = id\n",
    "#image_sf.head(5)"
   ]
  },
  {
   "cell_type": "markdown",
   "metadata": {},
   "source": [
    "### Load deep neural network:"
   ]
  },
  {
   "cell_type": "markdown",
   "metadata": {},
   "source": [
    "<img src=\"../AlexNet/AlexNet.png/\">"
   ]
  },
  {
   "cell_type": "code",
   "execution_count": null,
   "metadata": {
    "collapsed": true
   },
   "outputs": [],
   "source": [
    "pretrained_model = gl.load_model(path_to_dir + \n",
    "                                 'imagenet_model')\n",
    "\n",
    "#Optional: show network structure of model\n",
    "#pretrained_model['network']"
   ]
  },
  {
   "cell_type": "markdown",
   "metadata": {},
   "source": [
    "Extract features and store features in a new column of the SFrame:"
   ]
  },
  {
   "cell_type": "code",
   "execution_count": null,
   "metadata": {
    "collapsed": true
   },
   "outputs": [],
   "source": [
    "extracted_features = pretrained_model.extract_features(image_sf[['image']]) #may take a while !!!\n",
    "image_sf['features'] = extracted_features "
   ]
  },
  {
   "cell_type": "code",
   "execution_count": null,
   "metadata": {
    "collapsed": true
   },
   "outputs": [],
   "source": [
    "#display sample image. Image is represented as a 4096 dimensional feature list\n",
    "\n",
    "image_sf[1]"
   ]
  },
  {
   "cell_type": "markdown",
   "metadata": {},
   "source": [
    "Save the SFrame locally:"
   ]
  },
  {
   "cell_type": "code",
   "execution_count": null,
   "metadata": {
    "collapsed": true
   },
   "outputs": [],
   "source": [
    "gl.SFrame.save(image_sf,'../data_and_model/Name_you_want')"
   ]
  },
  {
   "cell_type": "markdown",
   "metadata": {},
   "source": [
    "--------------------------------------------------------------------------------------------------------------------"
   ]
  },
  {
   "cell_type": "markdown",
   "metadata": {},
   "source": [
    "The above is to extract features from our baseline data, from which we will find nearest neighbors (so for example pictures from Hugo Boss).\n",
    "\n",
    "\n",
    "Once we get an input picture, we have to:\n",
    "\n",
    "+ Extract its features \n",
    "+ Fin k nearest neighbors"
   ]
  },
  {
   "cell_type": "code",
   "execution_count": null,
   "metadata": {
    "collapsed": true
   },
   "outputs": [],
   "source": [
    "new_pic = path_to_dir + \"Name_of_directory\"  ### In our case the incoming URL\n",
    "\n",
    "image_sarray_new = gl.image_analysis.load_images(new_pic, \"auto\", with_path=False, ignore_failure=True)\n",
    "image_sf_new = gl.SFrame(image_sarray_new)\n",
    "\n",
    "\n",
    "extracted_features = pretrained_model.extract_features(image_sf_new) \n",
    "image_sf_new['features'] = extracted_features #adding the extracted_features to the SFrame\n",
    "\n",
    "new_pic = image_sf_new[0:1]\n",
    "\n",
    "#Optional: display image in graphlab canvas\n",
    "#new_pic['image'].show()"
   ]
  },
  {
   "cell_type": "markdown",
   "metadata": {},
   "source": [
    "---------------------------------------------------------------------------------------------------------------------"
   ]
  },
  {
   "cell_type": "markdown",
   "metadata": {},
   "source": [
    "### Define nearest neighbors classifier:"
   ]
  },
  {
   "cell_type": "code",
   "execution_count": null,
   "metadata": {
    "collapsed": true
   },
   "outputs": [],
   "source": [
    "nn_model = gl.nearest_neighbors.create(image_sf, \n",
    "                                       features=['features']) "
   ]
  },
  {
   "cell_type": "markdown",
   "metadata": {},
   "source": [
    "Search for k neares neighbors:"
   ]
  },
  {
   "cell_type": "code",
   "execution_count": null,
   "metadata": {
    "collapsed": true
   },
   "outputs": [],
   "source": [
    "#In this case k= 10\n",
    "\n",
    "similar_to_new_pic = nn_model.query(new_pic, k=10, verbose=True)\n",
    "similar_to_new_pic"
   ]
  },
  {
   "cell_type": "markdown",
   "metadata": {},
   "source": [
    "If we want to display similar images with graphlab canvas:"
   ]
  },
  {
   "cell_type": "code",
   "execution_count": null,
   "metadata": {
    "collapsed": true
   },
   "outputs": [],
   "source": [
    "pic_images = image_sf.join(similar_to_new_pic,on={'id':'reference_label'}).sort('distance')\n",
    "\n",
    "##show first 10 nearest neighbors\n",
    "pic_images['image'][0:10].show()"
   ]
  }
 ],
 "metadata": {
  "kernelspec": {
   "display_name": "Python 2",
   "language": "python",
   "name": "python2"
  },
  "language_info": {
   "codemirror_mode": {
    "name": "ipython",
    "version": 2
   },
   "file_extension": ".py",
   "mimetype": "text/x-python",
   "name": "python",
   "nbconvert_exporter": "python",
   "pygments_lexer": "ipython2",
   "version": "2.7.11"
  }
 },
 "nbformat": 4,
 "nbformat_minor": 0
}
